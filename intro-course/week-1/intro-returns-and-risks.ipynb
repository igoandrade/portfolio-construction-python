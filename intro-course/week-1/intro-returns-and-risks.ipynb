{
 "cells": [
  {
   "cell_type": "markdown",
   "id": "9b45f405",
   "metadata": {},
   "source": [
    "# Fundamentos de risco e retornos"
   ]
  },
  {
   "cell_type": "code",
   "execution_count": 26,
   "id": "5e2ee1fc",
   "metadata": {},
   "outputs": [],
   "source": [
    "# Bibliiotecas importadas\n",
    "import numpy as np\n",
    "import pandas as pd \n",
    "import yfinance as yf\n",
    "%matplotlib inline"
   ]
  },
  {
   "cell_type": "markdown",
   "id": "690f1a41",
   "metadata": {},
   "source": [
    "## Retorno Simples ($R_{t, t+1}$)"
   ]
  },
  {
   "cell_type": "markdown",
   "id": "842450f0",
   "metadata": {},
   "source": [
    "$$R_{t, t+1} = \\dfrac{P_{t+1} - P_t}{P_t}$$  \n",
    "\n",
    "ou alternativamente  \n",
    "\n",
    "$$R_{t, t+1} = \\dfrac{P_{t+1}}{P_t} - 1$$"
   ]
  },
  {
   "cell_type": "markdown",
   "id": "5b0bfa0b",
   "metadata": {},
   "source": [
    "Exemplo:"
   ]
  },
  {
   "cell_type": "code",
   "execution_count": 27,
   "id": "e2f64dea",
   "metadata": {},
   "outputs": [],
   "source": [
    "empresas = {\n",
    "    'Banco do Brasil S.A.': 'BBAS3.SA',\n",
    "    'Banco Bradesco S.A.': 'BBDC3.SA',\n",
    "    'Itaúsa - Investimentos Itaú SA': 'ITSA4.SA'\n",
    "}"
   ]
  },
  {
   "cell_type": "code",
   "execution_count": 35,
   "id": "4a229016",
   "metadata": {},
   "outputs": [
    {
     "data": {
      "text/html": [
       "<div>\n",
       "<style scoped>\n",
       "    .dataframe tbody tr th:only-of-type {\n",
       "        vertical-align: middle;\n",
       "    }\n",
       "\n",
       "    .dataframe tbody tr th {\n",
       "        vertical-align: top;\n",
       "    }\n",
       "\n",
       "    .dataframe thead th {\n",
       "        text-align: right;\n",
       "    }\n",
       "</style>\n",
       "<table border=\"1\" class=\"dataframe\">\n",
       "  <thead>\n",
       "    <tr style=\"text-align: right;\">\n",
       "      <th></th>\n",
       "      <th>BBAS3.SA</th>\n",
       "      <th>BBDC3.SA</th>\n",
       "      <th>ITSA4.SA</th>\n",
       "    </tr>\n",
       "    <tr>\n",
       "      <th>Date</th>\n",
       "      <th></th>\n",
       "      <th></th>\n",
       "      <th></th>\n",
       "    </tr>\n",
       "  </thead>\n",
       "  <tbody>\n",
       "    <tr>\n",
       "      <th>2020-01-02</th>\n",
       "      <td>48.002701</td>\n",
       "      <td>27.186686</td>\n",
       "      <td>12.605556</td>\n",
       "    </tr>\n",
       "    <tr>\n",
       "      <th>2020-01-03</th>\n",
       "      <td>47.922398</td>\n",
       "      <td>26.762453</td>\n",
       "      <td>12.421083</td>\n",
       "    </tr>\n",
       "    <tr>\n",
       "      <th>2020-01-06</th>\n",
       "      <td>47.288910</td>\n",
       "      <td>26.608953</td>\n",
       "      <td>12.394733</td>\n",
       "    </tr>\n",
       "    <tr>\n",
       "      <th>2020-01-07</th>\n",
       "      <td>46.932011</td>\n",
       "      <td>26.156132</td>\n",
       "      <td>12.227830</td>\n",
       "    </tr>\n",
       "    <tr>\n",
       "      <th>2020-01-08</th>\n",
       "      <td>46.503735</td>\n",
       "      <td>25.757040</td>\n",
       "      <td>12.043359</td>\n",
       "    </tr>\n",
       "  </tbody>\n",
       "</table>\n",
       "</div>"
      ],
      "text/plain": [
       "             BBAS3.SA   BBDC3.SA   ITSA4.SA\n",
       "Date                                       \n",
       "2020-01-02  48.002701  27.186686  12.605556\n",
       "2020-01-03  47.922398  26.762453  12.421083\n",
       "2020-01-06  47.288910  26.608953  12.394733\n",
       "2020-01-07  46.932011  26.156132  12.227830\n",
       "2020-01-08  46.503735  25.757040  12.043359"
      ]
     },
     "execution_count": 35,
     "metadata": {},
     "output_type": "execute_result"
    }
   ],
   "source": [
    "tickers = list(empresas.values())\n",
    "prices = yf.download(tickers=tickers, start='2019-12-31', end='2020-12-31', progress=False)['Adj Close']\n",
    "prices.head()"
   ]
  },
  {
   "cell_type": "code",
   "execution_count": 36,
   "id": "b83de5a2",
   "metadata": {},
   "outputs": [
    {
     "data": {
      "text/plain": [
       "(248, 3)"
      ]
     },
     "execution_count": 36,
     "metadata": {},
     "output_type": "execute_result"
    }
   ],
   "source": [
    "prices.shape"
   ]
  },
  {
   "cell_type": "markdown",
   "id": "8f467a26",
   "metadata": {},
   "source": [
    "Cálculo do Retorno Simples para cada ação."
   ]
  },
  {
   "cell_type": "code",
   "execution_count": 61,
   "id": "c9c6ab9d",
   "metadata": {},
   "outputs": [
    {
     "data": {
      "text/html": [
       "<div>\n",
       "<style scoped>\n",
       "    .dataframe tbody tr th:only-of-type {\n",
       "        vertical-align: middle;\n",
       "    }\n",
       "\n",
       "    .dataframe tbody tr th {\n",
       "        vertical-align: top;\n",
       "    }\n",
       "\n",
       "    .dataframe thead th {\n",
       "        text-align: right;\n",
       "    }\n",
       "</style>\n",
       "<table border=\"1\" class=\"dataframe\">\n",
       "  <thead>\n",
       "    <tr style=\"text-align: right;\">\n",
       "      <th></th>\n",
       "      <th>BBAS3.SA</th>\n",
       "      <th>BBDC3.SA</th>\n",
       "      <th>ITSA4.SA</th>\n",
       "    </tr>\n",
       "    <tr>\n",
       "      <th>Date</th>\n",
       "      <th></th>\n",
       "      <th></th>\n",
       "      <th></th>\n",
       "    </tr>\n",
       "  </thead>\n",
       "  <tbody>\n",
       "    <tr>\n",
       "      <th>2020-01-02</th>\n",
       "      <td>NaN</td>\n",
       "      <td>NaN</td>\n",
       "      <td>NaN</td>\n",
       "    </tr>\n",
       "    <tr>\n",
       "      <th>2020-01-03</th>\n",
       "      <td>-0.001673</td>\n",
       "      <td>-0.015604</td>\n",
       "      <td>-0.014634</td>\n",
       "    </tr>\n",
       "    <tr>\n",
       "      <th>2020-01-06</th>\n",
       "      <td>-0.013219</td>\n",
       "      <td>-0.005736</td>\n",
       "      <td>-0.002121</td>\n",
       "    </tr>\n",
       "    <tr>\n",
       "      <th>2020-01-07</th>\n",
       "      <td>-0.007547</td>\n",
       "      <td>-0.017018</td>\n",
       "      <td>-0.013466</td>\n",
       "    </tr>\n",
       "    <tr>\n",
       "      <th>2020-01-08</th>\n",
       "      <td>-0.009125</td>\n",
       "      <td>-0.015258</td>\n",
       "      <td>-0.015086</td>\n",
       "    </tr>\n",
       "  </tbody>\n",
       "</table>\n",
       "</div>"
      ],
      "text/plain": [
       "            BBAS3.SA  BBDC3.SA  ITSA4.SA\n",
       "Date                                    \n",
       "2020-01-02       NaN       NaN       NaN\n",
       "2020-01-03 -0.001673 -0.015604 -0.014634\n",
       "2020-01-06 -0.013219 -0.005736 -0.002121\n",
       "2020-01-07 -0.007547 -0.017018 -0.013466\n",
       "2020-01-08 -0.009125 -0.015258 -0.015086"
      ]
     },
     "execution_count": 61,
     "metadata": {},
     "output_type": "execute_result"
    }
   ],
   "source": [
    "returns = prices.pct_change()\n",
    "\n",
    "returns.head()"
   ]
  },
  {
   "cell_type": "markdown",
   "id": "fb03c9d6",
   "metadata": {},
   "source": [
    "Visualização Gráfica da série temporal de preços"
   ]
  },
  {
   "cell_type": "code",
   "execution_count": 62,
   "id": "db5ea9c6",
   "metadata": {},
   "outputs": [
    {
     "data": {
      "text/plain": [
       "<AxesSubplot:xlabel='Date'>"
      ]
     },
     "execution_count": 62,
     "metadata": {},
     "output_type": "execute_result"
    },
    {
     "data": {
      "image/png": "[encoded data removed]",
      "text/plain": [
       "<Figure size 432x288 with 1 Axes>"
      ]
     },
     "metadata": {
      "needs_background": "light"
     },
     "output_type": "display_data"
    }
   ],
   "source": [
    "prices.plot()"
   ]
  },
  {
   "cell_type": "markdown",
   "id": "2d1533b7",
   "metadata": {},
   "source": [
    "Visualização gráfica dos retornos mensais"
   ]
  },
  {
   "cell_type": "code",
   "execution_count": 40,
   "id": "be24fc88",
   "metadata": {},
   "outputs": [
    {
     "data": {
      "text/html": [
       "<div>\n",
       "<style scoped>\n",
       "    .dataframe tbody tr th:only-of-type {\n",
       "        vertical-align: middle;\n",
       "    }\n",
       "\n",
       "    .dataframe tbody tr th {\n",
       "        vertical-align: top;\n",
       "    }\n",
       "\n",
       "    .dataframe thead th {\n",
       "        text-align: right;\n",
       "    }\n",
       "</style>\n",
       "<table border=\"1\" class=\"dataframe\">\n",
       "  <thead>\n",
       "    <tr style=\"text-align: right;\">\n",
       "      <th></th>\n",
       "      <th>BBAS3.SA</th>\n",
       "      <th>BBDC3.SA</th>\n",
       "      <th>ITSA4.SA</th>\n",
       "    </tr>\n",
       "    <tr>\n",
       "      <th>Date</th>\n",
       "      <th></th>\n",
       "      <th></th>\n",
       "      <th></th>\n",
       "    </tr>\n",
       "  </thead>\n",
       "  <tbody>\n",
       "    <tr>\n",
       "      <th>2020-01-31</th>\n",
       "      <td>-0.004717</td>\n",
       "      <td>-0.005666</td>\n",
       "      <td>-0.005120</td>\n",
       "    </tr>\n",
       "    <tr>\n",
       "      <th>2020-02-29</th>\n",
       "      <td>-0.001132</td>\n",
       "      <td>-0.007282</td>\n",
       "      <td>-0.002681</td>\n",
       "    </tr>\n",
       "    <tr>\n",
       "      <th>2020-03-31</th>\n",
       "      <td>-0.018780</td>\n",
       "      <td>-0.013786</td>\n",
       "      <td>-0.012421</td>\n",
       "    </tr>\n",
       "    <tr>\n",
       "      <th>2020-04-30</th>\n",
       "      <td>0.002588</td>\n",
       "      <td>0.002647</td>\n",
       "      <td>0.001918</td>\n",
       "    </tr>\n",
       "    <tr>\n",
       "      <th>2020-05-31</th>\n",
       "      <td>0.004632</td>\n",
       "      <td>0.001372</td>\n",
       "      <td>-0.000284</td>\n",
       "    </tr>\n",
       "    <tr>\n",
       "      <th>2020-06-30</th>\n",
       "      <td>0.002427</td>\n",
       "      <td>0.003411</td>\n",
       "      <td>0.004214</td>\n",
       "    </tr>\n",
       "    <tr>\n",
       "      <th>2020-07-31</th>\n",
       "      <td>0.002119</td>\n",
       "      <td>0.004240</td>\n",
       "      <td>0.004851</td>\n",
       "    </tr>\n",
       "    <tr>\n",
       "      <th>2020-08-31</th>\n",
       "      <td>-0.000538</td>\n",
       "      <td>-0.003868</td>\n",
       "      <td>-0.005518</td>\n",
       "    </tr>\n",
       "    <tr>\n",
       "      <th>2020-09-30</th>\n",
       "      <td>-0.004387</td>\n",
       "      <td>-0.002387</td>\n",
       "      <td>-0.003065</td>\n",
       "    </tr>\n",
       "    <tr>\n",
       "      <th>2020-10-31</th>\n",
       "      <td>0.000577</td>\n",
       "      <td>0.000746</td>\n",
       "      <td>0.001757</td>\n",
       "    </tr>\n",
       "    <tr>\n",
       "      <th>2020-11-30</th>\n",
       "      <td>0.007348</td>\n",
       "      <td>0.009760</td>\n",
       "      <td>0.008255</td>\n",
       "    </tr>\n",
       "    <tr>\n",
       "      <th>2020-12-31</th>\n",
       "      <td>0.007126</td>\n",
       "      <td>0.006550</td>\n",
       "      <td>0.005812</td>\n",
       "    </tr>\n",
       "  </tbody>\n",
       "</table>\n",
       "</div>"
      ],
      "text/plain": [
       "            BBAS3.SA  BBDC3.SA  ITSA4.SA\n",
       "Date                                    \n",
       "2020-01-31 -0.004717 -0.005666 -0.005120\n",
       "2020-02-29 -0.001132 -0.007282 -0.002681\n",
       "2020-03-31 -0.018780 -0.013786 -0.012421\n",
       "2020-04-30  0.002588  0.002647  0.001918\n",
       "2020-05-31  0.004632  0.001372 -0.000284\n",
       "2020-06-30  0.002427  0.003411  0.004214\n",
       "2020-07-31  0.002119  0.004240  0.004851\n",
       "2020-08-31 -0.000538 -0.003868 -0.005518\n",
       "2020-09-30 -0.004387 -0.002387 -0.003065\n",
       "2020-10-31  0.000577  0.000746  0.001757\n",
       "2020-11-30  0.007348  0.009760  0.008255\n",
       "2020-12-31  0.007126  0.006550  0.005812"
      ]
     },
     "execution_count": 40,
     "metadata": {},
     "output_type": "execute_result"
    }
   ],
   "source": [
    "returns_montly = returns.resample('M').mean()\n",
    "\n",
    "returns_montly"
   ]
  },
  {
   "cell_type": "code",
   "execution_count": 43,
   "id": "2e0febd8",
   "metadata": {},
   "outputs": [
    {
     "data": {
      "text/plain": [
       "<AxesSubplot:xlabel='Date'>"
      ]
     },
     "execution_count": 43,
     "metadata": {},
     "output_type": "execute_result"
    },
    {
     "data": {
      "image/png": "[encoded data removed]",
      "text/plain": [
       "<Figure size 432x288 with 1 Axes>"
      ]
     },
     "metadata": {
      "needs_background": "light"
     },
     "output_type": "display_data"
    }
   ],
   "source": [
    "returns_montly.plot.bar()"
   ]
  },
  {
   "cell_type": "markdown",
   "id": "70719f5c",
   "metadata": {},
   "source": [
    "Volatilidade dos ativos\n",
    "\n",
    "Corresponde ao Desvio Padrão dos retornos"
   ]
  },
  {
   "cell_type": "code",
   "execution_count": 49,
   "id": "0cd7320e",
   "metadata": {},
   "outputs": [
    {
     "data": {
      "text/plain": [
       "BBAS3.SA    0.039122\n",
       "BBDC3.SA    0.035640\n",
       "ITSA4.SA    0.027956\n",
       "dtype: float64"
      ]
     },
     "execution_count": 49,
     "metadata": {},
     "output_type": "execute_result"
    }
   ],
   "source": [
    "volatility = returns.std()\n",
    "volatility"
   ]
  },
  {
   "cell_type": "markdown",
   "id": "e4d105e8",
   "metadata": {},
   "source": [
    "Retorno médio de cada ação"
   ]
  },
  {
   "cell_type": "code",
   "execution_count": 47,
   "id": "9e08ce82",
   "metadata": {},
   "outputs": [
    {
     "data": {
      "text/plain": [
       "BBAS3.SA   -0.000395\n",
       "BBDC3.SA   -0.000417\n",
       "ITSA4.SA   -0.000269\n",
       "dtype: float64"
      ]
     },
     "execution_count": 47,
     "metadata": {},
     "output_type": "execute_result"
    }
   ],
   "source": [
    "returns.mean()"
   ]
  },
  {
   "cell_type": "markdown",
   "id": "cd0ee0b0",
   "metadata": {},
   "source": [
    "Retorno anual"
   ]
  },
  {
   "cell_type": "code",
   "execution_count": 48,
   "id": "e2ff82e7",
   "metadata": {},
   "outputs": [
    {
     "data": {
      "text/plain": [
       "BBAS3.SA   -0.249744\n",
       "BBDC3.SA   -0.228378\n",
       "ITSA4.SA   -0.150698\n",
       "dtype: float64"
      ]
     },
     "execution_count": 48,
     "metadata": {},
     "output_type": "execute_result"
    }
   ],
   "source": [
    "(returns + 1).prod() - 1"
   ]
  },
  {
   "cell_type": "markdown",
   "id": "da0c483d",
   "metadata": {},
   "source": [
    "## Segundo Exemplo"
   ]
  },
  {
   "cell_type": "code",
   "execution_count": 63,
   "id": "b430399a",
   "metadata": {},
   "outputs": [
    {
     "data": {
      "text/html": [
       "<div>\n",
       "<style scoped>\n",
       "    .dataframe tbody tr th:only-of-type {\n",
       "        vertical-align: middle;\n",
       "    }\n",
       "\n",
       "    .dataframe tbody tr th {\n",
       "        vertical-align: top;\n",
       "    }\n",
       "\n",
       "    .dataframe thead th {\n",
       "        text-align: right;\n",
       "    }\n",
       "</style>\n",
       "<table border=\"1\" class=\"dataframe\">\n",
       "  <thead>\n",
       "    <tr style=\"text-align: right;\">\n",
       "      <th></th>\n",
       "      <th>&lt;= 0</th>\n",
       "      <th>Lo 30</th>\n",
       "      <th>Med 40</th>\n",
       "      <th>Hi 30</th>\n",
       "      <th>Lo 20</th>\n",
       "      <th>Qnt 2</th>\n",
       "      <th>Qnt 3</th>\n",
       "      <th>Qnt 4</th>\n",
       "      <th>Hi 20</th>\n",
       "      <th>Lo 10</th>\n",
       "      <th>Dec 2</th>\n",
       "      <th>Dec 3</th>\n",
       "      <th>Dec 4</th>\n",
       "      <th>Dec 5</th>\n",
       "      <th>Dec 6</th>\n",
       "      <th>Dec 7</th>\n",
       "      <th>Dec 8</th>\n",
       "      <th>Dec 9</th>\n",
       "      <th>Hi 10</th>\n",
       "    </tr>\n",
       "  </thead>\n",
       "  <tbody>\n",
       "    <tr>\n",
       "      <th>192607</th>\n",
       "      <td>NaN</td>\n",
       "      <td>-0.43</td>\n",
       "      <td>1.52</td>\n",
       "      <td>2.68</td>\n",
       "      <td>-0.57</td>\n",
       "      <td>0.59</td>\n",
       "      <td>1.60</td>\n",
       "      <td>1.47</td>\n",
       "      <td>3.33</td>\n",
       "      <td>-1.45</td>\n",
       "      <td>0.29</td>\n",
       "      <td>-0.15</td>\n",
       "      <td>1.33</td>\n",
       "      <td>1.24</td>\n",
       "      <td>1.98</td>\n",
       "      <td>1.55</td>\n",
       "      <td>1.38</td>\n",
       "      <td>3.38</td>\n",
       "      <td>3.29</td>\n",
       "    </tr>\n",
       "    <tr>\n",
       "      <th>192608</th>\n",
       "      <td>NaN</td>\n",
       "      <td>3.90</td>\n",
       "      <td>3.04</td>\n",
       "      <td>2.09</td>\n",
       "      <td>3.84</td>\n",
       "      <td>3.59</td>\n",
       "      <td>3.71</td>\n",
       "      <td>1.61</td>\n",
       "      <td>2.33</td>\n",
       "      <td>5.12</td>\n",
       "      <td>2.59</td>\n",
       "      <td>4.03</td>\n",
       "      <td>3.15</td>\n",
       "      <td>2.72</td>\n",
       "      <td>4.72</td>\n",
       "      <td>1.60</td>\n",
       "      <td>1.63</td>\n",
       "      <td>0.98</td>\n",
       "      <td>3.70</td>\n",
       "    </tr>\n",
       "    <tr>\n",
       "      <th>192609</th>\n",
       "      <td>NaN</td>\n",
       "      <td>-1.08</td>\n",
       "      <td>-0.54</td>\n",
       "      <td>0.16</td>\n",
       "      <td>-0.48</td>\n",
       "      <td>-1.40</td>\n",
       "      <td>0.00</td>\n",
       "      <td>-0.50</td>\n",
       "      <td>-0.09</td>\n",
       "      <td>0.93</td>\n",
       "      <td>-1.87</td>\n",
       "      <td>-2.27</td>\n",
       "      <td>-0.53</td>\n",
       "      <td>0.07</td>\n",
       "      <td>-0.07</td>\n",
       "      <td>-1.64</td>\n",
       "      <td>0.64</td>\n",
       "      <td>-0.86</td>\n",
       "      <td>0.67</td>\n",
       "    </tr>\n",
       "    <tr>\n",
       "      <th>192610</th>\n",
       "      <td>NaN</td>\n",
       "      <td>-3.32</td>\n",
       "      <td>-3.52</td>\n",
       "      <td>-3.06</td>\n",
       "      <td>-3.29</td>\n",
       "      <td>-4.10</td>\n",
       "      <td>-2.89</td>\n",
       "      <td>-3.36</td>\n",
       "      <td>-2.95</td>\n",
       "      <td>-4.84</td>\n",
       "      <td>-1.77</td>\n",
       "      <td>-3.36</td>\n",
       "      <td>-4.83</td>\n",
       "      <td>-2.98</td>\n",
       "      <td>-2.80</td>\n",
       "      <td>-3.45</td>\n",
       "      <td>-3.27</td>\n",
       "      <td>-3.47</td>\n",
       "      <td>-2.43</td>\n",
       "    </tr>\n",
       "    <tr>\n",
       "      <th>192611</th>\n",
       "      <td>NaN</td>\n",
       "      <td>-0.46</td>\n",
       "      <td>3.82</td>\n",
       "      <td>3.09</td>\n",
       "      <td>-0.55</td>\n",
       "      <td>2.18</td>\n",
       "      <td>3.41</td>\n",
       "      <td>3.39</td>\n",
       "      <td>3.16</td>\n",
       "      <td>-0.78</td>\n",
       "      <td>-0.32</td>\n",
       "      <td>-0.29</td>\n",
       "      <td>4.65</td>\n",
       "      <td>3.24</td>\n",
       "      <td>3.57</td>\n",
       "      <td>3.82</td>\n",
       "      <td>2.95</td>\n",
       "      <td>3.61</td>\n",
       "      <td>2.70</td>\n",
       "    </tr>\n",
       "  </tbody>\n",
       "</table>\n",
       "</div>"
      ],
      "text/plain": [
       "        <= 0  Lo 30  Med 40  Hi 30  Lo 20  Qnt 2  Qnt 3  Qnt 4  Hi 20  Lo 10  \\\n",
       "192607   NaN  -0.43    1.52   2.68  -0.57   0.59   1.60   1.47   3.33  -1.45   \n",
       "192608   NaN   3.90    3.04   2.09   3.84   3.59   3.71   1.61   2.33   5.12   \n",
       "192609   NaN  -1.08   -0.54   0.16  -0.48  -1.40   0.00  -0.50  -0.09   0.93   \n",
       "192610   NaN  -3.32   -3.52  -3.06  -3.29  -4.10  -2.89  -3.36  -2.95  -4.84   \n",
       "192611   NaN  -0.46    3.82   3.09  -0.55   2.18   3.41   3.39   3.16  -0.78   \n",
       "\n",
       "        Dec 2  Dec 3  Dec 4  Dec 5  Dec 6  Dec 7  Dec 8  Dec 9  Hi 10  \n",
       "192607   0.29  -0.15   1.33   1.24   1.98   1.55   1.38   3.38   3.29  \n",
       "192608   2.59   4.03   3.15   2.72   4.72   1.60   1.63   0.98   3.70  \n",
       "192609  -1.87  -2.27  -0.53   0.07  -0.07  -1.64   0.64  -0.86   0.67  \n",
       "192610  -1.77  -3.36  -4.83  -2.98  -2.80  -3.45  -3.27  -3.47  -2.43  \n",
       "192611  -0.32  -0.29   4.65   3.24   3.57   3.82   2.95   3.61   2.70  "
      ]
     },
     "execution_count": 63,
     "metadata": {},
     "output_type": "execute_result"
    }
   ],
   "source": [
    "returns = pd.read_csv('data/Portfolios_Formed_on_ME_monthly_EW.csv',\n",
    "                        header=0, index_col=0, parse_dates=True, na_values=-99.99\n",
    "                      )\n",
    "returns.head()"
   ]
  },
  {
   "cell_type": "code",
   "execution_count": 64,
   "id": "dedd28a2",
   "metadata": {},
   "outputs": [
    {
     "data": {
      "text/html": [
       "<div>\n",
       "<style scoped>\n",
       "    .dataframe tbody tr th:only-of-type {\n",
       "        vertical-align: middle;\n",
       "    }\n",
       "\n",
       "    .dataframe tbody tr th {\n",
       "        vertical-align: top;\n",
       "    }\n",
       "\n",
       "    .dataframe thead th {\n",
       "        text-align: right;\n",
       "    }\n",
       "</style>\n",
       "<table border=\"1\" class=\"dataframe\">\n",
       "  <thead>\n",
       "    <tr style=\"text-align: right;\">\n",
       "      <th></th>\n",
       "      <th>Lo 10</th>\n",
       "      <th>Hi 10</th>\n",
       "    </tr>\n",
       "  </thead>\n",
       "  <tbody>\n",
       "    <tr>\n",
       "      <th>192607</th>\n",
       "      <td>-1.45</td>\n",
       "      <td>3.29</td>\n",
       "    </tr>\n",
       "    <tr>\n",
       "      <th>192608</th>\n",
       "      <td>5.12</td>\n",
       "      <td>3.70</td>\n",
       "    </tr>\n",
       "    <tr>\n",
       "      <th>192609</th>\n",
       "      <td>0.93</td>\n",
       "      <td>0.67</td>\n",
       "    </tr>\n",
       "    <tr>\n",
       "      <th>192610</th>\n",
       "      <td>-4.84</td>\n",
       "      <td>-2.43</td>\n",
       "    </tr>\n",
       "    <tr>\n",
       "      <th>192611</th>\n",
       "      <td>-0.78</td>\n",
       "      <td>2.70</td>\n",
       "    </tr>\n",
       "  </tbody>\n",
       "</table>\n",
       "</div>"
      ],
      "text/plain": [
       "        Lo 10  Hi 10\n",
       "192607  -1.45   3.29\n",
       "192608   5.12   3.70\n",
       "192609   0.93   0.67\n",
       "192610  -4.84  -2.43\n",
       "192611  -0.78   2.70"
      ]
     },
     "execution_count": 64,
     "metadata": {},
     "output_type": "execute_result"
    }
   ],
   "source": [
    "columns = ['Lo 10', 'Hi 10']\n",
    "\n",
    "returns = returns[columns]\n",
    "\n",
    "returns.head()"
   ]
  },
  {
   "cell_type": "code",
   "execution_count": 65,
   "id": "0d72297b",
   "metadata": {},
   "outputs": [
    {
     "data": {
      "text/html": [
       "<div>\n",
       "<style scoped>\n",
       "    .dataframe tbody tr th:only-of-type {\n",
       "        vertical-align: middle;\n",
       "    }\n",
       "\n",
       "    .dataframe tbody tr th {\n",
       "        vertical-align: top;\n",
       "    }\n",
       "\n",
       "    .dataframe thead th {\n",
       "        text-align: right;\n",
       "    }\n",
       "</style>\n",
       "<table border=\"1\" class=\"dataframe\">\n",
       "  <thead>\n",
       "    <tr style=\"text-align: right;\">\n",
       "      <th></th>\n",
       "      <th>Lo 10</th>\n",
       "      <th>Hi 10</th>\n",
       "    </tr>\n",
       "  </thead>\n",
       "  <tbody>\n",
       "    <tr>\n",
       "      <th>192607</th>\n",
       "      <td>-0.0145</td>\n",
       "      <td>0.0329</td>\n",
       "    </tr>\n",
       "    <tr>\n",
       "      <th>192608</th>\n",
       "      <td>0.0512</td>\n",
       "      <td>0.0370</td>\n",
       "    </tr>\n",
       "    <tr>\n",
       "      <th>192609</th>\n",
       "      <td>0.0093</td>\n",
       "      <td>0.0067</td>\n",
       "    </tr>\n",
       "    <tr>\n",
       "      <th>192610</th>\n",
       "      <td>-0.0484</td>\n",
       "      <td>-0.0243</td>\n",
       "    </tr>\n",
       "    <tr>\n",
       "      <th>192611</th>\n",
       "      <td>-0.0078</td>\n",
       "      <td>0.0270</td>\n",
       "    </tr>\n",
       "  </tbody>\n",
       "</table>\n",
       "</div>"
      ],
      "text/plain": [
       "         Lo 10   Hi 10\n",
       "192607 -0.0145  0.0329\n",
       "192608  0.0512  0.0370\n",
       "192609  0.0093  0.0067\n",
       "192610 -0.0484 -0.0243\n",
       "192611 -0.0078  0.0270"
      ]
     },
     "execution_count": 65,
     "metadata": {},
     "output_type": "execute_result"
    }
   ],
   "source": [
    "returns = returns / 100\n",
    "returns.head()"
   ]
  },
  {
   "cell_type": "code",
   "execution_count": 66,
   "id": "c42207db",
   "metadata": {},
   "outputs": [
    {
     "data": {
      "text/html": [
       "<div>\n",
       "<style scoped>\n",
       "    .dataframe tbody tr th:only-of-type {\n",
       "        vertical-align: middle;\n",
       "    }\n",
       "\n",
       "    .dataframe tbody tr th {\n",
       "        vertical-align: top;\n",
       "    }\n",
       "\n",
       "    .dataframe thead th {\n",
       "        text-align: right;\n",
       "    }\n",
       "</style>\n",
       "<table border=\"1\" class=\"dataframe\">\n",
       "  <thead>\n",
       "    <tr style=\"text-align: right;\">\n",
       "      <th></th>\n",
       "      <th>SmallCaps</th>\n",
       "      <th>LargeCaps</th>\n",
       "    </tr>\n",
       "  </thead>\n",
       "  <tbody>\n",
       "    <tr>\n",
       "      <th>192607</th>\n",
       "      <td>-0.0145</td>\n",
       "      <td>0.0329</td>\n",
       "    </tr>\n",
       "    <tr>\n",
       "      <th>192608</th>\n",
       "      <td>0.0512</td>\n",
       "      <td>0.0370</td>\n",
       "    </tr>\n",
       "    <tr>\n",
       "      <th>192609</th>\n",
       "      <td>0.0093</td>\n",
       "      <td>0.0067</td>\n",
       "    </tr>\n",
       "    <tr>\n",
       "      <th>192610</th>\n",
       "      <td>-0.0484</td>\n",
       "      <td>-0.0243</td>\n",
       "    </tr>\n",
       "    <tr>\n",
       "      <th>192611</th>\n",
       "      <td>-0.0078</td>\n",
       "      <td>0.0270</td>\n",
       "    </tr>\n",
       "  </tbody>\n",
       "</table>\n",
       "</div>"
      ],
      "text/plain": [
       "        SmallCaps  LargeCaps\n",
       "192607    -0.0145     0.0329\n",
       "192608     0.0512     0.0370\n",
       "192609     0.0093     0.0067\n",
       "192610    -0.0484    -0.0243\n",
       "192611    -0.0078     0.0270"
      ]
     },
     "execution_count": 66,
     "metadata": {},
     "output_type": "execute_result"
    }
   ],
   "source": [
    "returns.columns = ['SmallCaps', 'LargeCaps']\n",
    "returns.head()"
   ]
  },
  {
   "cell_type": "code",
   "execution_count": 67,
   "id": "0407f9fc",
   "metadata": {},
   "outputs": [
    {
     "data": {
      "text/plain": [
       "<AxesSubplot:>"
      ]
     },
     "execution_count": 67,
     "metadata": {},
     "output_type": "execute_result"
    },
    {
     "data": {
      "image/png": "[encoded data removed]",
      "text/plain": [
       "<Figure size 432x288 with 1 Axes>"
      ]
     },
     "metadata": {
      "needs_background": "light"
     },
     "output_type": "display_data"
    }
   ],
   "source": [
    "returns.plot.line()"
   ]
  },
  {
   "cell_type": "markdown",
   "id": "97f9130c",
   "metadata": {},
   "source": [
    "Volatilidade"
   ]
  },
  {
   "cell_type": "code",
   "execution_count": 68,
   "id": "67f51dd6",
   "metadata": {},
   "outputs": [
    {
     "data": {
      "text/plain": [
       "SmallCaps    0.106288\n",
       "LargeCaps    0.053900\n",
       "dtype: float64"
      ]
     },
     "execution_count": 68,
     "metadata": {},
     "output_type": "execute_result"
    }
   ],
   "source": [
    "volatility = returns.std()\n",
    "volatility"
   ]
  },
  {
   "cell_type": "code",
   "execution_count": 69,
   "id": "a500e844",
   "metadata": {},
   "outputs": [
    {
     "data": {
      "text/plain": [
       "SmallCaps    0.368193\n",
       "LargeCaps    0.186716\n",
       "dtype: float64"
      ]
     },
     "execution_count": 69,
     "metadata": {},
     "output_type": "execute_result"
    }
   ],
   "source": [
    "annualized_vol = volatility * np.sqrt(12)\n",
    "annualized_vol"
   ]
  },
  {
   "cell_type": "markdown",
   "id": "434b211e",
   "metadata": {},
   "source": [
    "Retorno mensal"
   ]
  },
  {
   "cell_type": "code",
   "execution_count": 70,
   "id": "f3da3539",
   "metadata": {},
   "outputs": [
    {
     "data": {
      "text/plain": [
       "SmallCaps    0.012986\n",
       "LargeCaps    0.007423\n",
       "dtype: float64"
      ]
     },
     "execution_count": 70,
     "metadata": {},
     "output_type": "execute_result"
    }
   ],
   "source": [
    "n_months = returns.shape[0]\n",
    "\n",
    "return_per_month = ((1 + returns).prod() ** (1 / n_months)) - 1\n",
    "\n",
    "return_per_month"
   ]
  },
  {
   "cell_type": "code",
   "execution_count": 72,
   "id": "a7dd80f0",
   "metadata": {},
   "outputs": [
    {
     "data": {
      "text/plain": [
       "SmallCaps    0.167463\n",
       "LargeCaps    0.092810\n",
       "dtype: float64"
      ]
     },
     "execution_count": 72,
     "metadata": {},
     "output_type": "execute_result"
    }
   ],
   "source": [
    "annualized_return = (return_per_month + 1) ** 12 - 1\n",
    "\n",
    "annualized_return"
   ]
  },
  {
   "cell_type": "code",
   "execution_count": 73,
   "id": "a6b88be3",
   "metadata": {},
   "outputs": [
    {
     "data": {
      "text/plain": [
       "SmallCaps    0.167463\n",
       "LargeCaps    0.092810\n",
       "dtype: float64"
      ]
     },
     "execution_count": 73,
     "metadata": {},
     "output_type": "execute_result"
    }
   ],
   "source": [
    "annualized_return = ((1 + returns).prod() ** (12 / n_months)) - 1\n",
    "\n",
    "annualized_return"
   ]
  },
  {
   "cell_type": "code",
   "execution_count": 75,
   "id": "2ee1c9d9",
   "metadata": {},
   "outputs": [
    {
     "data": {
      "text/plain": [
       "SmallCaps    0.454825\n",
       "LargeCaps    0.497063\n",
       "dtype: float64"
      ]
     },
     "execution_count": 75,
     "metadata": {},
     "output_type": "execute_result"
    }
   ],
   "source": [
    "risk = annualized_return / annualized_vol\n",
    "\n",
    "risk"
   ]
  },
  {
   "cell_type": "code",
   "execution_count": 76,
   "id": "962cafaa",
   "metadata": {},
   "outputs": [
    {
     "data": {
      "text/plain": [
       "SmallCaps    0.373346\n",
       "LargeCaps    0.336392\n",
       "dtype: float64"
      ]
     },
     "execution_count": 76,
     "metadata": {},
     "output_type": "execute_result"
    }
   ],
   "source": [
    "riskfree_rate = 0.03\n",
    "\n",
    "excess_return = annualized_return - riskfree_rate\n",
    "\n",
    "sharpe_ratio = excess_return / annualized_vol\n",
    "\n",
    "sharpe_ratio"
   ]
  },
  {
   "cell_type": "markdown",
   "id": "bd55876b",
   "metadata": {},
   "source": [
    "## Máximo _Drawdown_ (Máximo Rebaixamento)"
   ]
  },
  {
   "cell_type": "markdown",
   "id": "0be36744",
   "metadata": {},
   "source": [
    "> É a perda máxima experimentada a partir de um pico anterior para um vale subseguente. \n",
    "\n",
    "> O _Dradown_ é uma medida do risco de queda. \n",
    "\n",
    "> É a perda teórica que você teria sofrido se tivesse investido no pico e vendido na baixa.\n",
    "\n"
   ]
  },
  {
   "cell_type": "markdown",
   "id": "157e845e",
   "metadata": {},
   "source": [
    "**Etapas para o cálculo do Máximo _Drawdown_:**"
   ]
  },
  {
   "cell_type": "markdown",
   "id": "a270c42d",
   "metadata": {},
   "source": [
    "1. Converter a série de retornos para o que é chamado de **índice de riqueza**.\n",
    "2. Calcular os picos a cada ponto de tempo.\n",
    "3. Plotar os _drawdowns_ ao longo do tempo."
   ]
  }
 ],
 "metadata": {
  "interpreter": {
   "hash": "59aab24ace7f92780df8f855e98b8b8ce07c1bb23de1c4eeadc23a13ada391fc"
  },
  "kernelspec": {
   "display_name": "Python 3.8.12 64-bit ('venv': venv)",
   "language": "python",
   "name": "python3"
  },
  "language_info": {
   "codemirror_mode": {
    "name": "ipython",
    "version": 3
   },
   "file_extension": ".py",
   "mimetype": "text/x-python",
   "name": "python",
   "nbconvert_exporter": "python",
   "pygments_lexer": "ipython3",
   "version": "3.8.12"
  }
 },
 "nbformat": 4,
 "nbformat_minor": 5
}
