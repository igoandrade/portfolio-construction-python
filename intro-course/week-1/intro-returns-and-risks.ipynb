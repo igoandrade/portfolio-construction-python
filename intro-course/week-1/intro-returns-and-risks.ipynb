{
 "cells": [
  {
   "cell_type": "markdown",
   "id": "9b45f405",
   "metadata": {},
   "source": [
    "# Fundamentos de risco e retornos"
   ]
  },
  {
   "cell_type": "code",
   "execution_count": 37,
   "id": "5e2ee1fc",
   "metadata": {},
   "outputs": [],
   "source": [
    "# Bibliiotecas importadas\n",
    "import numpy as np\n",
    "import pandas as pd \n",
    "import yfinance as yf\n",
    "%matplotlib inline"
   ]
  },
  {
   "cell_type": "markdown",
   "id": "690f1a41",
   "metadata": {},
   "source": [
    "## Retorno Simples ($R_{t, t+1}$)"
   ]
  },
  {
   "cell_type": "markdown",
   "id": "842450f0",
   "metadata": {},
   "source": [
    "$$R_{t, t+1} = \\dfrac{P_{t+1} - P_t}{P_t}$$  \n",
    "\n",
    "ou alternativamente  \n",
    "\n",
    "$$R_{t, t+1} = \\dfrac{P_{t+1}}{P_t} - 1$$"
   ]
  },
  {
   "cell_type": "markdown",
   "id": "5b0bfa0b",
   "metadata": {},
   "source": [
    "Exemplo:"
   ]
  },
  {
   "cell_type": "code",
   "execution_count": 38,
   "id": "e2f64dea",
   "metadata": {},
   "outputs": [],
   "source": [
    "empresas = {\n",
    "    'Banco do Brasil S.A.': 'BBAS3.SA',\n",
    "    'Banco Bradesco S.A.': 'BBDC3.SA',\n",
    "    'Itaúsa - Investimentos Itaú SA': 'ITSA4.SA'\n",
    "}"
   ]
  },
  {
   "cell_type": "code",
   "execution_count": 39,
   "id": "4a229016",
   "metadata": {},
   "outputs": [
    {
     "data": {
      "text/html": [
       "<div>\n",
       "<style scoped>\n",
       "    .dataframe tbody tr th:only-of-type {\n",
       "        vertical-align: middle;\n",
       "    }\n",
       "\n",
       "    .dataframe tbody tr th {\n",
       "        vertical-align: top;\n",
       "    }\n",
       "\n",
       "    .dataframe thead th {\n",
       "        text-align: right;\n",
       "    }\n",
       "</style>\n",
       "<table border=\"1\" class=\"dataframe\">\n",
       "  <thead>\n",
       "    <tr style=\"text-align: right;\">\n",
       "      <th></th>\n",
       "      <th>BBAS3.SA</th>\n",
       "      <th>BBDC3.SA</th>\n",
       "      <th>ITSA4.SA</th>\n",
       "    </tr>\n",
       "    <tr>\n",
       "      <th>Date</th>\n",
       "      <th></th>\n",
       "      <th></th>\n",
       "      <th></th>\n",
       "    </tr>\n",
       "  </thead>\n",
       "  <tbody>\n",
       "    <tr>\n",
       "      <th>2020-01-02</th>\n",
       "      <td>48.002701</td>\n",
       "      <td>27.186684</td>\n",
       "      <td>12.605558</td>\n",
       "    </tr>\n",
       "    <tr>\n",
       "      <th>2020-01-03</th>\n",
       "      <td>47.922401</td>\n",
       "      <td>26.762447</td>\n",
       "      <td>12.421086</td>\n",
       "    </tr>\n",
       "    <tr>\n",
       "      <th>2020-01-06</th>\n",
       "      <td>47.288906</td>\n",
       "      <td>26.608953</td>\n",
       "      <td>12.394732</td>\n",
       "    </tr>\n",
       "    <tr>\n",
       "      <th>2020-01-07</th>\n",
       "      <td>46.932011</td>\n",
       "      <td>26.156134</td>\n",
       "      <td>12.227833</td>\n",
       "    </tr>\n",
       "    <tr>\n",
       "      <th>2020-01-08</th>\n",
       "      <td>46.503731</td>\n",
       "      <td>25.757042</td>\n",
       "      <td>12.043357</td>\n",
       "    </tr>\n",
       "  </tbody>\n",
       "</table>\n",
       "</div>"
      ],
      "text/plain": [
       "             BBAS3.SA   BBDC3.SA   ITSA4.SA\n",
       "Date                                       \n",
       "2020-01-02  48.002701  27.186684  12.605558\n",
       "2020-01-03  47.922401  26.762447  12.421086\n",
       "2020-01-06  47.288906  26.608953  12.394732\n",
       "2020-01-07  46.932011  26.156134  12.227833\n",
       "2020-01-08  46.503731  25.757042  12.043357"
      ]
     },
     "execution_count": 39,
     "metadata": {},
     "output_type": "execute_result"
    }
   ],
   "source": [
    "tickers = list(empresas.values())\n",
    "prices = yf.download(tickers=tickers, start='2019-12-31', end='2020-12-31', progress=False)['Adj Close']\n",
    "prices.head()"
   ]
  },
  {
   "cell_type": "code",
   "execution_count": 40,
   "id": "b83de5a2",
   "metadata": {},
   "outputs": [
    {
     "data": {
      "text/plain": [
       "(248, 3)"
      ]
     },
     "execution_count": 40,
     "metadata": {},
     "output_type": "execute_result"
    }
   ],
   "source": [
    "prices.shape"
   ]
  },
  {
   "cell_type": "markdown",
   "id": "8f467a26",
   "metadata": {},
   "source": [
    "Cálculo do Retorno Simples para cada ação."
   ]
  },
  {
   "cell_type": "code",
   "execution_count": 41,
   "id": "c9c6ab9d",
   "metadata": {},
   "outputs": [
    {
     "data": {
      "text/html": [
       "<div>\n",
       "<style scoped>\n",
       "    .dataframe tbody tr th:only-of-type {\n",
       "        vertical-align: middle;\n",
       "    }\n",
       "\n",
       "    .dataframe tbody tr th {\n",
       "        vertical-align: top;\n",
       "    }\n",
       "\n",
       "    .dataframe thead th {\n",
       "        text-align: right;\n",
       "    }\n",
       "</style>\n",
       "<table border=\"1\" class=\"dataframe\">\n",
       "  <thead>\n",
       "    <tr style=\"text-align: right;\">\n",
       "      <th></th>\n",
       "      <th>BBAS3.SA</th>\n",
       "      <th>BBDC3.SA</th>\n",
       "      <th>ITSA4.SA</th>\n",
       "    </tr>\n",
       "    <tr>\n",
       "      <th>Date</th>\n",
       "      <th></th>\n",
       "      <th></th>\n",
       "      <th></th>\n",
       "    </tr>\n",
       "  </thead>\n",
       "  <tbody>\n",
       "    <tr>\n",
       "      <th>2020-01-02</th>\n",
       "      <td>NaN</td>\n",
       "      <td>NaN</td>\n",
       "      <td>NaN</td>\n",
       "    </tr>\n",
       "    <tr>\n",
       "      <th>2020-01-03</th>\n",
       "      <td>-0.001673</td>\n",
       "      <td>-0.015605</td>\n",
       "      <td>-0.014634</td>\n",
       "    </tr>\n",
       "    <tr>\n",
       "      <th>2020-01-06</th>\n",
       "      <td>-0.013219</td>\n",
       "      <td>-0.005735</td>\n",
       "      <td>-0.002122</td>\n",
       "    </tr>\n",
       "    <tr>\n",
       "      <th>2020-01-07</th>\n",
       "      <td>-0.007547</td>\n",
       "      <td>-0.017018</td>\n",
       "      <td>-0.013465</td>\n",
       "    </tr>\n",
       "    <tr>\n",
       "      <th>2020-01-08</th>\n",
       "      <td>-0.009126</td>\n",
       "      <td>-0.015258</td>\n",
       "      <td>-0.015087</td>\n",
       "    </tr>\n",
       "  </tbody>\n",
       "</table>\n",
       "</div>"
      ],
      "text/plain": [
       "            BBAS3.SA  BBDC3.SA  ITSA4.SA\n",
       "Date                                    \n",
       "2020-01-02       NaN       NaN       NaN\n",
       "2020-01-03 -0.001673 -0.015605 -0.014634\n",
       "2020-01-06 -0.013219 -0.005735 -0.002122\n",
       "2020-01-07 -0.007547 -0.017018 -0.013465\n",
       "2020-01-08 -0.009126 -0.015258 -0.015087"
      ]
     },
     "execution_count": 41,
     "metadata": {},
     "output_type": "execute_result"
    }
   ],
   "source": [
    "returns = prices.pct_change()\n",
    "\n",
    "returns.head()"
   ]
  },
  {
   "cell_type": "markdown",
   "id": "fb03c9d6",
   "metadata": {},
   "source": [
    "Visualização Gráfica da série temporal de preços"
   ]
  },
  {
   "cell_type": "code",
   "execution_count": 42,
   "id": "db5ea9c6",
   "metadata": {},
   "outputs": [
    {
     "data": {
      "text/plain": [
       "<AxesSubplot:xlabel='Date'>"
      ]
     },
     "execution_count": 42,
     "metadata": {},
     "output_type": "execute_result"
    },
    {
     "data": {
      "image/png": "[encoded data removed]",
      "text/plain": [
       "<Figure size 432x288 with 1 Axes>"
      ]
     },
     "metadata": {
      "needs_background": "light"
     },
     "output_type": "display_data"
    }
   ],
   "source": [
    "prices.plot()"
   ]
  },
  {
   "cell_type": "markdown",
   "id": "2d1533b7",
   "metadata": {},
   "source": [
    "Visualização gráfica dos retornos mensais"
   ]
  },
  {
   "cell_type": "code",
   "execution_count": 43,
   "id": "be24fc88",
   "metadata": {},
   "outputs": [
    {
     "data": {
      "text/html": [
       "<div>\n",
       "<style scoped>\n",
       "    .dataframe tbody tr th:only-of-type {\n",
       "        vertical-align: middle;\n",
       "    }\n",
       "\n",
       "    .dataframe tbody tr th {\n",
       "        vertical-align: top;\n",
       "    }\n",
       "\n",
       "    .dataframe thead th {\n",
       "        text-align: right;\n",
       "    }\n",
       "</style>\n",
       "<table border=\"1\" class=\"dataframe\">\n",
       "  <thead>\n",
       "    <tr style=\"text-align: right;\">\n",
       "      <th></th>\n",
       "      <th>BBAS3.SA</th>\n",
       "      <th>BBDC3.SA</th>\n",
       "      <th>ITSA4.SA</th>\n",
       "    </tr>\n",
       "    <tr>\n",
       "      <th>Date</th>\n",
       "      <th></th>\n",
       "      <th></th>\n",
       "      <th></th>\n",
       "    </tr>\n",
       "  </thead>\n",
       "  <tbody>\n",
       "    <tr>\n",
       "      <th>2020-01</th>\n",
       "      <td>-0.004717</td>\n",
       "      <td>-0.005666</td>\n",
       "      <td>-0.005120</td>\n",
       "    </tr>\n",
       "    <tr>\n",
       "      <th>2020-02</th>\n",
       "      <td>-0.001132</td>\n",
       "      <td>-0.007282</td>\n",
       "      <td>-0.002681</td>\n",
       "    </tr>\n",
       "    <tr>\n",
       "      <th>2020-03</th>\n",
       "      <td>-0.018780</td>\n",
       "      <td>-0.013786</td>\n",
       "      <td>-0.012421</td>\n",
       "    </tr>\n",
       "    <tr>\n",
       "      <th>2020-04</th>\n",
       "      <td>0.002588</td>\n",
       "      <td>0.002647</td>\n",
       "      <td>0.001917</td>\n",
       "    </tr>\n",
       "    <tr>\n",
       "      <th>2020-05</th>\n",
       "      <td>0.004632</td>\n",
       "      <td>0.001372</td>\n",
       "      <td>-0.000284</td>\n",
       "    </tr>\n",
       "    <tr>\n",
       "      <th>2020-06</th>\n",
       "      <td>0.002427</td>\n",
       "      <td>0.003411</td>\n",
       "      <td>0.004214</td>\n",
       "    </tr>\n",
       "    <tr>\n",
       "      <th>2020-07</th>\n",
       "      <td>0.002119</td>\n",
       "      <td>0.004240</td>\n",
       "      <td>0.004851</td>\n",
       "    </tr>\n",
       "    <tr>\n",
       "      <th>2020-08</th>\n",
       "      <td>-0.000538</td>\n",
       "      <td>-0.003868</td>\n",
       "      <td>-0.005518</td>\n",
       "    </tr>\n",
       "    <tr>\n",
       "      <th>2020-09</th>\n",
       "      <td>-0.004387</td>\n",
       "      <td>-0.002387</td>\n",
       "      <td>-0.003065</td>\n",
       "    </tr>\n",
       "    <tr>\n",
       "      <th>2020-10</th>\n",
       "      <td>0.000577</td>\n",
       "      <td>0.000746</td>\n",
       "      <td>0.001757</td>\n",
       "    </tr>\n",
       "    <tr>\n",
       "      <th>2020-11</th>\n",
       "      <td>0.007348</td>\n",
       "      <td>0.009760</td>\n",
       "      <td>0.008255</td>\n",
       "    </tr>\n",
       "    <tr>\n",
       "      <th>2020-12</th>\n",
       "      <td>0.007126</td>\n",
       "      <td>0.006550</td>\n",
       "      <td>0.005812</td>\n",
       "    </tr>\n",
       "  </tbody>\n",
       "</table>\n",
       "</div>"
      ],
      "text/plain": [
       "         BBAS3.SA  BBDC3.SA  ITSA4.SA\n",
       "Date                                 \n",
       "2020-01 -0.004717 -0.005666 -0.005120\n",
       "2020-02 -0.001132 -0.007282 -0.002681\n",
       "2020-03 -0.018780 -0.013786 -0.012421\n",
       "2020-04  0.002588  0.002647  0.001917\n",
       "2020-05  0.004632  0.001372 -0.000284\n",
       "2020-06  0.002427  0.003411  0.004214\n",
       "2020-07  0.002119  0.004240  0.004851\n",
       "2020-08 -0.000538 -0.003868 -0.005518\n",
       "2020-09 -0.004387 -0.002387 -0.003065\n",
       "2020-10  0.000577  0.000746  0.001757\n",
       "2020-11  0.007348  0.009760  0.008255\n",
       "2020-12  0.007126  0.006550  0.005812"
      ]
     },
     "execution_count": 43,
     "metadata": {},
     "output_type": "execute_result"
    }
   ],
   "source": [
    "returns_montly = returns.resample('M').mean()\n",
    "\n",
    "returns_montly.index = returns_montly.index.to_period('M')\n",
    "\n",
    "returns_montly"
   ]
  },
  {
   "cell_type": "code",
   "execution_count": 44,
   "id": "2e0febd8",
   "metadata": {},
   "outputs": [
    {
     "data": {
      "text/plain": [
       "<AxesSubplot:xlabel='Date'>"
      ]
     },
     "execution_count": 44,
     "metadata": {},
     "output_type": "execute_result"
    },
    {
     "data": {
      "image/png": "[encoded data removed]",
      "text/plain": [
       "<Figure size 432x288 with 1 Axes>"
      ]
     },
     "metadata": {
      "needs_background": "light"
     },
     "output_type": "display_data"
    }
   ],
   "source": [
    "returns_montly.plot.bar()"
   ]
  },
  {
   "cell_type": "markdown",
   "id": "70719f5c",
   "metadata": {},
   "source": [
    "Volatilidade dos ativos\n",
    "\n",
    "Corresponde ao Desvio Padrão dos retornos"
   ]
  },
  {
   "cell_type": "code",
   "execution_count": 45,
   "id": "0cd7320e",
   "metadata": {},
   "outputs": [
    {
     "data": {
      "text/plain": [
       "BBAS3.SA    0.039122\n",
       "BBDC3.SA    0.035640\n",
       "ITSA4.SA    0.027956\n",
       "dtype: float64"
      ]
     },
     "execution_count": 45,
     "metadata": {},
     "output_type": "execute_result"
    }
   ],
   "source": [
    "volatility = returns.std()\n",
    "volatility"
   ]
  },
  {
   "cell_type": "markdown",
   "id": "e4d105e8",
   "metadata": {},
   "source": [
    "Retorno médio de cada ação"
   ]
  },
  {
   "cell_type": "code",
   "execution_count": 46,
   "id": "9e08ce82",
   "metadata": {},
   "outputs": [
    {
     "data": {
      "text/plain": [
       "BBAS3.SA   -0.000395\n",
       "BBDC3.SA   -0.000417\n",
       "ITSA4.SA   -0.000269\n",
       "dtype: float64"
      ]
     },
     "execution_count": 46,
     "metadata": {},
     "output_type": "execute_result"
    }
   ],
   "source": [
    "returns.mean()"
   ]
  },
  {
   "cell_type": "markdown",
   "id": "cd0ee0b0",
   "metadata": {},
   "source": [
    "Retorno anual"
   ]
  },
  {
   "cell_type": "code",
   "execution_count": 47,
   "id": "e2ff82e7",
   "metadata": {},
   "outputs": [
    {
     "data": {
      "text/plain": [
       "BBAS3.SA   -0.249744\n",
       "BBDC3.SA   -0.228378\n",
       "ITSA4.SA   -0.150698\n",
       "dtype: float64"
      ]
     },
     "execution_count": 47,
     "metadata": {},
     "output_type": "execute_result"
    }
   ],
   "source": [
    "(returns + 1).prod() - 1"
   ]
  },
  {
   "cell_type": "markdown",
   "id": "da0c483d",
   "metadata": {},
   "source": [
    "## Segundo Exemplo"
   ]
  },
  {
   "cell_type": "code",
   "execution_count": 48,
   "id": "b430399a",
   "metadata": {},
   "outputs": [
    {
     "data": {
      "text/html": [
       "<div>\n",
       "<style scoped>\n",
       "    .dataframe tbody tr th:only-of-type {\n",
       "        vertical-align: middle;\n",
       "    }\n",
       "\n",
       "    .dataframe tbody tr th {\n",
       "        vertical-align: top;\n",
       "    }\n",
       "\n",
       "    .dataframe thead th {\n",
       "        text-align: right;\n",
       "    }\n",
       "</style>\n",
       "<table border=\"1\" class=\"dataframe\">\n",
       "  <thead>\n",
       "    <tr style=\"text-align: right;\">\n",
       "      <th></th>\n",
       "      <th>&lt;= 0</th>\n",
       "      <th>Lo 30</th>\n",
       "      <th>Med 40</th>\n",
       "      <th>Hi 30</th>\n",
       "      <th>Lo 20</th>\n",
       "      <th>Qnt 2</th>\n",
       "      <th>Qnt 3</th>\n",
       "      <th>Qnt 4</th>\n",
       "      <th>Hi 20</th>\n",
       "      <th>Lo 10</th>\n",
       "      <th>Dec 2</th>\n",
       "      <th>Dec 3</th>\n",
       "      <th>Dec 4</th>\n",
       "      <th>Dec 5</th>\n",
       "      <th>Dec 6</th>\n",
       "      <th>Dec 7</th>\n",
       "      <th>Dec 8</th>\n",
       "      <th>Dec 9</th>\n",
       "      <th>Hi 10</th>\n",
       "    </tr>\n",
       "  </thead>\n",
       "  <tbody>\n",
       "    <tr>\n",
       "      <th>192607</th>\n",
       "      <td>NaN</td>\n",
       "      <td>-0.43</td>\n",
       "      <td>1.52</td>\n",
       "      <td>2.68</td>\n",
       "      <td>-0.57</td>\n",
       "      <td>0.59</td>\n",
       "      <td>1.60</td>\n",
       "      <td>1.47</td>\n",
       "      <td>3.33</td>\n",
       "      <td>-1.45</td>\n",
       "      <td>0.29</td>\n",
       "      <td>-0.15</td>\n",
       "      <td>1.33</td>\n",
       "      <td>1.24</td>\n",
       "      <td>1.98</td>\n",
       "      <td>1.55</td>\n",
       "      <td>1.38</td>\n",
       "      <td>3.38</td>\n",
       "      <td>3.29</td>\n",
       "    </tr>\n",
       "    <tr>\n",
       "      <th>192608</th>\n",
       "      <td>NaN</td>\n",
       "      <td>3.90</td>\n",
       "      <td>3.04</td>\n",
       "      <td>2.09</td>\n",
       "      <td>3.84</td>\n",
       "      <td>3.59</td>\n",
       "      <td>3.71</td>\n",
       "      <td>1.61</td>\n",
       "      <td>2.33</td>\n",
       "      <td>5.12</td>\n",
       "      <td>2.59</td>\n",
       "      <td>4.03</td>\n",
       "      <td>3.15</td>\n",
       "      <td>2.72</td>\n",
       "      <td>4.72</td>\n",
       "      <td>1.60</td>\n",
       "      <td>1.63</td>\n",
       "      <td>0.98</td>\n",
       "      <td>3.70</td>\n",
       "    </tr>\n",
       "    <tr>\n",
       "      <th>192609</th>\n",
       "      <td>NaN</td>\n",
       "      <td>-1.08</td>\n",
       "      <td>-0.54</td>\n",
       "      <td>0.16</td>\n",
       "      <td>-0.48</td>\n",
       "      <td>-1.40</td>\n",
       "      <td>0.00</td>\n",
       "      <td>-0.50</td>\n",
       "      <td>-0.09</td>\n",
       "      <td>0.93</td>\n",
       "      <td>-1.87</td>\n",
       "      <td>-2.27</td>\n",
       "      <td>-0.53</td>\n",
       "      <td>0.07</td>\n",
       "      <td>-0.07</td>\n",
       "      <td>-1.64</td>\n",
       "      <td>0.64</td>\n",
       "      <td>-0.86</td>\n",
       "      <td>0.67</td>\n",
       "    </tr>\n",
       "    <tr>\n",
       "      <th>192610</th>\n",
       "      <td>NaN</td>\n",
       "      <td>-3.32</td>\n",
       "      <td>-3.52</td>\n",
       "      <td>-3.06</td>\n",
       "      <td>-3.29</td>\n",
       "      <td>-4.10</td>\n",
       "      <td>-2.89</td>\n",
       "      <td>-3.36</td>\n",
       "      <td>-2.95</td>\n",
       "      <td>-4.84</td>\n",
       "      <td>-1.77</td>\n",
       "      <td>-3.36</td>\n",
       "      <td>-4.83</td>\n",
       "      <td>-2.98</td>\n",
       "      <td>-2.80</td>\n",
       "      <td>-3.45</td>\n",
       "      <td>-3.27</td>\n",
       "      <td>-3.47</td>\n",
       "      <td>-2.43</td>\n",
       "    </tr>\n",
       "    <tr>\n",
       "      <th>192611</th>\n",
       "      <td>NaN</td>\n",
       "      <td>-0.46</td>\n",
       "      <td>3.82</td>\n",
       "      <td>3.09</td>\n",
       "      <td>-0.55</td>\n",
       "      <td>2.18</td>\n",
       "      <td>3.41</td>\n",
       "      <td>3.39</td>\n",
       "      <td>3.16</td>\n",
       "      <td>-0.78</td>\n",
       "      <td>-0.32</td>\n",
       "      <td>-0.29</td>\n",
       "      <td>4.65</td>\n",
       "      <td>3.24</td>\n",
       "      <td>3.57</td>\n",
       "      <td>3.82</td>\n",
       "      <td>2.95</td>\n",
       "      <td>3.61</td>\n",
       "      <td>2.70</td>\n",
       "    </tr>\n",
       "  </tbody>\n",
       "</table>\n",
       "</div>"
      ],
      "text/plain": [
       "        <= 0  Lo 30  Med 40  Hi 30  Lo 20  Qnt 2  Qnt 3  Qnt 4  Hi 20  Lo 10  \\\n",
       "192607   NaN  -0.43    1.52   2.68  -0.57   0.59   1.60   1.47   3.33  -1.45   \n",
       "192608   NaN   3.90    3.04   2.09   3.84   3.59   3.71   1.61   2.33   5.12   \n",
       "192609   NaN  -1.08   -0.54   0.16  -0.48  -1.40   0.00  -0.50  -0.09   0.93   \n",
       "192610   NaN  -3.32   -3.52  -3.06  -3.29  -4.10  -2.89  -3.36  -2.95  -4.84   \n",
       "192611   NaN  -0.46    3.82   3.09  -0.55   2.18   3.41   3.39   3.16  -0.78   \n",
       "\n",
       "        Dec 2  Dec 3  Dec 4  Dec 5  Dec 6  Dec 7  Dec 8  Dec 9  Hi 10  \n",
       "192607   0.29  -0.15   1.33   1.24   1.98   1.55   1.38   3.38   3.29  \n",
       "192608   2.59   4.03   3.15   2.72   4.72   1.60   1.63   0.98   3.70  \n",
       "192609  -1.87  -2.27  -0.53   0.07  -0.07  -1.64   0.64  -0.86   0.67  \n",
       "192610  -1.77  -3.36  -4.83  -2.98  -2.80  -3.45  -3.27  -3.47  -2.43  \n",
       "192611  -0.32  -0.29   4.65   3.24   3.57   3.82   2.95   3.61   2.70  "
      ]
     },
     "execution_count": 48,
     "metadata": {},
     "output_type": "execute_result"
    }
   ],
   "source": [
    "returns = pd.read_csv('data/Portfolios_Formed_on_ME_monthly_EW.csv',\n",
    "                        header=0, index_col=0, parse_dates=True, na_values=-99.99\n",
    "                      )\n",
    "returns.head()"
   ]
  },
  {
   "cell_type": "code",
   "execution_count": 49,
   "id": "dedd28a2",
   "metadata": {},
   "outputs": [
    {
     "data": {
      "text/html": [
       "<div>\n",
       "<style scoped>\n",
       "    .dataframe tbody tr th:only-of-type {\n",
       "        vertical-align: middle;\n",
       "    }\n",
       "\n",
       "    .dataframe tbody tr th {\n",
       "        vertical-align: top;\n",
       "    }\n",
       "\n",
       "    .dataframe thead th {\n",
       "        text-align: right;\n",
       "    }\n",
       "</style>\n",
       "<table border=\"1\" class=\"dataframe\">\n",
       "  <thead>\n",
       "    <tr style=\"text-align: right;\">\n",
       "      <th></th>\n",
       "      <th>Lo 10</th>\n",
       "      <th>Hi 10</th>\n",
       "    </tr>\n",
       "  </thead>\n",
       "  <tbody>\n",
       "    <tr>\n",
       "      <th>192607</th>\n",
       "      <td>-1.45</td>\n",
       "      <td>3.29</td>\n",
       "    </tr>\n",
       "    <tr>\n",
       "      <th>192608</th>\n",
       "      <td>5.12</td>\n",
       "      <td>3.70</td>\n",
       "    </tr>\n",
       "    <tr>\n",
       "      <th>192609</th>\n",
       "      <td>0.93</td>\n",
       "      <td>0.67</td>\n",
       "    </tr>\n",
       "    <tr>\n",
       "      <th>192610</th>\n",
       "      <td>-4.84</td>\n",
       "      <td>-2.43</td>\n",
       "    </tr>\n",
       "    <tr>\n",
       "      <th>192611</th>\n",
       "      <td>-0.78</td>\n",
       "      <td>2.70</td>\n",
       "    </tr>\n",
       "  </tbody>\n",
       "</table>\n",
       "</div>"
      ],
      "text/plain": [
       "        Lo 10  Hi 10\n",
       "192607  -1.45   3.29\n",
       "192608   5.12   3.70\n",
       "192609   0.93   0.67\n",
       "192610  -4.84  -2.43\n",
       "192611  -0.78   2.70"
      ]
     },
     "execution_count": 49,
     "metadata": {},
     "output_type": "execute_result"
    }
   ],
   "source": [
    "columns = ['Lo 10', 'Hi 10']\n",
    "\n",
    "returns = returns[columns]\n",
    "\n",
    "returns.head()"
   ]
  },
  {
   "cell_type": "code",
   "execution_count": 50,
   "id": "0d72297b",
   "metadata": {},
   "outputs": [
    {
     "data": {
      "text/html": [
       "<div>\n",
       "<style scoped>\n",
       "    .dataframe tbody tr th:only-of-type {\n",
       "        vertical-align: middle;\n",
       "    }\n",
       "\n",
       "    .dataframe tbody tr th {\n",
       "        vertical-align: top;\n",
       "    }\n",
       "\n",
       "    .dataframe thead th {\n",
       "        text-align: right;\n",
       "    }\n",
       "</style>\n",
       "<table border=\"1\" class=\"dataframe\">\n",
       "  <thead>\n",
       "    <tr style=\"text-align: right;\">\n",
       "      <th></th>\n",
       "      <th>Lo 10</th>\n",
       "      <th>Hi 10</th>\n",
       "    </tr>\n",
       "  </thead>\n",
       "  <tbody>\n",
       "    <tr>\n",
       "      <th>192607</th>\n",
       "      <td>-0.0145</td>\n",
       "      <td>0.0329</td>\n",
       "    </tr>\n",
       "    <tr>\n",
       "      <th>192608</th>\n",
       "      <td>0.0512</td>\n",
       "      <td>0.0370</td>\n",
       "    </tr>\n",
       "    <tr>\n",
       "      <th>192609</th>\n",
       "      <td>0.0093</td>\n",
       "      <td>0.0067</td>\n",
       "    </tr>\n",
       "    <tr>\n",
       "      <th>192610</th>\n",
       "      <td>-0.0484</td>\n",
       "      <td>-0.0243</td>\n",
       "    </tr>\n",
       "    <tr>\n",
       "      <th>192611</th>\n",
       "      <td>-0.0078</td>\n",
       "      <td>0.0270</td>\n",
       "    </tr>\n",
       "  </tbody>\n",
       "</table>\n",
       "</div>"
      ],
      "text/plain": [
       "         Lo 10   Hi 10\n",
       "192607 -0.0145  0.0329\n",
       "192608  0.0512  0.0370\n",
       "192609  0.0093  0.0067\n",
       "192610 -0.0484 -0.0243\n",
       "192611 -0.0078  0.0270"
      ]
     },
     "execution_count": 50,
     "metadata": {},
     "output_type": "execute_result"
    }
   ],
   "source": [
    "returns = returns / 100\n",
    "returns.head()"
   ]
  },
  {
   "cell_type": "code",
   "execution_count": 51,
   "id": "c42207db",
   "metadata": {},
   "outputs": [
    {
     "data": {
      "text/html": [
       "<div>\n",
       "<style scoped>\n",
       "    .dataframe tbody tr th:only-of-type {\n",
       "        vertical-align: middle;\n",
       "    }\n",
       "\n",
       "    .dataframe tbody tr th {\n",
       "        vertical-align: top;\n",
       "    }\n",
       "\n",
       "    .dataframe thead th {\n",
       "        text-align: right;\n",
       "    }\n",
       "</style>\n",
       "<table border=\"1\" class=\"dataframe\">\n",
       "  <thead>\n",
       "    <tr style=\"text-align: right;\">\n",
       "      <th></th>\n",
       "      <th>SmallCaps</th>\n",
       "      <th>LargeCaps</th>\n",
       "    </tr>\n",
       "  </thead>\n",
       "  <tbody>\n",
       "    <tr>\n",
       "      <th>192607</th>\n",
       "      <td>-0.0145</td>\n",
       "      <td>0.0329</td>\n",
       "    </tr>\n",
       "    <tr>\n",
       "      <th>192608</th>\n",
       "      <td>0.0512</td>\n",
       "      <td>0.0370</td>\n",
       "    </tr>\n",
       "    <tr>\n",
       "      <th>192609</th>\n",
       "      <td>0.0093</td>\n",
       "      <td>0.0067</td>\n",
       "    </tr>\n",
       "    <tr>\n",
       "      <th>192610</th>\n",
       "      <td>-0.0484</td>\n",
       "      <td>-0.0243</td>\n",
       "    </tr>\n",
       "    <tr>\n",
       "      <th>192611</th>\n",
       "      <td>-0.0078</td>\n",
       "      <td>0.0270</td>\n",
       "    </tr>\n",
       "  </tbody>\n",
       "</table>\n",
       "</div>"
      ],
      "text/plain": [
       "        SmallCaps  LargeCaps\n",
       "192607    -0.0145     0.0329\n",
       "192608     0.0512     0.0370\n",
       "192609     0.0093     0.0067\n",
       "192610    -0.0484    -0.0243\n",
       "192611    -0.0078     0.0270"
      ]
     },
     "execution_count": 51,
     "metadata": {},
     "output_type": "execute_result"
    }
   ],
   "source": [
    "returns.columns = ['SmallCaps', 'LargeCaps']\n",
    "returns.head()"
   ]
  },
  {
   "cell_type": "code",
   "execution_count": 52,
   "id": "0407f9fc",
   "metadata": {},
   "outputs": [
    {
     "data": {
      "text/plain": [
       "<AxesSubplot:>"
      ]
     },
     "execution_count": 52,
     "metadata": {},
     "output_type": "execute_result"
    },
    {
     "data": {
      "image/png": "[encoded data removed]",
      "text/plain": [
       "<Figure size 432x288 with 1 Axes>"
      ]
     },
     "metadata": {
      "needs_background": "light"
     },
     "output_type": "display_data"
    }
   ],
   "source": [
    "returns.plot.line()"
   ]
  },
  {
   "cell_type": "markdown",
   "id": "97f9130c",
   "metadata": {},
   "source": [
    "Volatilidade"
   ]
  },
  {
   "cell_type": "code",
   "execution_count": 53,
   "id": "67f51dd6",
   "metadata": {},
   "outputs": [
    {
     "data": {
      "text/plain": [
       "SmallCaps    0.106288\n",
       "LargeCaps    0.053900\n",
       "dtype: float64"
      ]
     },
     "execution_count": 53,
     "metadata": {},
     "output_type": "execute_result"
    }
   ],
   "source": [
    "volatility = returns.std()\n",
    "volatility"
   ]
  },
  {
   "cell_type": "code",
   "execution_count": 54,
   "id": "a500e844",
   "metadata": {},
   "outputs": [
    {
     "data": {
      "text/plain": [
       "SmallCaps    0.368193\n",
       "LargeCaps    0.186716\n",
       "dtype: float64"
      ]
     },
     "execution_count": 54,
     "metadata": {},
     "output_type": "execute_result"
    }
   ],
   "source": [
    "annualized_vol = volatility * np.sqrt(12)\n",
    "annualized_vol"
   ]
  },
  {
   "cell_type": "markdown",
   "id": "434b211e",
   "metadata": {},
   "source": [
    "Retorno mensal"
   ]
  },
  {
   "cell_type": "code",
   "execution_count": 55,
   "id": "f3da3539",
   "metadata": {},
   "outputs": [
    {
     "data": {
      "text/plain": [
       "SmallCaps    0.012986\n",
       "LargeCaps    0.007423\n",
       "dtype: float64"
      ]
     },
     "execution_count": 55,
     "metadata": {},
     "output_type": "execute_result"
    }
   ],
   "source": [
    "n_months = returns.shape[0]\n",
    "\n",
    "return_per_month = ((1 + returns).prod() ** (1 / n_months)) - 1\n",
    "\n",
    "return_per_month"
   ]
  },
  {
   "cell_type": "code",
   "execution_count": 56,
   "id": "a7dd80f0",
   "metadata": {},
   "outputs": [
    {
     "data": {
      "text/plain": [
       "SmallCaps    0.167463\n",
       "LargeCaps    0.092810\n",
       "dtype: float64"
      ]
     },
     "execution_count": 56,
     "metadata": {},
     "output_type": "execute_result"
    }
   ],
   "source": [
    "annualized_return = (return_per_month + 1) ** 12 - 1\n",
    "\n",
    "annualized_return"
   ]
  },
  {
   "cell_type": "code",
   "execution_count": 57,
   "id": "a6b88be3",
   "metadata": {},
   "outputs": [
    {
     "data": {
      "text/plain": [
       "SmallCaps    0.167463\n",
       "LargeCaps    0.092810\n",
       "dtype: float64"
      ]
     },
     "execution_count": 57,
     "metadata": {},
     "output_type": "execute_result"
    }
   ],
   "source": [
    "annualized_return = ((1 + returns).prod() ** (12 / n_months)) - 1\n",
    "\n",
    "annualized_return"
   ]
  },
  {
   "cell_type": "code",
   "execution_count": 58,
   "id": "2ee1c9d9",
   "metadata": {},
   "outputs": [
    {
     "data": {
      "text/plain": [
       "SmallCaps    0.454825\n",
       "LargeCaps    0.497063\n",
       "dtype: float64"
      ]
     },
     "execution_count": 58,
     "metadata": {},
     "output_type": "execute_result"
    }
   ],
   "source": [
    "risk = annualized_return / annualized_vol\n",
    "\n",
    "risk"
   ]
  },
  {
   "cell_type": "code",
   "execution_count": 59,
   "id": "962cafaa",
   "metadata": {},
   "outputs": [
    {
     "data": {
      "text/plain": [
       "SmallCaps    0.373346\n",
       "LargeCaps    0.336392\n",
       "dtype: float64"
      ]
     },
     "execution_count": 59,
     "metadata": {},
     "output_type": "execute_result"
    }
   ],
   "source": [
    "riskfree_rate = 0.03\n",
    "\n",
    "excess_return = annualized_return - riskfree_rate\n",
    "\n",
    "sharpe_ratio = excess_return / annualized_vol\n",
    "\n",
    "sharpe_ratio"
   ]
  },
  {
   "cell_type": "markdown",
   "id": "bd55876b",
   "metadata": {},
   "source": [
    "## Máximo _Drawdown_ (Máximo Rebaixamento)"
   ]
  },
  {
   "cell_type": "markdown",
   "id": "0be36744",
   "metadata": {},
   "source": [
    "> É a perda máxima experimentada a partir de um pico anterior para um vale subseguente. \n",
    "\n",
    "> O _Dradown_ é uma medida do risco de queda. \n",
    "\n",
    "> É a perda teórica que você teria sofrido se tivesse investido no pico e vendido na baixa.\n",
    "\n"
   ]
  },
  {
   "cell_type": "markdown",
   "id": "157e845e",
   "metadata": {},
   "source": [
    "**Etapas para o cálculo do Máximo _Drawdown_:**"
   ]
  },
  {
   "cell_type": "markdown",
   "id": "a270c42d",
   "metadata": {},
   "source": [
    "1. Converter a série de retornos para o que é chamado de **índice de riqueza**.\n",
    "2. Calcular os picos a cada ponto de tempo.\n",
    "3. Plotar os _drawdowns_ ao longo do tempo."
   ]
  },
  {
   "cell_type": "markdown",
   "id": "d94ef541",
   "metadata": {},
   "source": [
    "**Cálcudo dos Rebaixamentos (Drawdowns)**"
   ]
  },
  {
   "cell_type": "code",
   "execution_count": 60,
   "id": "c52c3664",
   "metadata": {},
   "outputs": [],
   "source": [
    "# Bibliotecas necessárias\n",
    "import pandas as pd"
   ]
  },
  {
   "cell_type": "markdown",
   "id": "692bae6d",
   "metadata": {},
   "source": [
    "**Fonte:** Retornos mensais com base no capital de mercado ou com base no tamanho para _Small Caps_ e _Large Caps_."
   ]
  },
  {
   "cell_type": "code",
   "execution_count": 61,
   "id": "6b9c7a99",
   "metadata": {},
   "outputs": [
    {
     "data": {
      "text/html": [
       "<div>\n",
       "<style scoped>\n",
       "    .dataframe tbody tr th:only-of-type {\n",
       "        vertical-align: middle;\n",
       "    }\n",
       "\n",
       "    .dataframe tbody tr th {\n",
       "        vertical-align: top;\n",
       "    }\n",
       "\n",
       "    .dataframe thead th {\n",
       "        text-align: right;\n",
       "    }\n",
       "</style>\n",
       "<table border=\"1\" class=\"dataframe\">\n",
       "  <thead>\n",
       "    <tr style=\"text-align: right;\">\n",
       "      <th></th>\n",
       "      <th>&lt;= 0</th>\n",
       "      <th>Lo 30</th>\n",
       "      <th>Med 40</th>\n",
       "      <th>Hi 30</th>\n",
       "      <th>Lo 20</th>\n",
       "      <th>Qnt 2</th>\n",
       "      <th>Qnt 3</th>\n",
       "      <th>Qnt 4</th>\n",
       "      <th>Hi 20</th>\n",
       "      <th>Lo 10</th>\n",
       "      <th>Dec 2</th>\n",
       "      <th>Dec 3</th>\n",
       "      <th>Dec 4</th>\n",
       "      <th>Dec 5</th>\n",
       "      <th>Dec 6</th>\n",
       "      <th>Dec 7</th>\n",
       "      <th>Dec 8</th>\n",
       "      <th>Dec 9</th>\n",
       "      <th>Hi 10</th>\n",
       "    </tr>\n",
       "  </thead>\n",
       "  <tbody>\n",
       "    <tr>\n",
       "      <th>192607</th>\n",
       "      <td>NaN</td>\n",
       "      <td>-0.43</td>\n",
       "      <td>1.52</td>\n",
       "      <td>2.68</td>\n",
       "      <td>-0.57</td>\n",
       "      <td>0.59</td>\n",
       "      <td>1.60</td>\n",
       "      <td>1.47</td>\n",
       "      <td>3.33</td>\n",
       "      <td>-1.45</td>\n",
       "      <td>0.29</td>\n",
       "      <td>-0.15</td>\n",
       "      <td>1.33</td>\n",
       "      <td>1.24</td>\n",
       "      <td>1.98</td>\n",
       "      <td>1.55</td>\n",
       "      <td>1.38</td>\n",
       "      <td>3.38</td>\n",
       "      <td>3.29</td>\n",
       "    </tr>\n",
       "    <tr>\n",
       "      <th>192608</th>\n",
       "      <td>NaN</td>\n",
       "      <td>3.90</td>\n",
       "      <td>3.04</td>\n",
       "      <td>2.09</td>\n",
       "      <td>3.84</td>\n",
       "      <td>3.59</td>\n",
       "      <td>3.71</td>\n",
       "      <td>1.61</td>\n",
       "      <td>2.33</td>\n",
       "      <td>5.12</td>\n",
       "      <td>2.59</td>\n",
       "      <td>4.03</td>\n",
       "      <td>3.15</td>\n",
       "      <td>2.72</td>\n",
       "      <td>4.72</td>\n",
       "      <td>1.60</td>\n",
       "      <td>1.63</td>\n",
       "      <td>0.98</td>\n",
       "      <td>3.70</td>\n",
       "    </tr>\n",
       "    <tr>\n",
       "      <th>192609</th>\n",
       "      <td>NaN</td>\n",
       "      <td>-1.08</td>\n",
       "      <td>-0.54</td>\n",
       "      <td>0.16</td>\n",
       "      <td>-0.48</td>\n",
       "      <td>-1.40</td>\n",
       "      <td>0.00</td>\n",
       "      <td>-0.50</td>\n",
       "      <td>-0.09</td>\n",
       "      <td>0.93</td>\n",
       "      <td>-1.87</td>\n",
       "      <td>-2.27</td>\n",
       "      <td>-0.53</td>\n",
       "      <td>0.07</td>\n",
       "      <td>-0.07</td>\n",
       "      <td>-1.64</td>\n",
       "      <td>0.64</td>\n",
       "      <td>-0.86</td>\n",
       "      <td>0.67</td>\n",
       "    </tr>\n",
       "    <tr>\n",
       "      <th>192610</th>\n",
       "      <td>NaN</td>\n",
       "      <td>-3.32</td>\n",
       "      <td>-3.52</td>\n",
       "      <td>-3.06</td>\n",
       "      <td>-3.29</td>\n",
       "      <td>-4.10</td>\n",
       "      <td>-2.89</td>\n",
       "      <td>-3.36</td>\n",
       "      <td>-2.95</td>\n",
       "      <td>-4.84</td>\n",
       "      <td>-1.77</td>\n",
       "      <td>-3.36</td>\n",
       "      <td>-4.83</td>\n",
       "      <td>-2.98</td>\n",
       "      <td>-2.80</td>\n",
       "      <td>-3.45</td>\n",
       "      <td>-3.27</td>\n",
       "      <td>-3.47</td>\n",
       "      <td>-2.43</td>\n",
       "    </tr>\n",
       "    <tr>\n",
       "      <th>192611</th>\n",
       "      <td>NaN</td>\n",
       "      <td>-0.46</td>\n",
       "      <td>3.82</td>\n",
       "      <td>3.09</td>\n",
       "      <td>-0.55</td>\n",
       "      <td>2.18</td>\n",
       "      <td>3.41</td>\n",
       "      <td>3.39</td>\n",
       "      <td>3.16</td>\n",
       "      <td>-0.78</td>\n",
       "      <td>-0.32</td>\n",
       "      <td>-0.29</td>\n",
       "      <td>4.65</td>\n",
       "      <td>3.24</td>\n",
       "      <td>3.57</td>\n",
       "      <td>3.82</td>\n",
       "      <td>2.95</td>\n",
       "      <td>3.61</td>\n",
       "      <td>2.70</td>\n",
       "    </tr>\n",
       "  </tbody>\n",
       "</table>\n",
       "</div>"
      ],
      "text/plain": [
       "        <= 0  Lo 30  Med 40  Hi 30  Lo 20  Qnt 2  Qnt 3  Qnt 4  Hi 20  Lo 10  \\\n",
       "192607   NaN  -0.43    1.52   2.68  -0.57   0.59   1.60   1.47   3.33  -1.45   \n",
       "192608   NaN   3.90    3.04   2.09   3.84   3.59   3.71   1.61   2.33   5.12   \n",
       "192609   NaN  -1.08   -0.54   0.16  -0.48  -1.40   0.00  -0.50  -0.09   0.93   \n",
       "192610   NaN  -3.32   -3.52  -3.06  -3.29  -4.10  -2.89  -3.36  -2.95  -4.84   \n",
       "192611   NaN  -0.46    3.82   3.09  -0.55   2.18   3.41   3.39   3.16  -0.78   \n",
       "\n",
       "        Dec 2  Dec 3  Dec 4  Dec 5  Dec 6  Dec 7  Dec 8  Dec 9  Hi 10  \n",
       "192607   0.29  -0.15   1.33   1.24   1.98   1.55   1.38   3.38   3.29  \n",
       "192608   2.59   4.03   3.15   2.72   4.72   1.60   1.63   0.98   3.70  \n",
       "192609  -1.87  -2.27  -0.53   0.07  -0.07  -1.64   0.64  -0.86   0.67  \n",
       "192610  -1.77  -3.36  -4.83  -2.98  -2.80  -3.45  -3.27  -3.47  -2.43  \n",
       "192611  -0.32  -0.29   4.65   3.24   3.57   3.82   2.95   3.61   2.70  "
      ]
     },
     "execution_count": 61,
     "metadata": {},
     "output_type": "execute_result"
    }
   ],
   "source": [
    "# importação do dataset\n",
    "me_m = pd.read_csv(\n",
    "    \"data/Portfolios_Formed_on_ME_monthly_EW.csv\",\n",
    "    header=0,\n",
    "    index_col=0,\n",
    "    parse_dates=True,\n",
    "    na_values=-99.99\n",
    ")\n",
    "\n",
    "me_m.head()"
   ]
  },
  {
   "cell_type": "markdown",
   "id": "5135fc37",
   "metadata": {},
   "source": [
    "Faremos uso apenas dos ativos referentes ao decil superior (Hi 10) e ao decil inferior (Lo 10):"
   ]
  },
  {
   "cell_type": "code",
   "execution_count": 62,
   "id": "c027c11b",
   "metadata": {},
   "outputs": [],
   "source": [
    "# Seleção das colunas de interesse\n",
    "rets = me_m[['Lo 10', 'Hi 10']]\n",
    "\n",
    "# Renomear colunas\n",
    "rets.columns = ['SmallCap', 'LargeCap']\n",
    "\n",
    "# Converter os retornos\n",
    "rets = rets / 100"
   ]
  },
  {
   "cell_type": "code",
   "execution_count": 68,
   "id": "38ef6b5f",
   "metadata": {},
   "outputs": [
    {
     "data": {
      "text/html": [
       "<div>\n",
       "<style scoped>\n",
       "    .dataframe tbody tr th:only-of-type {\n",
       "        vertical-align: middle;\n",
       "    }\n",
       "\n",
       "    .dataframe tbody tr th {\n",
       "        vertical-align: top;\n",
       "    }\n",
       "\n",
       "    .dataframe thead th {\n",
       "        text-align: right;\n",
       "    }\n",
       "</style>\n",
       "<table border=\"1\" class=\"dataframe\">\n",
       "  <thead>\n",
       "    <tr style=\"text-align: right;\">\n",
       "      <th></th>\n",
       "      <th>SmallCap</th>\n",
       "      <th>LargeCap</th>\n",
       "    </tr>\n",
       "  </thead>\n",
       "  <tbody>\n",
       "    <tr>\n",
       "      <th>192607</th>\n",
       "      <td>-0.0145</td>\n",
       "      <td>0.0329</td>\n",
       "    </tr>\n",
       "    <tr>\n",
       "      <th>192608</th>\n",
       "      <td>0.0512</td>\n",
       "      <td>0.0370</td>\n",
       "    </tr>\n",
       "    <tr>\n",
       "      <th>192609</th>\n",
       "      <td>0.0093</td>\n",
       "      <td>0.0067</td>\n",
       "    </tr>\n",
       "    <tr>\n",
       "      <th>192610</th>\n",
       "      <td>-0.0484</td>\n",
       "      <td>-0.0243</td>\n",
       "    </tr>\n",
       "    <tr>\n",
       "      <th>192611</th>\n",
       "      <td>-0.0078</td>\n",
       "      <td>0.0270</td>\n",
       "    </tr>\n",
       "  </tbody>\n",
       "</table>\n",
       "</div>"
      ],
      "text/plain": [
       "        SmallCap  LargeCap\n",
       "192607   -0.0145    0.0329\n",
       "192608    0.0512    0.0370\n",
       "192609    0.0093    0.0067\n",
       "192610   -0.0484   -0.0243\n",
       "192611   -0.0078    0.0270"
      ]
     },
     "execution_count": 68,
     "metadata": {},
     "output_type": "execute_result"
    }
   ],
   "source": [
    "rets.head()"
   ]
  },
  {
   "cell_type": "code",
   "execution_count": 70,
   "id": "85e9d368",
   "metadata": {},
   "outputs": [
    {
     "data": {
      "text/plain": [
       "Int64Index([192607, 192608, 192609, 192610, 192611, 192612, 192701, 192702,\n",
       "            192703, 192704,\n",
       "            ...\n",
       "            201803, 201804, 201805, 201806, 201807, 201808, 201809, 201810,\n",
       "            201811, 201812],\n",
       "           dtype='int64', length=1110)"
      ]
     },
     "execution_count": 70,
     "metadata": {},
     "output_type": "execute_result"
    }
   ],
   "source": [
    "rets.index"
   ]
  },
  {
   "cell_type": "markdown",
   "id": "1128b6bf",
   "metadata": {},
   "source": [
    "Vemos que a coluna _index_ está no formato 'int64' quando deveria estar no formato de 'data e hora'. Para resolver esse problema, façamos a seguinte conversão:"
   ]
  },
  {
   "cell_type": "code",
   "execution_count": 71,
   "id": "cf8b1888",
   "metadata": {},
   "outputs": [],
   "source": [
    "rets.index = pd.to_datetime(rets.index, format='%Y%m')"
   ]
  },
  {
   "cell_type": "code",
   "execution_count": 72,
   "id": "3d70a27e",
   "metadata": {},
   "outputs": [
    {
     "data": {
      "text/html": [
       "<div>\n",
       "<style scoped>\n",
       "    .dataframe tbody tr th:only-of-type {\n",
       "        vertical-align: middle;\n",
       "    }\n",
       "\n",
       "    .dataframe tbody tr th {\n",
       "        vertical-align: top;\n",
       "    }\n",
       "\n",
       "    .dataframe thead th {\n",
       "        text-align: right;\n",
       "    }\n",
       "</style>\n",
       "<table border=\"1\" class=\"dataframe\">\n",
       "  <thead>\n",
       "    <tr style=\"text-align: right;\">\n",
       "      <th></th>\n",
       "      <th>SmallCap</th>\n",
       "      <th>LargeCap</th>\n",
       "    </tr>\n",
       "  </thead>\n",
       "  <tbody>\n",
       "    <tr>\n",
       "      <th>1926-07-01</th>\n",
       "      <td>-0.0145</td>\n",
       "      <td>0.0329</td>\n",
       "    </tr>\n",
       "    <tr>\n",
       "      <th>1926-08-01</th>\n",
       "      <td>0.0512</td>\n",
       "      <td>0.0370</td>\n",
       "    </tr>\n",
       "    <tr>\n",
       "      <th>1926-09-01</th>\n",
       "      <td>0.0093</td>\n",
       "      <td>0.0067</td>\n",
       "    </tr>\n",
       "    <tr>\n",
       "      <th>1926-10-01</th>\n",
       "      <td>-0.0484</td>\n",
       "      <td>-0.0243</td>\n",
       "    </tr>\n",
       "    <tr>\n",
       "      <th>1926-11-01</th>\n",
       "      <td>-0.0078</td>\n",
       "      <td>0.0270</td>\n",
       "    </tr>\n",
       "  </tbody>\n",
       "</table>\n",
       "</div>"
      ],
      "text/plain": [
       "            SmallCap  LargeCap\n",
       "1926-07-01   -0.0145    0.0329\n",
       "1926-08-01    0.0512    0.0370\n",
       "1926-09-01    0.0093    0.0067\n",
       "1926-10-01   -0.0484   -0.0243\n",
       "1926-11-01   -0.0078    0.0270"
      ]
     },
     "execution_count": 72,
     "metadata": {},
     "output_type": "execute_result"
    }
   ],
   "source": [
    "rets.head()"
   ]
  },
  {
   "cell_type": "markdown",
   "id": "7a29168d",
   "metadata": {},
   "source": [
    "Vemos que o formato de dados foi convertido para 'data e hora'. Entretanto, por padrão, foi atribuído o primeiro dia de cada mês. Isso é indesejado na medida em que os retornos referem-se ao mês como um todo. Para esse novo problema, façamos:"
   ]
  },
  {
   "cell_type": "code",
   "execution_count": 73,
   "id": "5c41030a",
   "metadata": {},
   "outputs": [
    {
     "data": {
      "text/html": [
       "<div>\n",
       "<style scoped>\n",
       "    .dataframe tbody tr th:only-of-type {\n",
       "        vertical-align: middle;\n",
       "    }\n",
       "\n",
       "    .dataframe tbody tr th {\n",
       "        vertical-align: top;\n",
       "    }\n",
       "\n",
       "    .dataframe thead th {\n",
       "        text-align: right;\n",
       "    }\n",
       "</style>\n",
       "<table border=\"1\" class=\"dataframe\">\n",
       "  <thead>\n",
       "    <tr style=\"text-align: right;\">\n",
       "      <th></th>\n",
       "      <th>SmallCap</th>\n",
       "      <th>LargeCap</th>\n",
       "    </tr>\n",
       "  </thead>\n",
       "  <tbody>\n",
       "    <tr>\n",
       "      <th>1926-07</th>\n",
       "      <td>-0.0145</td>\n",
       "      <td>0.0329</td>\n",
       "    </tr>\n",
       "    <tr>\n",
       "      <th>1926-08</th>\n",
       "      <td>0.0512</td>\n",
       "      <td>0.0370</td>\n",
       "    </tr>\n",
       "    <tr>\n",
       "      <th>1926-09</th>\n",
       "      <td>0.0093</td>\n",
       "      <td>0.0067</td>\n",
       "    </tr>\n",
       "    <tr>\n",
       "      <th>1926-10</th>\n",
       "      <td>-0.0484</td>\n",
       "      <td>-0.0243</td>\n",
       "    </tr>\n",
       "    <tr>\n",
       "      <th>1926-11</th>\n",
       "      <td>-0.0078</td>\n",
       "      <td>0.0270</td>\n",
       "    </tr>\n",
       "  </tbody>\n",
       "</table>\n",
       "</div>"
      ],
      "text/plain": [
       "         SmallCap  LargeCap\n",
       "1926-07   -0.0145    0.0329\n",
       "1926-08    0.0512    0.0370\n",
       "1926-09    0.0093    0.0067\n",
       "1926-10   -0.0484   -0.0243\n",
       "1926-11   -0.0078    0.0270"
      ]
     },
     "execution_count": 73,
     "metadata": {},
     "output_type": "execute_result"
    }
   ],
   "source": [
    "rets.index = rets.index.to_period('M')\n",
    "rets.head()"
   ]
  },
  {
   "cell_type": "markdown",
   "id": "a0f59ce6",
   "metadata": {},
   "source": [
    "Visualizamos novamente o gráfico de retornos:"
   ]
  },
  {
   "cell_type": "code",
   "execution_count": 79,
   "id": "d7fbd419",
   "metadata": {},
   "outputs": [
    {
     "data": {
      "text/plain": [
       "<AxesSubplot:>"
      ]
     },
     "execution_count": 79,
     "metadata": {},
     "output_type": "execute_result"
    },
    {
     "data": {
      "image/png": "[encoded data removed]",
      "text/plain": [
       "<Figure size 432x288 with 1 Axes>"
      ]
     },
     "metadata": {
      "needs_background": "light"
     },
     "output_type": "display_data"
    }
   ],
   "source": [
    "rets.plot.line(lw=.5, grid=True)"
   ]
  },
  {
   "cell_type": "markdown",
   "id": "dd50ec76",
   "metadata": {},
   "source": [
    "Podemos ver informações gerais desse dataframe:"
   ]
  },
  {
   "cell_type": "code",
   "execution_count": 80,
   "id": "22bd6f0c",
   "metadata": {},
   "outputs": [
    {
     "name": "stdout",
     "output_type": "stream",
     "text": [
      "<class 'pandas.core.frame.DataFrame'>\n",
      "PeriodIndex: 1110 entries, 1926-07 to 2018-12\n",
      "Freq: M\n",
      "Data columns (total 2 columns):\n",
      " #   Column    Non-Null Count  Dtype  \n",
      "---  ------    --------------  -----  \n",
      " 0   SmallCap  1110 non-null   float64\n",
      " 1   LargeCap  1110 non-null   float64\n",
      "dtypes: float64(2)\n",
      "memory usage: 26.0 KB\n"
     ]
    }
   ],
   "source": [
    "rets.info()"
   ]
  },
  {
   "cell_type": "markdown",
   "id": "74c1d723",
   "metadata": {},
   "source": [
    "**Procedimento**"
   ]
  },
  {
   "cell_type": "markdown",
   "id": "6dbe5129",
   "metadata": {},
   "source": [
    "1. Calcular o índice de riqueza"
   ]
  },
  {
   "cell_type": "code",
   "execution_count": 81,
   "id": "ecde2d35",
   "metadata": {},
   "outputs": [
    {
     "data": {
      "text/plain": [
       "1926-07    1032.900000\n",
       "1926-08    1071.117300\n",
       "1926-09    1078.293786\n",
       "1926-10    1052.091247\n",
       "1926-11    1080.497711\n",
       "Freq: M, Name: LargeCap, dtype: float64"
      ]
     },
     "execution_count": 81,
     "metadata": {},
     "output_type": "execute_result"
    }
   ],
   "source": [
    "wealth_index = 1000. * (1 + rets['LargeCap']).cumprod()\n",
    "\n",
    "wealth_index.head()\n"
   ]
  },
  {
   "cell_type": "code",
   "execution_count": 84,
   "id": "f27beb06",
   "metadata": {},
   "outputs": [
    {
     "data": {
      "text/plain": [
       "<AxesSubplot:>"
      ]
     },
     "execution_count": 84,
     "metadata": {},
     "output_type": "execute_result"
    },
    {
     "data": {
      "image/png": "[encoded data removed]",
      "text/plain": [
       "<Figure size 432x288 with 1 Axes>"
      ]
     },
     "metadata": {
      "needs_background": "light"
     },
     "output_type": "display_data"
    }
   ],
   "source": [
    "wealth_index.plot.line(lw=1, grid=True)"
   ]
  },
  {
   "cell_type": "markdown",
   "id": "89e2f9c5",
   "metadata": {},
   "source": [
    "2. Calcular picos anteriores"
   ]
  },
  {
   "cell_type": "code",
   "execution_count": 86,
   "id": "1745abed",
   "metadata": {},
   "outputs": [],
   "source": [
    "previous_peaks = wealth_index.cummax()"
   ]
  },
  {
   "cell_type": "code",
   "execution_count": 88,
   "id": "b0e9e53a",
   "metadata": {},
   "outputs": [
    {
     "data": {
      "text/plain": [
       "<AxesSubplot:>"
      ]
     },
     "execution_count": 88,
     "metadata": {},
     "output_type": "execute_result"
    },
    {
     "data": {
      "image/png": "[encoded data removed]",
      "text/plain": [
       "<Figure size 432x288 with 1 Axes>"
      ]
     },
     "metadata": {
      "needs_background": "light"
     },
     "output_type": "display_data"
    }
   ],
   "source": [
    "previous_peaks.plot(lw=1, grid=True)"
   ]
  },
  {
   "cell_type": "markdown",
   "id": "f883c24d",
   "metadata": {},
   "source": [
    "3. Calcular o _drawdown_ - que é o valor da riqueza como porcentagem do pico anterior"
   ]
  },
  {
   "cell_type": "code",
   "execution_count": 89,
   "id": "8644a765",
   "metadata": {},
   "outputs": [
    {
     "data": {
      "text/plain": [
       "<AxesSubplot:>"
      ]
     },
     "execution_count": 89,
     "metadata": {},
     "output_type": "execute_result"
    },
    {
     "data": {
      "image/png": "[encoded data removed]",
      "text/plain": [
       "<Figure size 432x288 with 1 Axes>"
      ]
     },
     "metadata": {
      "needs_background": "light"
     },
     "output_type": "display_data"
    }
   ],
   "source": [
    "drawdown = (wealth_index - previous_peaks) / previous_peaks\n",
    "\n",
    "drawdown.plot(lw=1, grid=True)"
   ]
  },
  {
   "cell_type": "code",
   "execution_count": 90,
   "id": "e6ae5289",
   "metadata": {},
   "outputs": [
    {
     "data": {
      "text/plain": [
       "-0.8400375277943123"
      ]
     },
     "execution_count": 90,
     "metadata": {},
     "output_type": "execute_result"
    }
   ],
   "source": [
    "max_drawdown = drawdown.min()\n",
    "\n",
    "max_drawdown"
   ]
  },
  {
   "cell_type": "markdown",
   "id": "3d072d32",
   "metadata": {},
   "source": [
    "O máximo _drawdown_ e o momento de sua ocorrência:"
   ]
  },
  {
   "cell_type": "code",
   "execution_count": 110,
   "id": "26fdf784",
   "metadata": {},
   "outputs": [
    {
     "name": "stdout",
     "output_type": "stream",
     "text": [
      "O máximo drawdown de todo o período analizado ocorreu no mês 05 de 1932 e  foi de -84.00%.\n"
     ]
    }
   ],
   "source": [
    "print(f\"O máximo drawdown de todo o período analizado ocorreu no mês {drawdown.idxmin().strftime('%m de %Y')} e  foi de {100 * drawdown.min():.2f}%.\")"
   ]
  },
  {
   "cell_type": "markdown",
   "id": "6e552ade",
   "metadata": {},
   "source": []
  },
  {
   "cell_type": "code",
   "execution_count": 120,
   "id": "c837b0f2",
   "metadata": {},
   "outputs": [
    {
     "name": "stdout",
     "output_type": "stream",
     "text": [
      "O máximo drawdown desde 1975 ocorreu no mês 02 de 2009 e  foi de -0.53%.\n"
     ]
    }
   ],
   "source": [
    "dd_value = drawdown[\"1975\":].min()\n",
    "dd_time = drawdown[\"1975\":].idxmin().strftime('%m de %Y')\n",
    "\n",
    "print(f\"O máximo drawdown desde 1975 ocorreu no mês {dd_time} e  foi de {dd_value:.2f}%.\")"
   ]
  },
  {
   "cell_type": "code",
   "execution_count": 115,
   "id": "cee611a8",
   "metadata": {},
   "outputs": [
    {
     "data": {
      "text/plain": [
       "'02 de 2009'"
      ]
     },
     "execution_count": 115,
     "metadata": {},
     "output_type": "execute_result"
    }
   ],
   "source": [
    "drawdown[\"1975\":].idxmin().strftime('%m de %Y')"
   ]
  },
  {
   "cell_type": "code",
   "execution_count": 130,
   "id": "45d739cf",
   "metadata": {},
   "outputs": [],
   "source": [
    "def drawdown(return_series: pd.Series):\n",
    "    \"\"\"\n",
    "    Takes a times series of asset returns\n",
    "    Computes and returns a DataFrame that contains:\n",
    "        - the  wealth index\n",
    "        - the previous peaks\n",
    "        - percent drawdowns\n",
    "    \"\"\"\n",
    "    wealth_index = 1000 * (1 + return_series).cumprod()\n",
    "    previous_peaks = wealth_index.cummax()\n",
    "    drawdowns = (wealth_index - previous_peaks) / previous_peaks\n",
    "    return pd.DataFrame({\n",
    "        'Wealth'    : wealth_index,\n",
    "        'Peaks'     : previous_peaks,\n",
    "        'Drawdown' : drawdowns\n",
    "    })"
   ]
  },
  {
   "cell_type": "code",
   "execution_count": 131,
   "id": "59858878",
   "metadata": {},
   "outputs": [
    {
     "data": {
      "text/html": [
       "<div>\n",
       "<style scoped>\n",
       "    .dataframe tbody tr th:only-of-type {\n",
       "        vertical-align: middle;\n",
       "    }\n",
       "\n",
       "    .dataframe tbody tr th {\n",
       "        vertical-align: top;\n",
       "    }\n",
       "\n",
       "    .dataframe thead th {\n",
       "        text-align: right;\n",
       "    }\n",
       "</style>\n",
       "<table border=\"1\" class=\"dataframe\">\n",
       "  <thead>\n",
       "    <tr style=\"text-align: right;\">\n",
       "      <th></th>\n",
       "      <th>Wealth</th>\n",
       "      <th>Peaks</th>\n",
       "      <th>Drawdown</th>\n",
       "    </tr>\n",
       "  </thead>\n",
       "  <tbody>\n",
       "    <tr>\n",
       "      <th>1926-07</th>\n",
       "      <td>1032.900000</td>\n",
       "      <td>1032.900000</td>\n",
       "      <td>0.0000</td>\n",
       "    </tr>\n",
       "    <tr>\n",
       "      <th>1926-08</th>\n",
       "      <td>1071.117300</td>\n",
       "      <td>1071.117300</td>\n",
       "      <td>0.0000</td>\n",
       "    </tr>\n",
       "    <tr>\n",
       "      <th>1926-09</th>\n",
       "      <td>1078.293786</td>\n",
       "      <td>1078.293786</td>\n",
       "      <td>0.0000</td>\n",
       "    </tr>\n",
       "    <tr>\n",
       "      <th>1926-10</th>\n",
       "      <td>1052.091247</td>\n",
       "      <td>1078.293786</td>\n",
       "      <td>-0.0243</td>\n",
       "    </tr>\n",
       "    <tr>\n",
       "      <th>1926-11</th>\n",
       "      <td>1080.497711</td>\n",
       "      <td>1080.497711</td>\n",
       "      <td>0.0000</td>\n",
       "    </tr>\n",
       "  </tbody>\n",
       "</table>\n",
       "</div>"
      ],
      "text/plain": [
       "              Wealth        Peaks  Drawdown\n",
       "1926-07  1032.900000  1032.900000    0.0000\n",
       "1926-08  1071.117300  1071.117300    0.0000\n",
       "1926-09  1078.293786  1078.293786    0.0000\n",
       "1926-10  1052.091247  1078.293786   -0.0243\n",
       "1926-11  1080.497711  1080.497711    0.0000"
      ]
     },
     "execution_count": 131,
     "metadata": {},
     "output_type": "execute_result"
    }
   ],
   "source": [
    "largecap_drawdown = drawdown(rets['LargeCap'])\n",
    "\n",
    "largecap_drawdown.head()"
   ]
  },
  {
   "cell_type": "code",
   "execution_count": 132,
   "id": "db48d659",
   "metadata": {},
   "outputs": [
    {
     "data": {
      "text/plain": [
       "<AxesSubplot:>"
      ]
     },
     "execution_count": 132,
     "metadata": {},
     "output_type": "execute_result"
    },
    {
     "data": {
      "image/png": "[encoded data removed]",
      "text/plain": [
       "<Figure size 432x288 with 1 Axes>"
      ]
     },
     "metadata": {
      "needs_background": "light"
     },
     "output_type": "display_data"
    }
   ],
   "source": [
    "largecap_drawdown[['Wealth', 'Peaks']].plot(lw=1, grid=True)"
   ]
  },
  {
   "cell_type": "code",
   "execution_count": 133,
   "id": "5980d649",
   "metadata": {},
   "outputs": [
    {
     "data": {
      "text/plain": [
       "<AxesSubplot:>"
      ]
     },
     "execution_count": 133,
     "metadata": {},
     "output_type": "execute_result"
    },
    {
     "data": {
      "image/png": "[encoded data removed]",
      "text/plain": [
       "<Figure size 432x288 with 1 Axes>"
      ]
     },
     "metadata": {
      "needs_background": "light"
     },
     "output_type": "display_data"
    }
   ],
   "source": [
    "largecap_drawdown[:\"1950\"][['Wealth', 'Peaks']].plot(lw=1, grid=True)"
   ]
  },
  {
   "cell_type": "code",
   "execution_count": 134,
   "id": "020cb746",
   "metadata": {},
   "outputs": [
    {
     "data": {
      "text/html": [
       "<div>\n",
       "<style scoped>\n",
       "    .dataframe tbody tr th:only-of-type {\n",
       "        vertical-align: middle;\n",
       "    }\n",
       "\n",
       "    .dataframe tbody tr th {\n",
       "        vertical-align: top;\n",
       "    }\n",
       "\n",
       "    .dataframe thead th {\n",
       "        text-align: right;\n",
       "    }\n",
       "</style>\n",
       "<table border=\"1\" class=\"dataframe\">\n",
       "  <thead>\n",
       "    <tr style=\"text-align: right;\">\n",
       "      <th></th>\n",
       "      <th>Wealth</th>\n",
       "      <th>Peaks</th>\n",
       "      <th>Drawdown</th>\n",
       "    </tr>\n",
       "  </thead>\n",
       "  <tbody>\n",
       "    <tr>\n",
       "      <th>1926-07</th>\n",
       "      <td>985.500000</td>\n",
       "      <td>985.500000</td>\n",
       "      <td>0.000000</td>\n",
       "    </tr>\n",
       "    <tr>\n",
       "      <th>1926-08</th>\n",
       "      <td>1035.957600</td>\n",
       "      <td>1035.957600</td>\n",
       "      <td>0.000000</td>\n",
       "    </tr>\n",
       "    <tr>\n",
       "      <th>1926-09</th>\n",
       "      <td>1045.592006</td>\n",
       "      <td>1045.592006</td>\n",
       "      <td>0.000000</td>\n",
       "    </tr>\n",
       "    <tr>\n",
       "      <th>1926-10</th>\n",
       "      <td>994.985353</td>\n",
       "      <td>1045.592006</td>\n",
       "      <td>-0.048400</td>\n",
       "    </tr>\n",
       "    <tr>\n",
       "      <th>1926-11</th>\n",
       "      <td>987.224467</td>\n",
       "      <td>1045.592006</td>\n",
       "      <td>-0.055822</td>\n",
       "    </tr>\n",
       "  </tbody>\n",
       "</table>\n",
       "</div>"
      ],
      "text/plain": [
       "              Wealth        Peaks  Drawdown\n",
       "1926-07   985.500000   985.500000  0.000000\n",
       "1926-08  1035.957600  1035.957600  0.000000\n",
       "1926-09  1045.592006  1045.592006  0.000000\n",
       "1926-10   994.985353  1045.592006 -0.048400\n",
       "1926-11   987.224467  1045.592006 -0.055822"
      ]
     },
     "execution_count": 134,
     "metadata": {},
     "output_type": "execute_result"
    }
   ],
   "source": [
    "smallcap_drawdown = drawdown(rets['SmallCap'])\n",
    "\n",
    "smallcap_drawdown.head()"
   ]
  },
  {
   "cell_type": "code",
   "execution_count": 141,
   "id": "02b6631f",
   "metadata": {},
   "outputs": [
    {
     "name": "stdout",
     "output_type": "stream",
     "text": [
      "Para as SmallCaps, o máximo drawdown de todo o período foi de -83.30% e ocorreu eno mês 05 de 1932.\n"
     ]
    }
   ],
   "source": [
    "smallcap_drawdown_value = smallcap_drawdown['Drawdown'].min()\n",
    "smallcap_drawdown_strtime = smallcap_drawdown['Drawdown'].idxmin().strftime('%m de %Y')\n",
    "\n",
    "print(f\"Para as SmallCaps, o máximo drawdown de todo o período foi de {100 * smallcap_drawdown_value:.2f}% e ocorreu eno mês {smallcap_drawdown_strtime}.\")"
   ]
  },
  {
   "cell_type": "code",
   "execution_count": 142,
   "id": "2bfce687",
   "metadata": {},
   "outputs": [
    {
     "name": "stdout",
     "output_type": "stream",
     "text": [
      "Para as SmallCaps, o máximo drawdown desde 1975 foi de -63.12% e ocorreu eno mês 02 de 2009.\n"
     ]
    }
   ],
   "source": [
    "smallcap_drawdown_value_75 = smallcap_drawdown[\"1975\":]['Drawdown'].min()\n",
    "smallcap_drawdown_strtime_75 = smallcap_drawdown[\"1975\":]['Drawdown'].idxmin().strftime('%m de %Y')\n",
    "\n",
    "print(f\"Para as SmallCaps, o máximo drawdown desde 1975 foi de {100 * smallcap_drawdown_value_75:.2f}% e ocorreu eno mês {smallcap_drawdown_strtime_75}.\")"
   ]
  },
  {
   "cell_type": "markdown",
   "id": "e08b742b",
   "metadata": {},
   "source": [
    "**Exemplo Brasileiro**"
   ]
  },
  {
   "cell_type": "code",
   "execution_count": 143,
   "id": "0fd92445",
   "metadata": {},
   "outputs": [],
   "source": [
    "import yfinance as yf "
   ]
  },
  {
   "cell_type": "code",
   "execution_count": 180,
   "id": "fcc88eea",
   "metadata": {},
   "outputs": [
    {
     "data": {
      "text/html": [
       "<div>\n",
       "<style scoped>\n",
       "    .dataframe tbody tr th:only-of-type {\n",
       "        vertical-align: middle;\n",
       "    }\n",
       "\n",
       "    .dataframe tbody tr th {\n",
       "        vertical-align: top;\n",
       "    }\n",
       "\n",
       "    .dataframe thead tr th {\n",
       "        text-align: left;\n",
       "    }\n",
       "\n",
       "    .dataframe thead tr:last-of-type th {\n",
       "        text-align: right;\n",
       "    }\n",
       "</style>\n",
       "<table border=\"1\" class=\"dataframe\">\n",
       "  <thead>\n",
       "    <tr>\n",
       "      <th></th>\n",
       "      <th colspan=\"4\" halign=\"left\">Adj Close</th>\n",
       "      <th colspan=\"4\" halign=\"left\">Close</th>\n",
       "      <th colspan=\"2\" halign=\"left\">High</th>\n",
       "      <th>...</th>\n",
       "      <th colspan=\"2\" halign=\"left\">Low</th>\n",
       "      <th colspan=\"4\" halign=\"left\">Open</th>\n",
       "      <th colspan=\"4\" halign=\"left\">Volume</th>\n",
       "    </tr>\n",
       "    <tr>\n",
       "      <th></th>\n",
       "      <th>BBDC3.SA</th>\n",
       "      <th>JBSS3.SA</th>\n",
       "      <th>MGLU3.SA</th>\n",
       "      <th>PETR3.SA</th>\n",
       "      <th>BBDC3.SA</th>\n",
       "      <th>JBSS3.SA</th>\n",
       "      <th>MGLU3.SA</th>\n",
       "      <th>PETR3.SA</th>\n",
       "      <th>BBDC3.SA</th>\n",
       "      <th>JBSS3.SA</th>\n",
       "      <th>...</th>\n",
       "      <th>MGLU3.SA</th>\n",
       "      <th>PETR3.SA</th>\n",
       "      <th>BBDC3.SA</th>\n",
       "      <th>JBSS3.SA</th>\n",
       "      <th>MGLU3.SA</th>\n",
       "      <th>PETR3.SA</th>\n",
       "      <th>BBDC3.SA</th>\n",
       "      <th>JBSS3.SA</th>\n",
       "      <th>MGLU3.SA</th>\n",
       "      <th>PETR3.SA</th>\n",
       "    </tr>\n",
       "    <tr>\n",
       "      <th>Date</th>\n",
       "      <th></th>\n",
       "      <th></th>\n",
       "      <th></th>\n",
       "      <th></th>\n",
       "      <th></th>\n",
       "      <th></th>\n",
       "      <th></th>\n",
       "      <th></th>\n",
       "      <th></th>\n",
       "      <th></th>\n",
       "      <th></th>\n",
       "      <th></th>\n",
       "      <th></th>\n",
       "      <th></th>\n",
       "      <th></th>\n",
       "      <th></th>\n",
       "      <th></th>\n",
       "      <th></th>\n",
       "      <th></th>\n",
       "      <th></th>\n",
       "      <th></th>\n",
       "    </tr>\n",
       "  </thead>\n",
       "  <tbody>\n",
       "    <tr>\n",
       "      <th>2016-01-04</th>\n",
       "      <td>8.173043</td>\n",
       "      <td>9.907081</td>\n",
       "      <td>0.066922</td>\n",
       "      <td>6.635111</td>\n",
       "      <td>10.452175</td>\n",
       "      <td>12.05</td>\n",
       "      <td>0.070117</td>\n",
       "      <td>8.67</td>\n",
       "      <td>10.597057</td>\n",
       "      <td>12.20</td>\n",
       "      <td>...</td>\n",
       "      <td>0.064921</td>\n",
       "      <td>8.31</td>\n",
       "      <td>10.452175</td>\n",
       "      <td>12.06</td>\n",
       "      <td>0.066210</td>\n",
       "      <td>8.31</td>\n",
       "      <td>3815169.0</td>\n",
       "      <td>6412800.0</td>\n",
       "      <td>138547200.0</td>\n",
       "      <td>16912500.0</td>\n",
       "    </tr>\n",
       "    <tr>\n",
       "      <th>2016-01-05</th>\n",
       "      <td>8.236720</td>\n",
       "      <td>9.413780</td>\n",
       "      <td>0.067593</td>\n",
       "      <td>6.466746</td>\n",
       "      <td>10.524616</td>\n",
       "      <td>11.45</td>\n",
       "      <td>0.070820</td>\n",
       "      <td>8.45</td>\n",
       "      <td>10.524616</td>\n",
       "      <td>12.22</td>\n",
       "      <td>...</td>\n",
       "      <td>0.070117</td>\n",
       "      <td>8.35</td>\n",
       "      <td>10.452175</td>\n",
       "      <td>12.14</td>\n",
       "      <td>0.071523</td>\n",
       "      <td>8.73</td>\n",
       "      <td>2707202.0</td>\n",
       "      <td>7522700.0</td>\n",
       "      <td>96179200.0</td>\n",
       "      <td>9146500.0</td>\n",
       "    </tr>\n",
       "    <tr>\n",
       "      <th>2016-01-06</th>\n",
       "      <td>8.090937</td>\n",
       "      <td>8.550508</td>\n",
       "      <td>0.061740</td>\n",
       "      <td>6.168281</td>\n",
       "      <td>10.338340</td>\n",
       "      <td>10.40</td>\n",
       "      <td>0.064687</td>\n",
       "      <td>8.06</td>\n",
       "      <td>10.545313</td>\n",
       "      <td>11.32</td>\n",
       "      <td>...</td>\n",
       "      <td>0.064687</td>\n",
       "      <td>8.06</td>\n",
       "      <td>10.384909</td>\n",
       "      <td>11.28</td>\n",
       "      <td>0.070820</td>\n",
       "      <td>8.22</td>\n",
       "      <td>2217092.0</td>\n",
       "      <td>15168200.0</td>\n",
       "      <td>117324800.0</td>\n",
       "      <td>9908400.0</td>\n",
       "    </tr>\n",
       "    <tr>\n",
       "      <th>2016-01-07</th>\n",
       "      <td>7.831771</td>\n",
       "      <td>9.043809</td>\n",
       "      <td>0.053537</td>\n",
       "      <td>5.992262</td>\n",
       "      <td>10.007181</td>\n",
       "      <td>11.00</td>\n",
       "      <td>0.056093</td>\n",
       "      <td>7.83</td>\n",
       "      <td>10.203807</td>\n",
       "      <td>11.02</td>\n",
       "      <td>...</td>\n",
       "      <td>0.051171</td>\n",
       "      <td>7.65</td>\n",
       "      <td>10.095145</td>\n",
       "      <td>10.33</td>\n",
       "      <td>0.062500</td>\n",
       "      <td>7.72</td>\n",
       "      <td>2768659.0</td>\n",
       "      <td>15282900.0</td>\n",
       "      <td>226688000.0</td>\n",
       "      <td>10777500.0</td>\n",
       "    </tr>\n",
       "    <tr>\n",
       "      <th>2016-01-08</th>\n",
       "      <td>7.815570</td>\n",
       "      <td>9.208241</td>\n",
       "      <td>0.053762</td>\n",
       "      <td>6.015221</td>\n",
       "      <td>9.986484</td>\n",
       "      <td>11.20</td>\n",
       "      <td>0.056328</td>\n",
       "      <td>7.86</td>\n",
       "      <td>10.172761</td>\n",
       "      <td>11.20</td>\n",
       "      <td>...</td>\n",
       "      <td>0.055664</td>\n",
       "      <td>7.68</td>\n",
       "      <td>10.100320</td>\n",
       "      <td>10.72</td>\n",
       "      <td>0.058593</td>\n",
       "      <td>8.00</td>\n",
       "      <td>2940855.0</td>\n",
       "      <td>13947300.0</td>\n",
       "      <td>97638400.0</td>\n",
       "      <td>10759800.0</td>\n",
       "    </tr>\n",
       "  </tbody>\n",
       "</table>\n",
       "<p>5 rows × 24 columns</p>\n",
       "</div>"
      ],
      "text/plain": [
       "           Adj Close                                    Close           \\\n",
       "            BBDC3.SA  JBSS3.SA  MGLU3.SA  PETR3.SA   BBDC3.SA JBSS3.SA   \n",
       "Date                                                                     \n",
       "2016-01-04  8.173043  9.907081  0.066922  6.635111  10.452175    12.05   \n",
       "2016-01-05  8.236720  9.413780  0.067593  6.466746  10.524616    11.45   \n",
       "2016-01-06  8.090937  8.550508  0.061740  6.168281  10.338340    10.40   \n",
       "2016-01-07  7.831771  9.043809  0.053537  5.992262  10.007181    11.00   \n",
       "2016-01-08  7.815570  9.208241  0.053762  6.015221   9.986484    11.20   \n",
       "\n",
       "                                    High           ...       Low           \\\n",
       "            MGLU3.SA PETR3.SA   BBDC3.SA JBSS3.SA  ...  MGLU3.SA PETR3.SA   \n",
       "Date                                               ...                      \n",
       "2016-01-04  0.070117     8.67  10.597057    12.20  ...  0.064921     8.31   \n",
       "2016-01-05  0.070820     8.45  10.524616    12.22  ...  0.070117     8.35   \n",
       "2016-01-06  0.064687     8.06  10.545313    11.32  ...  0.064687     8.06   \n",
       "2016-01-07  0.056093     7.83  10.203807    11.02  ...  0.051171     7.65   \n",
       "2016-01-08  0.056328     7.86  10.172761    11.20  ...  0.055664     7.68   \n",
       "\n",
       "                 Open                                 Volume              \\\n",
       "             BBDC3.SA JBSS3.SA  MGLU3.SA PETR3.SA   BBDC3.SA    JBSS3.SA   \n",
       "Date                                                                       \n",
       "2016-01-04  10.452175    12.06  0.066210     8.31  3815169.0   6412800.0   \n",
       "2016-01-05  10.452175    12.14  0.071523     8.73  2707202.0   7522700.0   \n",
       "2016-01-06  10.384909    11.28  0.070820     8.22  2217092.0  15168200.0   \n",
       "2016-01-07  10.095145    10.33  0.062500     7.72  2768659.0  15282900.0   \n",
       "2016-01-08  10.100320    10.72  0.058593     8.00  2940855.0  13947300.0   \n",
       "\n",
       "                                     \n",
       "               MGLU3.SA    PETR3.SA  \n",
       "Date                                 \n",
       "2016-01-04  138547200.0  16912500.0  \n",
       "2016-01-05   96179200.0   9146500.0  \n",
       "2016-01-06  117324800.0   9908400.0  \n",
       "2016-01-07  226688000.0  10777500.0  \n",
       "2016-01-08   97638400.0  10759800.0  \n",
       "\n",
       "[5 rows x 24 columns]"
      ]
     },
     "execution_count": 180,
     "metadata": {},
     "output_type": "execute_result"
    }
   ],
   "source": [
    "tickers = ['MGLU3.SA', 'PETR3.SA', 'BBDC3.SA', 'JBSS3.SA']\n",
    "\n",
    "prices = yf.download(tickers, '2016-01-01', '2021-12-31', progress=False)\n",
    "prices.head()"
   ]
  },
  {
   "cell_type": "code",
   "execution_count": 182,
   "id": "72402364",
   "metadata": {},
   "outputs": [
    {
     "data": {
      "text/html": [
       "<div>\n",
       "<style scoped>\n",
       "    .dataframe tbody tr th:only-of-type {\n",
       "        vertical-align: middle;\n",
       "    }\n",
       "\n",
       "    .dataframe tbody tr th {\n",
       "        vertical-align: top;\n",
       "    }\n",
       "\n",
       "    .dataframe thead th {\n",
       "        text-align: right;\n",
       "    }\n",
       "</style>\n",
       "<table border=\"1\" class=\"dataframe\">\n",
       "  <thead>\n",
       "    <tr style=\"text-align: right;\">\n",
       "      <th></th>\n",
       "      <th>MGLU3.SA</th>\n",
       "      <th>PETR3.SA</th>\n",
       "      <th>BBDC3.SA</th>\n",
       "      <th>JBSS3.SA</th>\n",
       "    </tr>\n",
       "    <tr>\n",
       "      <th>Date</th>\n",
       "      <th></th>\n",
       "      <th></th>\n",
       "      <th></th>\n",
       "      <th></th>\n",
       "    </tr>\n",
       "  </thead>\n",
       "  <tbody>\n",
       "    <tr>\n",
       "      <th>2016-01-05</th>\n",
       "      <td>0.007791</td>\n",
       "      <td>-0.049793</td>\n",
       "      <td>0.010026</td>\n",
       "      <td>-0.025375</td>\n",
       "    </tr>\n",
       "    <tr>\n",
       "      <th>2016-01-06</th>\n",
       "      <td>-0.017699</td>\n",
       "      <td>-0.091703</td>\n",
       "      <td>-0.086600</td>\n",
       "      <td>-0.046154</td>\n",
       "    </tr>\n",
       "    <tr>\n",
       "      <th>2016-01-07</th>\n",
       "      <td>-0.032032</td>\n",
       "      <td>0.057693</td>\n",
       "      <td>-0.132855</td>\n",
       "      <td>-0.028536</td>\n",
       "    </tr>\n",
       "    <tr>\n",
       "      <th>2016-01-08</th>\n",
       "      <td>-0.002069</td>\n",
       "      <td>0.018182</td>\n",
       "      <td>0.004189</td>\n",
       "      <td>0.003831</td>\n",
       "    </tr>\n",
       "    <tr>\n",
       "      <th>2016-01-11</th>\n",
       "      <td>-0.019172</td>\n",
       "      <td>0.019643</td>\n",
       "      <td>0.000000</td>\n",
       "      <td>-0.035623</td>\n",
       "    </tr>\n",
       "  </tbody>\n",
       "</table>\n",
       "</div>"
      ],
      "text/plain": [
       "            MGLU3.SA  PETR3.SA  BBDC3.SA  JBSS3.SA\n",
       "Date                                              \n",
       "2016-01-05  0.007791 -0.049793  0.010026 -0.025375\n",
       "2016-01-06 -0.017699 -0.091703 -0.086600 -0.046154\n",
       "2016-01-07 -0.032032  0.057693 -0.132855 -0.028536\n",
       "2016-01-08 -0.002069  0.018182  0.004189  0.003831\n",
       "2016-01-11 -0.019172  0.019643  0.000000 -0.035623"
      ]
     },
     "execution_count": 182,
     "metadata": {},
     "output_type": "execute_result"
    }
   ],
   "source": [
    "returns = pd.DataFrame()\n",
    "returns[tickers] = prices['Adj Close'].pct_change().dropna()\n",
    "\n",
    "\n",
    "returns.head()"
   ]
  },
  {
   "cell_type": "code",
   "execution_count": 185,
   "id": "386a8911",
   "metadata": {},
   "outputs": [
    {
     "data": {
      "text/html": [
       "<div>\n",
       "<style scoped>\n",
       "    .dataframe tbody tr th:only-of-type {\n",
       "        vertical-align: middle;\n",
       "    }\n",
       "\n",
       "    .dataframe tbody tr th {\n",
       "        vertical-align: top;\n",
       "    }\n",
       "\n",
       "    .dataframe thead th {\n",
       "        text-align: right;\n",
       "    }\n",
       "</style>\n",
       "<table border=\"1\" class=\"dataframe\">\n",
       "  <thead>\n",
       "    <tr style=\"text-align: right;\">\n",
       "      <th></th>\n",
       "      <th>MGLU3.SA</th>\n",
       "      <th>PETR3.SA</th>\n",
       "      <th>BBDC3.SA</th>\n",
       "      <th>JBSS3.SA</th>\n",
       "    </tr>\n",
       "    <tr>\n",
       "      <th>Date</th>\n",
       "      <th></th>\n",
       "      <th></th>\n",
       "      <th></th>\n",
       "      <th></th>\n",
       "    </tr>\n",
       "  </thead>\n",
       "  <tbody>\n",
       "    <tr>\n",
       "      <th>2016-01-05</th>\n",
       "      <td>0.000000</td>\n",
       "      <td>0.000000</td>\n",
       "      <td>0.000000</td>\n",
       "      <td>0.000000</td>\n",
       "    </tr>\n",
       "    <tr>\n",
       "      <th>2016-01-06</th>\n",
       "      <td>-0.017699</td>\n",
       "      <td>-0.091703</td>\n",
       "      <td>-0.086600</td>\n",
       "      <td>-0.046154</td>\n",
       "    </tr>\n",
       "    <tr>\n",
       "      <th>2016-01-07</th>\n",
       "      <td>-0.049164</td>\n",
       "      <td>-0.039301</td>\n",
       "      <td>-0.207950</td>\n",
       "      <td>-0.073373</td>\n",
       "    </tr>\n",
       "    <tr>\n",
       "      <th>2016-01-08</th>\n",
       "      <td>-0.051131</td>\n",
       "      <td>-0.021834</td>\n",
       "      <td>-0.204632</td>\n",
       "      <td>-0.069823</td>\n",
       "    </tr>\n",
       "    <tr>\n",
       "      <th>2016-01-11</th>\n",
       "      <td>-0.069322</td>\n",
       "      <td>-0.002620</td>\n",
       "      <td>-0.204632</td>\n",
       "      <td>-0.102959</td>\n",
       "    </tr>\n",
       "  </tbody>\n",
       "</table>\n",
       "</div>"
      ],
      "text/plain": [
       "            MGLU3.SA  PETR3.SA  BBDC3.SA  JBSS3.SA\n",
       "Date                                              \n",
       "2016-01-05  0.000000  0.000000  0.000000  0.000000\n",
       "2016-01-06 -0.017699 -0.091703 -0.086600 -0.046154\n",
       "2016-01-07 -0.049164 -0.039301 -0.207950 -0.073373\n",
       "2016-01-08 -0.051131 -0.021834 -0.204632 -0.069823\n",
       "2016-01-11 -0.069322 -0.002620 -0.204632 -0.102959"
      ]
     },
     "execution_count": 185,
     "metadata": {},
     "output_type": "execute_result"
    }
   ],
   "source": [
    "df = pd.DataFrame()\n",
    "for ticker in tickers:\n",
    "    df[ticker] = drawdown(returns[ticker])['Drawdown']\n",
    "\n",
    "df.head()"
   ]
  },
  {
   "cell_type": "code",
   "execution_count": 201,
   "id": "a7e6f3ae",
   "metadata": {},
   "outputs": [
    {
     "data": {
      "image/png": "[encoded data removed]",
      "text/plain": [
       "<Figure size 720x1008 with 4 Axes>"
      ]
     },
     "metadata": {
      "needs_background": "light"
     },
     "output_type": "display_data"
    }
   ],
   "source": [
    "import matplotlib.pyplot as plt\n",
    "\n",
    "fig, axes = plt.subplots(nrows=4, ncols=1, figsize=(10,14))\n",
    "\n",
    "for i in range(4):\n",
    "    ticker = df.columns[i]\n",
    "    df[ticker].plot(ax=axes[i], legend=ticker, grid=True, lw=1)"
   ]
  },
  {
   "cell_type": "code",
   "execution_count": null,
   "id": "512ad98c",
   "metadata": {},
   "outputs": [],
   "source": []
  }
 ],
 "metadata": {
  "interpreter": {
   "hash": "59aab24ace7f92780df8f855e98b8b8ce07c1bb23de1c4eeadc23a13ada391fc"
  },
  "kernelspec": {
   "display_name": "Python 3.8.12 64-bit ('venv': venv)",
   "language": "python",
   "name": "python3"
  },
  "language_info": {
   "codemirror_mode": {
    "name": "ipython",
    "version": 3
   },
   "file_extension": ".py",
   "mimetype": "text/x-python",
   "name": "python",
   "nbconvert_exporter": "python",
   "pygments_lexer": "ipython3",
   "version": "3.8.12"
  }
 },
 "nbformat": 4,
 "nbformat_minor": 5
}
