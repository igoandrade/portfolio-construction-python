{
 "cells": [
  {
   "cell_type": "markdown",
   "metadata": {},
   "source": [
    "# Seção 2 - Além do caso Gaussinano: Estimativas de risco extremo"
   ]
  },
  {
   "cell_type": "markdown",
   "metadata": {},
   "source": [
    "Quando assuminos uma dristribioção normal, observamos uma pequena probabilidade de que os retornos de ativos tenham valores muito positivos ou muito negativos.\n",
    "\n",
    "Nesse caso partivcular, há apenas 0,5% de chance de obter um resultado, um retorno diário maior que 2% ou u retorno diário abaixo de -2%.\n",
    "\n",
    "Entretanto, o caso real é que os retornos diários tendem a ser muito maiores que 10% ou tão ruis quanto -10%. Além disso, a distribuição dos retornos de ativos costuma apresentar alguma assimetria em relação à média."
   ]
  },
  {
   "cell_type": "markdown",
   "metadata": {},
   "source": [
    "* **Assimetria ($S(R)$)**:\n",
    "\n",
    "$$S(R) = \\dfrac{E\\left[ (R - E(R))^3\\right]}{\\left[Var(R)\\right]^{3/2}}$$"
   ]
  },
  {
   "cell_type": "markdown",
   "metadata": {},
   "source": [
    "* **Curtosi ($K(R)$)**:\n",
    "\n",
    "$$K(R) = \\dfrac{E\\left[(E - E(E))^4\\right]}{\\left[Var(R)\\right]^2}$$"
   ]
  },
  {
   "cell_type": "markdown",
   "metadata": {},
   "source": [
    "* **Teste de Jarque-Bera ($JB$)**: é um teste estatístico que nos permite afirmar se uma dada distribuição é ou não estatisticamente diferente da distribuição normal.\n",
    "\n",
    "$$JB = \\dfrac{n}{6} \\left(S^2 + \\dfrac{(K - 3)^2}{4} \\right) \\rightarrow Chi-squared(2)$$"
   ]
  },
  {
   "cell_type": "markdown",
   "metadata": {},
   "source": [
    "**Exemplo:** O menor retorno mensal registrado para o índice de fundos de hedge Global Macro no período 1997-2018 é de -3,1%, que é 2,5 desvios-padrão abaixo da média histórica. Tal evento ocorreria com uma probabilidade de 0,63% se a distribuição de retorno fosse normal. Por favor, indique quantos meses, em média, seria necessário esperar para observar tal evento?\n",
    "\n",
    "*Solução:* A resposta é dada por 1 / 0,63%, que é 158,73 meses, ou 13,23 anos.\n"
   ]
  }
 ],
 "metadata": {
  "language_info": {
   "name": "python"
  },
  "orig_nbformat": 4
 },
 "nbformat": 4,
 "nbformat_minor": 2
}
