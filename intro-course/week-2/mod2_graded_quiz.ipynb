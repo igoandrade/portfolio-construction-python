{
 "cells": [
  {
   "cell_type": "markdown",
   "metadata": {},
   "source": [
    "# Teste do módulo 2"
   ]
  },
  {
   "cell_type": "markdown",
   "metadata": {},
   "source": [
    "1. Use o conjunto de dados EDHEC Hedge Fund Indexes que usamos na tarefa de laboratório, bem como nas tarefas da semana anterior. Carregue-os no Python e execute a seguinte análise com base nos dados desde 2000 (incluindo todo o ano de 2000): Qual foi o VaR Gaussiano Paramétrico Mensal no nível de 1% (como um número +ve) da estratégia Distressed Securities?\n",
    "\n",
    "    Insira o número positivo como uma porcentagem, por exemplo. Para 5,32% insira 5,32\n",
    "\n",
    "    NOTA: Você pode arredondar ou truncar para 1 casa decimal, aceitaremos qualquer resposta"
   ]
  },
  {
   "cell_type": "code",
   "execution_count": 2,
   "metadata": {},
   "outputs": [],
   "source": [
    "import numpy as np \n",
    "import pandas as pd \n",
    "import matplotlib.pyplot as plt \n",
    "import risk_toolkit as rt \n"
   ]
  },
  {
   "cell_type": "code",
   "execution_count": 3,
   "metadata": {},
   "outputs": [
    {
     "data": {
      "text/html": [
       "<div>\n",
       "<style scoped>\n",
       "    .dataframe tbody tr th:only-of-type {\n",
       "        vertical-align: middle;\n",
       "    }\n",
       "\n",
       "    .dataframe tbody tr th {\n",
       "        vertical-align: top;\n",
       "    }\n",
       "\n",
       "    .dataframe thead th {\n",
       "        text-align: right;\n",
       "    }\n",
       "</style>\n",
       "<table border=\"1\" class=\"dataframe\">\n",
       "  <thead>\n",
       "    <tr style=\"text-align: right;\">\n",
       "      <th></th>\n",
       "      <th>Convertible Arbitrage</th>\n",
       "      <th>CTA Global</th>\n",
       "      <th>Distressed Securities</th>\n",
       "      <th>Emerging Markets</th>\n",
       "      <th>Equity Market Neutral</th>\n",
       "      <th>Event Driven</th>\n",
       "      <th>Fixed Income Arbitrage</th>\n",
       "      <th>Global Macro</th>\n",
       "      <th>Long/Short Equity</th>\n",
       "      <th>Merger Arbitrage</th>\n",
       "      <th>Relative Value</th>\n",
       "      <th>Short Selling</th>\n",
       "      <th>Funds Of Funds</th>\n",
       "    </tr>\n",
       "    <tr>\n",
       "      <th>date</th>\n",
       "      <th></th>\n",
       "      <th></th>\n",
       "      <th></th>\n",
       "      <th></th>\n",
       "      <th></th>\n",
       "      <th></th>\n",
       "      <th></th>\n",
       "      <th></th>\n",
       "      <th></th>\n",
       "      <th></th>\n",
       "      <th></th>\n",
       "      <th></th>\n",
       "      <th></th>\n",
       "    </tr>\n",
       "  </thead>\n",
       "  <tbody>\n",
       "    <tr>\n",
       "      <th>1997-01</th>\n",
       "      <td>0.0119</td>\n",
       "      <td>0.0393</td>\n",
       "      <td>0.0178</td>\n",
       "      <td>0.0791</td>\n",
       "      <td>0.0189</td>\n",
       "      <td>0.0213</td>\n",
       "      <td>0.0191</td>\n",
       "      <td>0.0573</td>\n",
       "      <td>0.0281</td>\n",
       "      <td>0.0150</td>\n",
       "      <td>0.0180</td>\n",
       "      <td>-0.0166</td>\n",
       "      <td>0.0317</td>\n",
       "    </tr>\n",
       "    <tr>\n",
       "      <th>1997-02</th>\n",
       "      <td>0.0123</td>\n",
       "      <td>0.0298</td>\n",
       "      <td>0.0122</td>\n",
       "      <td>0.0525</td>\n",
       "      <td>0.0101</td>\n",
       "      <td>0.0084</td>\n",
       "      <td>0.0122</td>\n",
       "      <td>0.0175</td>\n",
       "      <td>-0.0006</td>\n",
       "      <td>0.0034</td>\n",
       "      <td>0.0118</td>\n",
       "      <td>0.0426</td>\n",
       "      <td>0.0106</td>\n",
       "    </tr>\n",
       "    <tr>\n",
       "      <th>1997-03</th>\n",
       "      <td>0.0078</td>\n",
       "      <td>-0.0021</td>\n",
       "      <td>-0.0012</td>\n",
       "      <td>-0.0120</td>\n",
       "      <td>0.0016</td>\n",
       "      <td>-0.0023</td>\n",
       "      <td>0.0109</td>\n",
       "      <td>-0.0119</td>\n",
       "      <td>-0.0084</td>\n",
       "      <td>0.0060</td>\n",
       "      <td>0.0010</td>\n",
       "      <td>0.0778</td>\n",
       "      <td>-0.0077</td>\n",
       "    </tr>\n",
       "    <tr>\n",
       "      <th>1997-04</th>\n",
       "      <td>0.0086</td>\n",
       "      <td>-0.0170</td>\n",
       "      <td>0.0030</td>\n",
       "      <td>0.0119</td>\n",
       "      <td>0.0119</td>\n",
       "      <td>-0.0005</td>\n",
       "      <td>0.0130</td>\n",
       "      <td>0.0172</td>\n",
       "      <td>0.0084</td>\n",
       "      <td>-0.0001</td>\n",
       "      <td>0.0122</td>\n",
       "      <td>-0.0129</td>\n",
       "      <td>0.0009</td>\n",
       "    </tr>\n",
       "    <tr>\n",
       "      <th>1997-05</th>\n",
       "      <td>0.0156</td>\n",
       "      <td>-0.0015</td>\n",
       "      <td>0.0233</td>\n",
       "      <td>0.0315</td>\n",
       "      <td>0.0189</td>\n",
       "      <td>0.0346</td>\n",
       "      <td>0.0118</td>\n",
       "      <td>0.0108</td>\n",
       "      <td>0.0394</td>\n",
       "      <td>0.0197</td>\n",
       "      <td>0.0173</td>\n",
       "      <td>-0.0737</td>\n",
       "      <td>0.0275</td>\n",
       "    </tr>\n",
       "  </tbody>\n",
       "</table>\n",
       "</div>"
      ],
      "text/plain": [
       "         Convertible Arbitrage  CTA Global  Distressed Securities  \\\n",
       "date                                                                \n",
       "1997-01                 0.0119      0.0393                 0.0178   \n",
       "1997-02                 0.0123      0.0298                 0.0122   \n",
       "1997-03                 0.0078     -0.0021                -0.0012   \n",
       "1997-04                 0.0086     -0.0170                 0.0030   \n",
       "1997-05                 0.0156     -0.0015                 0.0233   \n",
       "\n",
       "         Emerging Markets  Equity Market Neutral  Event Driven  \\\n",
       "date                                                             \n",
       "1997-01            0.0791                 0.0189        0.0213   \n",
       "1997-02            0.0525                 0.0101        0.0084   \n",
       "1997-03           -0.0120                 0.0016       -0.0023   \n",
       "1997-04            0.0119                 0.0119       -0.0005   \n",
       "1997-05            0.0315                 0.0189        0.0346   \n",
       "\n",
       "         Fixed Income Arbitrage  Global Macro  Long/Short Equity  \\\n",
       "date                                                               \n",
       "1997-01                  0.0191        0.0573             0.0281   \n",
       "1997-02                  0.0122        0.0175            -0.0006   \n",
       "1997-03                  0.0109       -0.0119            -0.0084   \n",
       "1997-04                  0.0130        0.0172             0.0084   \n",
       "1997-05                  0.0118        0.0108             0.0394   \n",
       "\n",
       "         Merger Arbitrage  Relative Value  Short Selling  Funds Of Funds  \n",
       "date                                                                      \n",
       "1997-01            0.0150          0.0180        -0.0166          0.0317  \n",
       "1997-02            0.0034          0.0118         0.0426          0.0106  \n",
       "1997-03            0.0060          0.0010         0.0778         -0.0077  \n",
       "1997-04           -0.0001          0.0122        -0.0129          0.0009  \n",
       "1997-05            0.0197          0.0173        -0.0737          0.0275  "
      ]
     },
     "execution_count": 3,
     "metadata": {},
     "output_type": "execute_result"
    }
   ],
   "source": [
    "hfi = rt.get_hfi_returns()\n",
    "hfi.head()"
   ]
  },
  {
   "cell_type": "code",
   "execution_count": 4,
   "metadata": {},
   "outputs": [
    {
     "data": {
      "text/html": [
       "<div>\n",
       "<style scoped>\n",
       "    .dataframe tbody tr th:only-of-type {\n",
       "        vertical-align: middle;\n",
       "    }\n",
       "\n",
       "    .dataframe tbody tr th {\n",
       "        vertical-align: top;\n",
       "    }\n",
       "\n",
       "    .dataframe thead th {\n",
       "        text-align: right;\n",
       "    }\n",
       "</style>\n",
       "<table border=\"1\" class=\"dataframe\">\n",
       "  <thead>\n",
       "    <tr style=\"text-align: right;\">\n",
       "      <th></th>\n",
       "      <th>Convertible Arbitrage</th>\n",
       "      <th>CTA Global</th>\n",
       "      <th>Distressed Securities</th>\n",
       "      <th>Emerging Markets</th>\n",
       "      <th>Equity Market Neutral</th>\n",
       "      <th>Event Driven</th>\n",
       "      <th>Fixed Income Arbitrage</th>\n",
       "      <th>Global Macro</th>\n",
       "      <th>Long/Short Equity</th>\n",
       "      <th>Merger Arbitrage</th>\n",
       "      <th>Relative Value</th>\n",
       "      <th>Short Selling</th>\n",
       "      <th>Funds Of Funds</th>\n",
       "    </tr>\n",
       "    <tr>\n",
       "      <th>date</th>\n",
       "      <th></th>\n",
       "      <th></th>\n",
       "      <th></th>\n",
       "      <th></th>\n",
       "      <th></th>\n",
       "      <th></th>\n",
       "      <th></th>\n",
       "      <th></th>\n",
       "      <th></th>\n",
       "      <th></th>\n",
       "      <th></th>\n",
       "      <th></th>\n",
       "      <th></th>\n",
       "    </tr>\n",
       "  </thead>\n",
       "  <tbody>\n",
       "    <tr>\n",
       "      <th>2000-01</th>\n",
       "      <td>0.0227</td>\n",
       "      <td>0.0128</td>\n",
       "      <td>0.0088</td>\n",
       "      <td>0.0077</td>\n",
       "      <td>0.0075</td>\n",
       "      <td>0.0088</td>\n",
       "      <td>0.0041</td>\n",
       "      <td>0.0021</td>\n",
       "      <td>0.0075</td>\n",
       "      <td>0.0143</td>\n",
       "      <td>0.0173</td>\n",
       "      <td>0.0427</td>\n",
       "      <td>0.0169</td>\n",
       "    </tr>\n",
       "    <tr>\n",
       "      <th>2000-02</th>\n",
       "      <td>0.0267</td>\n",
       "      <td>-0.0022</td>\n",
       "      <td>0.0421</td>\n",
       "      <td>0.0528</td>\n",
       "      <td>0.0253</td>\n",
       "      <td>0.0346</td>\n",
       "      <td>0.0097</td>\n",
       "      <td>0.0408</td>\n",
       "      <td>0.0699</td>\n",
       "      <td>0.0239</td>\n",
       "      <td>0.0185</td>\n",
       "      <td>-0.1340</td>\n",
       "      <td>0.0666</td>\n",
       "    </tr>\n",
       "    <tr>\n",
       "      <th>2000-03</th>\n",
       "      <td>0.0243</td>\n",
       "      <td>-0.0138</td>\n",
       "      <td>0.0103</td>\n",
       "      <td>0.0318</td>\n",
       "      <td>0.0134</td>\n",
       "      <td>0.0069</td>\n",
       "      <td>-0.0061</td>\n",
       "      <td>-0.0104</td>\n",
       "      <td>0.0006</td>\n",
       "      <td>0.0131</td>\n",
       "      <td>0.0163</td>\n",
       "      <td>-0.0230</td>\n",
       "      <td>0.0039</td>\n",
       "    </tr>\n",
       "    <tr>\n",
       "      <th>2000-04</th>\n",
       "      <td>0.0223</td>\n",
       "      <td>-0.0241</td>\n",
       "      <td>-0.0101</td>\n",
       "      <td>-0.0541</td>\n",
       "      <td>0.0168</td>\n",
       "      <td>-0.0059</td>\n",
       "      <td>-0.0006</td>\n",
       "      <td>-0.0304</td>\n",
       "      <td>-0.0201</td>\n",
       "      <td>0.0188</td>\n",
       "      <td>0.0092</td>\n",
       "      <td>0.1028</td>\n",
       "      <td>-0.0269</td>\n",
       "    </tr>\n",
       "    <tr>\n",
       "      <th>2000-05</th>\n",
       "      <td>0.0149</td>\n",
       "      <td>0.0114</td>\n",
       "      <td>-0.0132</td>\n",
       "      <td>-0.0433</td>\n",
       "      <td>0.0062</td>\n",
       "      <td>-0.0034</td>\n",
       "      <td>0.0107</td>\n",
       "      <td>-0.0070</td>\n",
       "      <td>-0.0097</td>\n",
       "      <td>0.0146</td>\n",
       "      <td>0.0080</td>\n",
       "      <td>0.0704</td>\n",
       "      <td>-0.0122</td>\n",
       "    </tr>\n",
       "  </tbody>\n",
       "</table>\n",
       "</div>"
      ],
      "text/plain": [
       "         Convertible Arbitrage  CTA Global  Distressed Securities  \\\n",
       "date                                                                \n",
       "2000-01                 0.0227      0.0128                 0.0088   \n",
       "2000-02                 0.0267     -0.0022                 0.0421   \n",
       "2000-03                 0.0243     -0.0138                 0.0103   \n",
       "2000-04                 0.0223     -0.0241                -0.0101   \n",
       "2000-05                 0.0149      0.0114                -0.0132   \n",
       "\n",
       "         Emerging Markets  Equity Market Neutral  Event Driven  \\\n",
       "date                                                             \n",
       "2000-01            0.0077                 0.0075        0.0088   \n",
       "2000-02            0.0528                 0.0253        0.0346   \n",
       "2000-03            0.0318                 0.0134        0.0069   \n",
       "2000-04           -0.0541                 0.0168       -0.0059   \n",
       "2000-05           -0.0433                 0.0062       -0.0034   \n",
       "\n",
       "         Fixed Income Arbitrage  Global Macro  Long/Short Equity  \\\n",
       "date                                                               \n",
       "2000-01                  0.0041        0.0021             0.0075   \n",
       "2000-02                  0.0097        0.0408             0.0699   \n",
       "2000-03                 -0.0061       -0.0104             0.0006   \n",
       "2000-04                 -0.0006       -0.0304            -0.0201   \n",
       "2000-05                  0.0107       -0.0070            -0.0097   \n",
       "\n",
       "         Merger Arbitrage  Relative Value  Short Selling  Funds Of Funds  \n",
       "date                                                                      \n",
       "2000-01            0.0143          0.0173         0.0427          0.0169  \n",
       "2000-02            0.0239          0.0185        -0.1340          0.0666  \n",
       "2000-03            0.0131          0.0163        -0.0230          0.0039  \n",
       "2000-04            0.0188          0.0092         0.1028         -0.0269  \n",
       "2000-05            0.0146          0.0080         0.0704         -0.0122  "
      ]
     },
     "execution_count": 4,
     "metadata": {},
     "output_type": "execute_result"
    }
   ],
   "source": [
    "hfi2000 = hfi['2000':]\n",
    "hfi2000.head()"
   ]
  },
  {
   "cell_type": "markdown",
   "metadata": {},
   "source": [
    "Para a estratégia \"Distressed Securities\", o Valor em Risco ($VaR$) ao nível de significância de 1% é:"
   ]
  },
  {
   "cell_type": "code",
   "execution_count": 5,
   "metadata": {},
   "outputs": [
    {
     "name": "stdout",
     "output_type": "stream",
     "text": [
      "VaR = 3.83%\n"
     ]
    }
   ],
   "source": [
    "r = hfi2000['Distressed Securities'].head()\n",
    "var1 = rt.var_gaussian(r, 1)\n",
    "print(f\"VaR = {100 * var1:.2f}%\")"
   ]
  },
  {
   "cell_type": "markdown",
   "metadata": {},
   "source": [
    "2. Use o mesmo conjunto de dados da pergunta anterior. Qual foi o VaR de 1% para a mesma estratégia após a aplicação do Ajuste Cornish-Fisher?\n",
    "\n",
    "    Digite a resposta como um número positivo, em termos percentuais. por exemplo. para 5,32% digite 5,32"
   ]
  },
  {
   "cell_type": "markdown",
   "metadata": {},
   "source": [
    "Aplicando o ajuste de Cornish-Fisher, o Valor em Risco ao nível de 1% para a estratégia \"Distressed Securities\" é:"
   ]
  },
  {
   "cell_type": "code",
   "execution_count": 6,
   "metadata": {},
   "outputs": [
    {
     "name": "stdout",
     "output_type": "stream",
     "text": [
      "VaR Cornish-Fisher = 2.84%\n"
     ]
    }
   ],
   "source": [
    "var2 = rt.var_gaussian(r, 1, modified=1)\n",
    "print(f\"VaR Cornish-Fisher = {100 * var2:.2f}%\")"
   ]
  },
  {
   "cell_type": "markdown",
   "metadata": {},
   "source": [
    "3. Use o mesmo conjunto de dados da pergunta anterior. Qual foi o VaR Histórico Mensal ao nível de 1% (como um número +ve) da estratégia Distressed Securities?"
   ]
  },
  {
   "cell_type": "code",
   "execution_count": 7,
   "metadata": {},
   "outputs": [
    {
     "name": "stdout",
     "output_type": "stream",
     "text": [
      "VaR Histórico = 1.31%\n"
     ]
    }
   ],
   "source": [
    "var3 = rt.var_historic(r, level=1)\n",
    "print(f\"VaR Histórico = {100 * var3:.2f}%\")"
   ]
  },
  {
   "cell_type": "markdown",
   "metadata": {},
   "source": [
    "4. Em seguida, carregue os 30 dados de retorno do setor usando a função `erk.get_ind_returns()` que desenvolvemos durante as sessões de laboratório. Para fins das demais perguntas, use dados durante o período de 5 anos 2013-2017 (ambos inclusive) para estimar os retornos esperados, bem como a matriz de covariância. Para poder responder às perguntas, você precisará construir os portfólios MSR, EW e GMV consistindo nas indústrias \"Books\", \"Steel\", \"Oil\" e \"Mines\". Suponha que a taxa livre de risco durante o período de 5 anos seja de 10%.\n",
    "\n",
    "     Qual é o peso do Aço no Portfólio EW?"
   ]
  },
  {
   "cell_type": "code",
   "execution_count": 8,
   "metadata": {},
   "outputs": [
    {
     "data": {
      "text/html": [
       "<div>\n",
       "<style scoped>\n",
       "    .dataframe tbody tr th:only-of-type {\n",
       "        vertical-align: middle;\n",
       "    }\n",
       "\n",
       "    .dataframe tbody tr th {\n",
       "        vertical-align: top;\n",
       "    }\n",
       "\n",
       "    .dataframe thead th {\n",
       "        text-align: right;\n",
       "    }\n",
       "</style>\n",
       "<table border=\"1\" class=\"dataframe\">\n",
       "  <thead>\n",
       "    <tr style=\"text-align: right;\">\n",
       "      <th></th>\n",
       "      <th>Food</th>\n",
       "      <th>Beer</th>\n",
       "      <th>Smoke</th>\n",
       "      <th>Games</th>\n",
       "      <th>Books</th>\n",
       "      <th>Hshld</th>\n",
       "      <th>Clths</th>\n",
       "      <th>Hlth</th>\n",
       "      <th>Chems</th>\n",
       "      <th>Txtls</th>\n",
       "      <th>...</th>\n",
       "      <th>Telcm</th>\n",
       "      <th>Servs</th>\n",
       "      <th>BusEq</th>\n",
       "      <th>Paper</th>\n",
       "      <th>Trans</th>\n",
       "      <th>Whlsl</th>\n",
       "      <th>Rtail</th>\n",
       "      <th>Meals</th>\n",
       "      <th>Fin</th>\n",
       "      <th>Other</th>\n",
       "    </tr>\n",
       "  </thead>\n",
       "  <tbody>\n",
       "    <tr>\n",
       "      <th>2013-01</th>\n",
       "      <td>0.0554</td>\n",
       "      <td>0.0507</td>\n",
       "      <td>0.0561</td>\n",
       "      <td>0.1313</td>\n",
       "      <td>0.0513</td>\n",
       "      <td>0.0869</td>\n",
       "      <td>0.0256</td>\n",
       "      <td>0.0807</td>\n",
       "      <td>0.0506</td>\n",
       "      <td>0.0922</td>\n",
       "      <td>...</td>\n",
       "      <td>0.0495</td>\n",
       "      <td>0.0663</td>\n",
       "      <td>-0.0118</td>\n",
       "      <td>0.0561</td>\n",
       "      <td>0.0852</td>\n",
       "      <td>0.0646</td>\n",
       "      <td>0.0541</td>\n",
       "      <td>0.0523</td>\n",
       "      <td>0.0632</td>\n",
       "      <td>0.0720</td>\n",
       "    </tr>\n",
       "    <tr>\n",
       "      <th>2013-02</th>\n",
       "      <td>0.0384</td>\n",
       "      <td>0.0522</td>\n",
       "      <td>0.0221</td>\n",
       "      <td>0.0000</td>\n",
       "      <td>-0.0654</td>\n",
       "      <td>0.0314</td>\n",
       "      <td>0.0146</td>\n",
       "      <td>0.0135</td>\n",
       "      <td>-0.0095</td>\n",
       "      <td>0.0570</td>\n",
       "      <td>...</td>\n",
       "      <td>0.0221</td>\n",
       "      <td>0.0097</td>\n",
       "      <td>0.0026</td>\n",
       "      <td>0.0463</td>\n",
       "      <td>0.0364</td>\n",
       "      <td>0.0207</td>\n",
       "      <td>0.0061</td>\n",
       "      <td>0.0070</td>\n",
       "      <td>0.0129</td>\n",
       "      <td>0.0443</td>\n",
       "    </tr>\n",
       "    <tr>\n",
       "      <th>2013-03</th>\n",
       "      <td>0.0656</td>\n",
       "      <td>0.0531</td>\n",
       "      <td>0.0272</td>\n",
       "      <td>0.0769</td>\n",
       "      <td>0.0778</td>\n",
       "      <td>0.0219</td>\n",
       "      <td>0.0288</td>\n",
       "      <td>0.0651</td>\n",
       "      <td>0.0121</td>\n",
       "      <td>0.0888</td>\n",
       "      <td>...</td>\n",
       "      <td>0.0577</td>\n",
       "      <td>0.0245</td>\n",
       "      <td>0.0319</td>\n",
       "      <td>0.0553</td>\n",
       "      <td>0.0465</td>\n",
       "      <td>0.0325</td>\n",
       "      <td>0.0477</td>\n",
       "      <td>0.0550</td>\n",
       "      <td>0.0453</td>\n",
       "      <td>0.0228</td>\n",
       "    </tr>\n",
       "    <tr>\n",
       "      <th>2013-04</th>\n",
       "      <td>0.0284</td>\n",
       "      <td>0.0355</td>\n",
       "      <td>0.0440</td>\n",
       "      <td>0.0451</td>\n",
       "      <td>-0.0029</td>\n",
       "      <td>0.0135</td>\n",
       "      <td>0.0903</td>\n",
       "      <td>0.0259</td>\n",
       "      <td>0.0396</td>\n",
       "      <td>0.0102</td>\n",
       "      <td>...</td>\n",
       "      <td>0.0420</td>\n",
       "      <td>0.0184</td>\n",
       "      <td>-0.0102</td>\n",
       "      <td>-0.0002</td>\n",
       "      <td>-0.0014</td>\n",
       "      <td>0.0017</td>\n",
       "      <td>0.0320</td>\n",
       "      <td>0.0240</td>\n",
       "      <td>0.0157</td>\n",
       "      <td>0.0074</td>\n",
       "    </tr>\n",
       "    <tr>\n",
       "      <th>2013-05</th>\n",
       "      <td>-0.0345</td>\n",
       "      <td>-0.0147</td>\n",
       "      <td>-0.0298</td>\n",
       "      <td>0.0218</td>\n",
       "      <td>0.0479</td>\n",
       "      <td>-0.0022</td>\n",
       "      <td>0.0078</td>\n",
       "      <td>0.0163</td>\n",
       "      <td>0.0343</td>\n",
       "      <td>0.0077</td>\n",
       "      <td>...</td>\n",
       "      <td>-0.0171</td>\n",
       "      <td>0.0363</td>\n",
       "      <td>0.0551</td>\n",
       "      <td>0.0221</td>\n",
       "      <td>0.0274</td>\n",
       "      <td>0.0385</td>\n",
       "      <td>0.0239</td>\n",
       "      <td>-0.0030</td>\n",
       "      <td>0.0708</td>\n",
       "      <td>0.0590</td>\n",
       "    </tr>\n",
       "  </tbody>\n",
       "</table>\n",
       "<p>5 rows × 30 columns</p>\n",
       "</div>"
      ],
      "text/plain": [
       "           Food    Beer   Smoke   Games   Books   Hshld   Clths    Hlth  \\\n",
       "2013-01  0.0554  0.0507  0.0561  0.1313  0.0513  0.0869  0.0256  0.0807   \n",
       "2013-02  0.0384  0.0522  0.0221  0.0000 -0.0654  0.0314  0.0146  0.0135   \n",
       "2013-03  0.0656  0.0531  0.0272  0.0769  0.0778  0.0219  0.0288  0.0651   \n",
       "2013-04  0.0284  0.0355  0.0440  0.0451 -0.0029  0.0135  0.0903  0.0259   \n",
       "2013-05 -0.0345 -0.0147 -0.0298  0.0218  0.0479 -0.0022  0.0078  0.0163   \n",
       "\n",
       "          Chems   Txtls  ...   Telcm   Servs   BusEq   Paper   Trans   Whlsl  \\\n",
       "2013-01  0.0506  0.0922  ...  0.0495  0.0663 -0.0118  0.0561  0.0852  0.0646   \n",
       "2013-02 -0.0095  0.0570  ...  0.0221  0.0097  0.0026  0.0463  0.0364  0.0207   \n",
       "2013-03  0.0121  0.0888  ...  0.0577  0.0245  0.0319  0.0553  0.0465  0.0325   \n",
       "2013-04  0.0396  0.0102  ...  0.0420  0.0184 -0.0102 -0.0002 -0.0014  0.0017   \n",
       "2013-05  0.0343  0.0077  ... -0.0171  0.0363  0.0551  0.0221  0.0274  0.0385   \n",
       "\n",
       "          Rtail   Meals     Fin   Other  \n",
       "2013-01  0.0541  0.0523  0.0632  0.0720  \n",
       "2013-02  0.0061  0.0070  0.0129  0.0443  \n",
       "2013-03  0.0477  0.0550  0.0453  0.0228  \n",
       "2013-04  0.0320  0.0240  0.0157  0.0074  \n",
       "2013-05  0.0239 -0.0030  0.0708  0.0590  \n",
       "\n",
       "[5 rows x 30 columns]"
      ]
     },
     "execution_count": 8,
     "metadata": {},
     "output_type": "execute_result"
    }
   ],
   "source": [
    "port30 = rt.get_ind_returns()\n",
    "port30 = port30['2013':'2018']\n",
    "port30.head()"
   ]
  },
  {
   "cell_type": "code",
   "execution_count": 9,
   "metadata": {},
   "outputs": [
    {
     "data": {
      "text/plain": [
       "Index(['Food', 'Beer', 'Smoke', 'Games', 'Books', 'Hshld', 'Clths', 'Hlth',\n",
       "       'Chems', 'Txtls', 'Cnstr', 'Steel', 'FabPr', 'ElcEq', 'Autos', 'Carry',\n",
       "       'Mines', 'Coal', 'Oil', 'Util', 'Telcm', 'Servs', 'BusEq', 'Paper',\n",
       "       'Trans', 'Whlsl', 'Rtail', 'Meals', 'Fin', 'Other'],\n",
       "      dtype='object')"
      ]
     },
     "execution_count": 9,
     "metadata": {},
     "output_type": "execute_result"
    }
   ],
   "source": [
    "port30.columns"
   ]
  },
  {
   "cell_type": "code",
   "execution_count": 10,
   "metadata": {},
   "outputs": [],
   "source": [
    "l = [\"Books\", \"Steel\", \"Oil\", \"Mines\"]\n",
    "er = rt.annualize_rets(port30[l], 12)\n",
    "cov = port30[l].cov()"
   ]
  },
  {
   "cell_type": "code",
   "execution_count": 11,
   "metadata": {},
   "outputs": [
    {
     "data": {
      "text/plain": [
       "array([0.25, 0.25, 0.25, 0.25])"
      ]
     },
     "execution_count": 11,
     "metadata": {},
     "output_type": "execute_result"
    }
   ],
   "source": [
    "n = er.shape[0]\n",
    "w_ew = np.repeat(1/n, n)\n",
    "w_ew"
   ]
  },
  {
   "cell_type": "markdown",
   "metadata": {},
   "source": [
    "5. Qual é o peso do maior componente do portfólio MSR?"
   ]
  },
  {
   "cell_type": "code",
   "execution_count": 12,
   "metadata": {},
   "outputs": [
    {
     "data": {
      "text/plain": [
       "array([1.49880108e-15, 1.00000000e+00, 2.17187379e-15, 3.91353616e-15])"
      ]
     },
     "execution_count": 12,
     "metadata": {},
     "output_type": "execute_result"
    }
   ],
   "source": [
    "rf = 0.1\n",
    "w_msr = rt.msr(rf, er, cov)\n",
    "w_msr"
   ]
  },
  {
   "cell_type": "code",
   "execution_count": 13,
   "metadata": {},
   "outputs": [
    {
     "data": {
      "text/plain": [
       "0.9999999999999925"
      ]
     },
     "execution_count": 13,
     "metadata": {},
     "output_type": "execute_result"
    }
   ],
   "source": [
    "max(w_msr)"
   ]
  },
  {
   "cell_type": "markdown",
   "metadata": {},
   "source": [
    "6. Qual dos 4 componentes tem o maior peso no portfólio MSR?"
   ]
  },
  {
   "cell_type": "markdown",
   "metadata": {},
   "source": [
    "Steel"
   ]
  },
  {
   "cell_type": "markdown",
   "metadata": {},
   "source": [
    "7. Quantos dos componentes do portfólio MSR têm pesos diferentes de zero?"
   ]
  },
  {
   "cell_type": "markdown",
   "metadata": {},
   "source": [
    "Apenas 1"
   ]
  },
  {
   "cell_type": "markdown",
   "metadata": {},
   "source": [
    "8. Qual é o peso da maior componente da carteira GMV?"
   ]
  },
  {
   "cell_type": "code",
   "execution_count": 14,
   "metadata": {},
   "outputs": [
    {
     "data": {
      "text/plain": [
       "array([5.10061017e-01, 1.14925430e-17, 3.40468524e-01, 1.49470459e-01])"
      ]
     },
     "execution_count": 14,
     "metadata": {},
     "output_type": "execute_result"
    }
   ],
   "source": [
    "rf = 0.1\n",
    "w_gmv = rt.gmv(cov)\n",
    "w_gmv"
   ]
  },
  {
   "cell_type": "code",
   "execution_count": 15,
   "metadata": {},
   "outputs": [
    {
     "data": {
      "text/plain": [
       "0.5100610168492838"
      ]
     },
     "execution_count": 15,
     "metadata": {},
     "output_type": "execute_result"
    }
   ],
   "source": [
    "max(w_gmv)"
   ]
  },
  {
   "cell_type": "code",
   "execution_count": 16,
   "metadata": {},
   "outputs": [
    {
     "data": {
      "text/plain": [
       "{'Books': 0.5100610168492838,\n",
       " 'Steel': 1.1492543028346347e-17,\n",
       " 'Oil': 0.3404685237878173,\n",
       " 'Mines': 0.14947045936289885}"
      ]
     },
     "execution_count": 16,
     "metadata": {},
     "output_type": "execute_result"
    }
   ],
   "source": [
    "dict(zip(l, w_gmv))"
   ]
  },
  {
   "cell_type": "markdown",
   "metadata": {},
   "source": [
    "9. Qual das 4 componentes tem o maior peso no portefólio da GMV?"
   ]
  },
  {
   "cell_type": "markdown",
   "metadata": {},
   "source": [
    "Books"
   ]
  },
  {
   "cell_type": "markdown",
   "metadata": {},
   "source": [
    "10. Quantos componentes da carteira GMV têm pesos diferentes de zero?"
   ]
  },
  {
   "cell_type": "markdown",
   "metadata": {},
   "source": [
    "3"
   ]
  },
  {
   "cell_type": "markdown",
   "metadata": {},
   "source": [
    "11. Suponha que dois investidores diferentes investiram nas carteiras GMV e MSR no início de 2018 usando os pesos que acabamos de calcular. Calcule a volatilidade anualizada dessas duas carteiras nos próximos 12 meses de 2018? (Dica: use o código portfolio_vol que desenvolvemos no laboratório e use ind[“2018”][l].cov() para calcular a matriz de covariância para 2018, assumindo que a variável ind contém os retornos da indústria e a variável l mantém o lista de portfólios do setor que você está disposto a manter. Não se esqueça de anualizar a volatilidade)\n",
    "\n",
    "    Qual seria a volatilidade anualizada ao longo de 2018 usando os pesos da carteira MSR?"
   ]
  },
  {
   "cell_type": "code",
   "execution_count": 20,
   "metadata": {},
   "outputs": [
    {
     "data": {
      "text/html": [
       "<div>\n",
       "<style scoped>\n",
       "    .dataframe tbody tr th:only-of-type {\n",
       "        vertical-align: middle;\n",
       "    }\n",
       "\n",
       "    .dataframe tbody tr th {\n",
       "        vertical-align: top;\n",
       "    }\n",
       "\n",
       "    .dataframe thead th {\n",
       "        text-align: right;\n",
       "    }\n",
       "</style>\n",
       "<table border=\"1\" class=\"dataframe\">\n",
       "  <thead>\n",
       "    <tr style=\"text-align: right;\">\n",
       "      <th></th>\n",
       "      <th>Food</th>\n",
       "      <th>Beer</th>\n",
       "      <th>Smoke</th>\n",
       "      <th>Games</th>\n",
       "      <th>Books</th>\n",
       "      <th>Hshld</th>\n",
       "      <th>Clths</th>\n",
       "      <th>Hlth</th>\n",
       "      <th>Chems</th>\n",
       "      <th>Txtls</th>\n",
       "      <th>...</th>\n",
       "      <th>Telcm</th>\n",
       "      <th>Servs</th>\n",
       "      <th>BusEq</th>\n",
       "      <th>Paper</th>\n",
       "      <th>Trans</th>\n",
       "      <th>Whlsl</th>\n",
       "      <th>Rtail</th>\n",
       "      <th>Meals</th>\n",
       "      <th>Fin</th>\n",
       "      <th>Other</th>\n",
       "    </tr>\n",
       "  </thead>\n",
       "  <tbody>\n",
       "    <tr>\n",
       "      <th>1926-07</th>\n",
       "      <td>0.0056</td>\n",
       "      <td>-0.0519</td>\n",
       "      <td>0.0129</td>\n",
       "      <td>0.0293</td>\n",
       "      <td>0.1097</td>\n",
       "      <td>-0.0048</td>\n",
       "      <td>0.0808</td>\n",
       "      <td>0.0177</td>\n",
       "      <td>0.0814</td>\n",
       "      <td>0.0039</td>\n",
       "      <td>...</td>\n",
       "      <td>0.0083</td>\n",
       "      <td>0.0922</td>\n",
       "      <td>0.0206</td>\n",
       "      <td>0.0770</td>\n",
       "      <td>0.0193</td>\n",
       "      <td>-0.2379</td>\n",
       "      <td>0.0007</td>\n",
       "      <td>0.0187</td>\n",
       "      <td>0.0037</td>\n",
       "      <td>0.0520</td>\n",
       "    </tr>\n",
       "    <tr>\n",
       "      <th>1926-08</th>\n",
       "      <td>0.0259</td>\n",
       "      <td>0.2703</td>\n",
       "      <td>0.0650</td>\n",
       "      <td>0.0055</td>\n",
       "      <td>0.1001</td>\n",
       "      <td>-0.0358</td>\n",
       "      <td>-0.0251</td>\n",
       "      <td>0.0425</td>\n",
       "      <td>0.0550</td>\n",
       "      <td>0.0814</td>\n",
       "      <td>...</td>\n",
       "      <td>0.0217</td>\n",
       "      <td>0.0202</td>\n",
       "      <td>0.0439</td>\n",
       "      <td>-0.0238</td>\n",
       "      <td>0.0488</td>\n",
       "      <td>0.0539</td>\n",
       "      <td>-0.0075</td>\n",
       "      <td>-0.0013</td>\n",
       "      <td>0.0446</td>\n",
       "      <td>0.0676</td>\n",
       "    </tr>\n",
       "    <tr>\n",
       "      <th>1926-09</th>\n",
       "      <td>0.0116</td>\n",
       "      <td>0.0402</td>\n",
       "      <td>0.0126</td>\n",
       "      <td>0.0658</td>\n",
       "      <td>-0.0099</td>\n",
       "      <td>0.0073</td>\n",
       "      <td>-0.0051</td>\n",
       "      <td>0.0069</td>\n",
       "      <td>0.0533</td>\n",
       "      <td>0.0231</td>\n",
       "      <td>...</td>\n",
       "      <td>0.0241</td>\n",
       "      <td>0.0225</td>\n",
       "      <td>0.0019</td>\n",
       "      <td>-0.0554</td>\n",
       "      <td>0.0005</td>\n",
       "      <td>-0.0787</td>\n",
       "      <td>0.0025</td>\n",
       "      <td>-0.0056</td>\n",
       "      <td>-0.0123</td>\n",
       "      <td>-0.0386</td>\n",
       "    </tr>\n",
       "    <tr>\n",
       "      <th>1926-10</th>\n",
       "      <td>-0.0306</td>\n",
       "      <td>-0.0331</td>\n",
       "      <td>0.0106</td>\n",
       "      <td>-0.0476</td>\n",
       "      <td>0.0947</td>\n",
       "      <td>-0.0468</td>\n",
       "      <td>0.0012</td>\n",
       "      <td>-0.0057</td>\n",
       "      <td>-0.0476</td>\n",
       "      <td>0.0100</td>\n",
       "      <td>...</td>\n",
       "      <td>-0.0011</td>\n",
       "      <td>-0.0200</td>\n",
       "      <td>-0.0109</td>\n",
       "      <td>-0.0508</td>\n",
       "      <td>-0.0264</td>\n",
       "      <td>-0.1538</td>\n",
       "      <td>-0.0220</td>\n",
       "      <td>-0.0411</td>\n",
       "      <td>-0.0516</td>\n",
       "      <td>-0.0849</td>\n",
       "    </tr>\n",
       "    <tr>\n",
       "      <th>1926-11</th>\n",
       "      <td>0.0635</td>\n",
       "      <td>0.0729</td>\n",
       "      <td>0.0455</td>\n",
       "      <td>0.0166</td>\n",
       "      <td>-0.0580</td>\n",
       "      <td>-0.0054</td>\n",
       "      <td>0.0187</td>\n",
       "      <td>0.0542</td>\n",
       "      <td>0.0520</td>\n",
       "      <td>0.0311</td>\n",
       "      <td>...</td>\n",
       "      <td>0.0163</td>\n",
       "      <td>0.0377</td>\n",
       "      <td>0.0364</td>\n",
       "      <td>0.0384</td>\n",
       "      <td>0.0160</td>\n",
       "      <td>0.0467</td>\n",
       "      <td>0.0652</td>\n",
       "      <td>0.0433</td>\n",
       "      <td>0.0224</td>\n",
       "      <td>0.0400</td>\n",
       "    </tr>\n",
       "  </tbody>\n",
       "</table>\n",
       "<p>5 rows × 30 columns</p>\n",
       "</div>"
      ],
      "text/plain": [
       "           Food    Beer   Smoke   Games   Books   Hshld   Clths    Hlth  \\\n",
       "1926-07  0.0056 -0.0519  0.0129  0.0293  0.1097 -0.0048  0.0808  0.0177   \n",
       "1926-08  0.0259  0.2703  0.0650  0.0055  0.1001 -0.0358 -0.0251  0.0425   \n",
       "1926-09  0.0116  0.0402  0.0126  0.0658 -0.0099  0.0073 -0.0051  0.0069   \n",
       "1926-10 -0.0306 -0.0331  0.0106 -0.0476  0.0947 -0.0468  0.0012 -0.0057   \n",
       "1926-11  0.0635  0.0729  0.0455  0.0166 -0.0580 -0.0054  0.0187  0.0542   \n",
       "\n",
       "          Chems   Txtls  ...   Telcm   Servs   BusEq   Paper   Trans   Whlsl  \\\n",
       "1926-07  0.0814  0.0039  ...  0.0083  0.0922  0.0206  0.0770  0.0193 -0.2379   \n",
       "1926-08  0.0550  0.0814  ...  0.0217  0.0202  0.0439 -0.0238  0.0488  0.0539   \n",
       "1926-09  0.0533  0.0231  ...  0.0241  0.0225  0.0019 -0.0554  0.0005 -0.0787   \n",
       "1926-10 -0.0476  0.0100  ... -0.0011 -0.0200 -0.0109 -0.0508 -0.0264 -0.1538   \n",
       "1926-11  0.0520  0.0311  ...  0.0163  0.0377  0.0364  0.0384  0.0160  0.0467   \n",
       "\n",
       "          Rtail   Meals     Fin   Other  \n",
       "1926-07  0.0007  0.0187  0.0037  0.0520  \n",
       "1926-08 -0.0075 -0.0013  0.0446  0.0676  \n",
       "1926-09  0.0025 -0.0056 -0.0123 -0.0386  \n",
       "1926-10 -0.0220 -0.0411 -0.0516 -0.0849  \n",
       "1926-11  0.0652  0.0433  0.0224  0.0400  \n",
       "\n",
       "[5 rows x 30 columns]"
      ]
     },
     "execution_count": 20,
     "metadata": {},
     "output_type": "execute_result"
    }
   ],
   "source": [
    "ind = rt.get_ind_returns()\n",
    "ind.head()"
   ]
  },
  {
   "cell_type": "code",
   "execution_count": 24,
   "metadata": {},
   "outputs": [
    {
     "name": "stderr",
     "output_type": "stream",
     "text": [
      "/tmp/ipykernel_1220/240627046.py:2: FutureWarning: Indexing a DataFrame with a datetimelike index using a single string to slice the rows, like `frame[string]`, is deprecated and will be removed in a future version. Use `frame.loc[string]` instead.\n",
      "  ind2018 = ind['2018']\n"
     ]
    },
    {
     "data": {
      "text/plain": [
       "Books   -0.252523\n",
       "Steel   -0.273127\n",
       "Oil     -0.181373\n",
       "Mines   -0.307972\n",
       "dtype: float64"
      ]
     },
     "execution_count": 24,
     "metadata": {},
     "output_type": "execute_result"
    }
   ],
   "source": [
    "l = [\"Books\", \"Steel\", \"Oil\", \"Mines\"]\n",
    "ind2018 = ind['2018']\n",
    "er = rt.annualize_rets(ind2018[l], 12)\n",
    "er"
   ]
  },
  {
   "cell_type": "code",
   "execution_count": 25,
   "metadata": {},
   "outputs": [
    {
     "name": "stderr",
     "output_type": "stream",
     "text": [
      "/tmp/ipykernel_1220/2544816361.py:1: FutureWarning: Indexing a DataFrame with a datetimelike index using a single string to slice the rows, like `frame[string]`, is deprecated and will be removed in a future version. Use `frame.loc[string]` instead.\n",
      "  cov = ind[\"2018\"][l].cov()\n"
     ]
    },
    {
     "data": {
      "text/html": [
       "<div>\n",
       "<style scoped>\n",
       "    .dataframe tbody tr th:only-of-type {\n",
       "        vertical-align: middle;\n",
       "    }\n",
       "\n",
       "    .dataframe tbody tr th {\n",
       "        vertical-align: top;\n",
       "    }\n",
       "\n",
       "    .dataframe thead th {\n",
       "        text-align: right;\n",
       "    }\n",
       "</style>\n",
       "<table border=\"1\" class=\"dataframe\">\n",
       "  <thead>\n",
       "    <tr style=\"text-align: right;\">\n",
       "      <th></th>\n",
       "      <th>Books</th>\n",
       "      <th>Steel</th>\n",
       "      <th>Oil</th>\n",
       "      <th>Mines</th>\n",
       "    </tr>\n",
       "  </thead>\n",
       "  <tbody>\n",
       "    <tr>\n",
       "      <th>Books</th>\n",
       "      <td>0.002799</td>\n",
       "      <td>0.002098</td>\n",
       "      <td>0.002558</td>\n",
       "      <td>0.001629</td>\n",
       "    </tr>\n",
       "    <tr>\n",
       "      <th>Steel</th>\n",
       "      <td>0.002098</td>\n",
       "      <td>0.004027</td>\n",
       "      <td>0.003473</td>\n",
       "      <td>0.001843</td>\n",
       "    </tr>\n",
       "    <tr>\n",
       "      <th>Oil</th>\n",
       "      <td>0.002558</td>\n",
       "      <td>0.003473</td>\n",
       "      <td>0.005296</td>\n",
       "      <td>0.001961</td>\n",
       "    </tr>\n",
       "    <tr>\n",
       "      <th>Mines</th>\n",
       "      <td>0.001629</td>\n",
       "      <td>0.001843</td>\n",
       "      <td>0.001961</td>\n",
       "      <td>0.002059</td>\n",
       "    </tr>\n",
       "  </tbody>\n",
       "</table>\n",
       "</div>"
      ],
      "text/plain": [
       "          Books     Steel       Oil     Mines\n",
       "Books  0.002799  0.002098  0.002558  0.001629\n",
       "Steel  0.002098  0.004027  0.003473  0.001843\n",
       "Oil    0.002558  0.003473  0.005296  0.001961\n",
       "Mines  0.001629  0.001843  0.001961  0.002059"
      ]
     },
     "execution_count": 25,
     "metadata": {},
     "output_type": "execute_result"
    }
   ],
   "source": [
    "cov = ind[\"2018\"][l].cov()\n",
    "cov"
   ]
  },
  {
   "cell_type": "code",
   "execution_count": 26,
   "metadata": {},
   "outputs": [
    {
     "data": {
      "text/plain": [
       "array([2.47024623e-15, 0.00000000e+00, 1.00000000e+00, 9.85322934e-15])"
      ]
     },
     "execution_count": 26,
     "metadata": {},
     "output_type": "execute_result"
    }
   ],
   "source": [
    "rf = 0.1\n",
    "w_msr = rt.msr(rf, er, cov)\n",
    "w_msr"
   ]
  },
  {
   "cell_type": "code",
   "execution_count": 28,
   "metadata": {},
   "outputs": [
    {
     "name": "stdout",
     "output_type": "stream",
     "text": [
      "7.28%\n"
     ]
    }
   ],
   "source": [
    "vol = rt.portfolio_vol(w_msr, cov)\n",
    "print(f\"{100 * vol:.2f}%\")"
   ]
  },
  {
   "cell_type": "markdown",
   "metadata": {},
   "source": [
    "12. Qual seria a volatilidade anualizada ao longo de 2018 usando os pesos da carteira GMV? (Lembrete e dica: use o código portfolio_vol que desenvolvemos no laboratório e use ind[“2018”][l].cov() para calcular a matriz de covariância para 2018, assumindo que a variável ind contém os retornos do setor e a variável l contém a lista de portfólios do setor que você deseja manter. Não se esqueça de anualizar a volatilidade)"
   ]
  },
  {
   "cell_type": "code",
   "execution_count": 31,
   "metadata": {},
   "outputs": [
    {
     "name": "stdout",
     "output_type": "stream",
     "text": [
      "4.41%\n"
     ]
    },
    {
     "name": "stderr",
     "output_type": "stream",
     "text": [
      "/tmp/ipykernel_1220/3712161638.py:2: FutureWarning: Indexing a DataFrame with a datetimelike index using a single string to slice the rows, like `frame[string]`, is deprecated and will be removed in a future version. Use `frame.loc[string]` instead.\n",
      "  ind2018 = ind['2018']\n",
      "/tmp/ipykernel_1220/3712161638.py:4: FutureWarning: Indexing a DataFrame with a datetimelike index using a single string to slice the rows, like `frame[string]`, is deprecated and will be removed in a future version. Use `frame.loc[string]` instead.\n",
      "  cov = ind[\"2018\"][l].cov()\n"
     ]
    }
   ],
   "source": [
    "l = [\"Books\", \"Steel\", \"Oil\", \"Mines\"]\n",
    "ind2018 = ind['2018']\n",
    "er = rt.annualize_rets(ind2018[l], 12)\n",
    "cov = ind[\"2018\"][l].cov()\n",
    "\n",
    "rf = 0.1\n",
    "w_gmv = rt.gmv(cov)\n",
    "\n",
    "vol = rt.portfolio_vol(w_gmv,cov)\n",
    "print(f\"{100 * vol:.2f}%\")"
   ]
  },
  {
   "cell_type": "code",
   "execution_count": null,
   "metadata": {},
   "outputs": [],
   "source": []
  }
 ],
 "metadata": {
  "interpreter": {
   "hash": "59aab24ace7f92780df8f855e98b8b8ce07c1bb23de1c4eeadc23a13ada391fc"
  },
  "kernelspec": {
   "display_name": "Python 3.8.12 64-bit ('venv': venv)",
   "language": "python",
   "name": "python3"
  },
  "language_info": {
   "codemirror_mode": {
    "name": "ipython",
    "version": 3
   },
   "file_extension": ".py",
   "mimetype": "text/x-python",
   "name": "python",
   "nbconvert_exporter": "python",
   "pygments_lexer": "ipython3",
   "version": "3.8.12"
  },
  "orig_nbformat": 4
 },
 "nbformat": 4,
 "nbformat_minor": 2
}
