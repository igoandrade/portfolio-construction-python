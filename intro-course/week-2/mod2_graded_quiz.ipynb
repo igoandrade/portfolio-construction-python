{
 "cells": [
  {
   "cell_type": "markdown",
   "metadata": {},
   "source": [
    "# Teste do módulo 2"
   ]
  },
  {
   "cell_type": "markdown",
   "metadata": {},
   "source": [
    "1. Use o conjunto de dados EDHEC Hedge Fund Indexes que usamos na tarefa de laboratório, bem como nas tarefas da semana anterior. Carregue-os no Python e execute a seguinte análise com base nos dados desde 2000 (incluindo todo o ano de 2000): Qual foi o VaR Gaussiano Paramétrico Mensal no nível de 1% (como um número +ve) da estratégia Distressed Securities?\n",
    "\n",
    "    Insira o número positivo como uma porcentagem, por exemplo. Para 5,32% insira 5,32\n",
    "\n",
    "    NOTA: Você pode arredondar ou truncar para 1 casa decimal, aceitaremos qualquer resposta"
   ]
  },
  {
   "cell_type": "code",
   "execution_count": 1,
   "metadata": {},
   "outputs": [],
   "source": [
    "import numpy as np \n",
    "import pandas as pd \n",
    "import matplotlib.pyplot as plt \n",
    "import risk_toolkit as rt \n"
   ]
  },
  {
   "cell_type": "code",
   "execution_count": 2,
   "metadata": {},
   "outputs": [
    {
     "data": {
      "text/html": [
       "<div>\n",
       "<style scoped>\n",
       "    .dataframe tbody tr th:only-of-type {\n",
       "        vertical-align: middle;\n",
       "    }\n",
       "\n",
       "    .dataframe tbody tr th {\n",
       "        vertical-align: top;\n",
       "    }\n",
       "\n",
       "    .dataframe thead th {\n",
       "        text-align: right;\n",
       "    }\n",
       "</style>\n",
       "<table border=\"1\" class=\"dataframe\">\n",
       "  <thead>\n",
       "    <tr style=\"text-align: right;\">\n",
       "      <th></th>\n",
       "      <th>Convertible Arbitrage</th>\n",
       "      <th>CTA Global</th>\n",
       "      <th>Distressed Securities</th>\n",
       "      <th>Emerging Markets</th>\n",
       "      <th>Equity Market Neutral</th>\n",
       "      <th>Event Driven</th>\n",
       "      <th>Fixed Income Arbitrage</th>\n",
       "      <th>Global Macro</th>\n",
       "      <th>Long/Short Equity</th>\n",
       "      <th>Merger Arbitrage</th>\n",
       "      <th>Relative Value</th>\n",
       "      <th>Short Selling</th>\n",
       "      <th>Funds Of Funds</th>\n",
       "    </tr>\n",
       "    <tr>\n",
       "      <th>date</th>\n",
       "      <th></th>\n",
       "      <th></th>\n",
       "      <th></th>\n",
       "      <th></th>\n",
       "      <th></th>\n",
       "      <th></th>\n",
       "      <th></th>\n",
       "      <th></th>\n",
       "      <th></th>\n",
       "      <th></th>\n",
       "      <th></th>\n",
       "      <th></th>\n",
       "      <th></th>\n",
       "    </tr>\n",
       "  </thead>\n",
       "  <tbody>\n",
       "    <tr>\n",
       "      <th>1997-01</th>\n",
       "      <td>0.0119</td>\n",
       "      <td>0.0393</td>\n",
       "      <td>0.0178</td>\n",
       "      <td>0.0791</td>\n",
       "      <td>0.0189</td>\n",
       "      <td>0.0213</td>\n",
       "      <td>0.0191</td>\n",
       "      <td>0.0573</td>\n",
       "      <td>0.0281</td>\n",
       "      <td>0.0150</td>\n",
       "      <td>0.0180</td>\n",
       "      <td>-0.0166</td>\n",
       "      <td>0.0317</td>\n",
       "    </tr>\n",
       "    <tr>\n",
       "      <th>1997-02</th>\n",
       "      <td>0.0123</td>\n",
       "      <td>0.0298</td>\n",
       "      <td>0.0122</td>\n",
       "      <td>0.0525</td>\n",
       "      <td>0.0101</td>\n",
       "      <td>0.0084</td>\n",
       "      <td>0.0122</td>\n",
       "      <td>0.0175</td>\n",
       "      <td>-0.0006</td>\n",
       "      <td>0.0034</td>\n",
       "      <td>0.0118</td>\n",
       "      <td>0.0426</td>\n",
       "      <td>0.0106</td>\n",
       "    </tr>\n",
       "    <tr>\n",
       "      <th>1997-03</th>\n",
       "      <td>0.0078</td>\n",
       "      <td>-0.0021</td>\n",
       "      <td>-0.0012</td>\n",
       "      <td>-0.0120</td>\n",
       "      <td>0.0016</td>\n",
       "      <td>-0.0023</td>\n",
       "      <td>0.0109</td>\n",
       "      <td>-0.0119</td>\n",
       "      <td>-0.0084</td>\n",
       "      <td>0.0060</td>\n",
       "      <td>0.0010</td>\n",
       "      <td>0.0778</td>\n",
       "      <td>-0.0077</td>\n",
       "    </tr>\n",
       "    <tr>\n",
       "      <th>1997-04</th>\n",
       "      <td>0.0086</td>\n",
       "      <td>-0.0170</td>\n",
       "      <td>0.0030</td>\n",
       "      <td>0.0119</td>\n",
       "      <td>0.0119</td>\n",
       "      <td>-0.0005</td>\n",
       "      <td>0.0130</td>\n",
       "      <td>0.0172</td>\n",
       "      <td>0.0084</td>\n",
       "      <td>-0.0001</td>\n",
       "      <td>0.0122</td>\n",
       "      <td>-0.0129</td>\n",
       "      <td>0.0009</td>\n",
       "    </tr>\n",
       "    <tr>\n",
       "      <th>1997-05</th>\n",
       "      <td>0.0156</td>\n",
       "      <td>-0.0015</td>\n",
       "      <td>0.0233</td>\n",
       "      <td>0.0315</td>\n",
       "      <td>0.0189</td>\n",
       "      <td>0.0346</td>\n",
       "      <td>0.0118</td>\n",
       "      <td>0.0108</td>\n",
       "      <td>0.0394</td>\n",
       "      <td>0.0197</td>\n",
       "      <td>0.0173</td>\n",
       "      <td>-0.0737</td>\n",
       "      <td>0.0275</td>\n",
       "    </tr>\n",
       "  </tbody>\n",
       "</table>\n",
       "</div>"
      ],
      "text/plain": [
       "         Convertible Arbitrage  CTA Global  Distressed Securities  \\\n",
       "date                                                                \n",
       "1997-01                 0.0119      0.0393                 0.0178   \n",
       "1997-02                 0.0123      0.0298                 0.0122   \n",
       "1997-03                 0.0078     -0.0021                -0.0012   \n",
       "1997-04                 0.0086     -0.0170                 0.0030   \n",
       "1997-05                 0.0156     -0.0015                 0.0233   \n",
       "\n",
       "         Emerging Markets  Equity Market Neutral  Event Driven  \\\n",
       "date                                                             \n",
       "1997-01            0.0791                 0.0189        0.0213   \n",
       "1997-02            0.0525                 0.0101        0.0084   \n",
       "1997-03           -0.0120                 0.0016       -0.0023   \n",
       "1997-04            0.0119                 0.0119       -0.0005   \n",
       "1997-05            0.0315                 0.0189        0.0346   \n",
       "\n",
       "         Fixed Income Arbitrage  Global Macro  Long/Short Equity  \\\n",
       "date                                                               \n",
       "1997-01                  0.0191        0.0573             0.0281   \n",
       "1997-02                  0.0122        0.0175            -0.0006   \n",
       "1997-03                  0.0109       -0.0119            -0.0084   \n",
       "1997-04                  0.0130        0.0172             0.0084   \n",
       "1997-05                  0.0118        0.0108             0.0394   \n",
       "\n",
       "         Merger Arbitrage  Relative Value  Short Selling  Funds Of Funds  \n",
       "date                                                                      \n",
       "1997-01            0.0150          0.0180        -0.0166          0.0317  \n",
       "1997-02            0.0034          0.0118         0.0426          0.0106  \n",
       "1997-03            0.0060          0.0010         0.0778         -0.0077  \n",
       "1997-04           -0.0001          0.0122        -0.0129          0.0009  \n",
       "1997-05            0.0197          0.0173        -0.0737          0.0275  "
      ]
     },
     "execution_count": 2,
     "metadata": {},
     "output_type": "execute_result"
    }
   ],
   "source": [
    "hfi = rt.get_hfi_returns()\n",
    "hfi.head()"
   ]
  },
  {
   "cell_type": "code",
   "execution_count": 3,
   "metadata": {},
   "outputs": [
    {
     "data": {
      "text/html": [
       "<div>\n",
       "<style scoped>\n",
       "    .dataframe tbody tr th:only-of-type {\n",
       "        vertical-align: middle;\n",
       "    }\n",
       "\n",
       "    .dataframe tbody tr th {\n",
       "        vertical-align: top;\n",
       "    }\n",
       "\n",
       "    .dataframe thead th {\n",
       "        text-align: right;\n",
       "    }\n",
       "</style>\n",
       "<table border=\"1\" class=\"dataframe\">\n",
       "  <thead>\n",
       "    <tr style=\"text-align: right;\">\n",
       "      <th></th>\n",
       "      <th>Convertible Arbitrage</th>\n",
       "      <th>CTA Global</th>\n",
       "      <th>Distressed Securities</th>\n",
       "      <th>Emerging Markets</th>\n",
       "      <th>Equity Market Neutral</th>\n",
       "      <th>Event Driven</th>\n",
       "      <th>Fixed Income Arbitrage</th>\n",
       "      <th>Global Macro</th>\n",
       "      <th>Long/Short Equity</th>\n",
       "      <th>Merger Arbitrage</th>\n",
       "      <th>Relative Value</th>\n",
       "      <th>Short Selling</th>\n",
       "      <th>Funds Of Funds</th>\n",
       "    </tr>\n",
       "    <tr>\n",
       "      <th>date</th>\n",
       "      <th></th>\n",
       "      <th></th>\n",
       "      <th></th>\n",
       "      <th></th>\n",
       "      <th></th>\n",
       "      <th></th>\n",
       "      <th></th>\n",
       "      <th></th>\n",
       "      <th></th>\n",
       "      <th></th>\n",
       "      <th></th>\n",
       "      <th></th>\n",
       "      <th></th>\n",
       "    </tr>\n",
       "  </thead>\n",
       "  <tbody>\n",
       "    <tr>\n",
       "      <th>2000-01</th>\n",
       "      <td>0.0227</td>\n",
       "      <td>0.0128</td>\n",
       "      <td>0.0088</td>\n",
       "      <td>0.0077</td>\n",
       "      <td>0.0075</td>\n",
       "      <td>0.0088</td>\n",
       "      <td>0.0041</td>\n",
       "      <td>0.0021</td>\n",
       "      <td>0.0075</td>\n",
       "      <td>0.0143</td>\n",
       "      <td>0.0173</td>\n",
       "      <td>0.0427</td>\n",
       "      <td>0.0169</td>\n",
       "    </tr>\n",
       "    <tr>\n",
       "      <th>2000-02</th>\n",
       "      <td>0.0267</td>\n",
       "      <td>-0.0022</td>\n",
       "      <td>0.0421</td>\n",
       "      <td>0.0528</td>\n",
       "      <td>0.0253</td>\n",
       "      <td>0.0346</td>\n",
       "      <td>0.0097</td>\n",
       "      <td>0.0408</td>\n",
       "      <td>0.0699</td>\n",
       "      <td>0.0239</td>\n",
       "      <td>0.0185</td>\n",
       "      <td>-0.1340</td>\n",
       "      <td>0.0666</td>\n",
       "    </tr>\n",
       "    <tr>\n",
       "      <th>2000-03</th>\n",
       "      <td>0.0243</td>\n",
       "      <td>-0.0138</td>\n",
       "      <td>0.0103</td>\n",
       "      <td>0.0318</td>\n",
       "      <td>0.0134</td>\n",
       "      <td>0.0069</td>\n",
       "      <td>-0.0061</td>\n",
       "      <td>-0.0104</td>\n",
       "      <td>0.0006</td>\n",
       "      <td>0.0131</td>\n",
       "      <td>0.0163</td>\n",
       "      <td>-0.0230</td>\n",
       "      <td>0.0039</td>\n",
       "    </tr>\n",
       "    <tr>\n",
       "      <th>2000-04</th>\n",
       "      <td>0.0223</td>\n",
       "      <td>-0.0241</td>\n",
       "      <td>-0.0101</td>\n",
       "      <td>-0.0541</td>\n",
       "      <td>0.0168</td>\n",
       "      <td>-0.0059</td>\n",
       "      <td>-0.0006</td>\n",
       "      <td>-0.0304</td>\n",
       "      <td>-0.0201</td>\n",
       "      <td>0.0188</td>\n",
       "      <td>0.0092</td>\n",
       "      <td>0.1028</td>\n",
       "      <td>-0.0269</td>\n",
       "    </tr>\n",
       "    <tr>\n",
       "      <th>2000-05</th>\n",
       "      <td>0.0149</td>\n",
       "      <td>0.0114</td>\n",
       "      <td>-0.0132</td>\n",
       "      <td>-0.0433</td>\n",
       "      <td>0.0062</td>\n",
       "      <td>-0.0034</td>\n",
       "      <td>0.0107</td>\n",
       "      <td>-0.0070</td>\n",
       "      <td>-0.0097</td>\n",
       "      <td>0.0146</td>\n",
       "      <td>0.0080</td>\n",
       "      <td>0.0704</td>\n",
       "      <td>-0.0122</td>\n",
       "    </tr>\n",
       "  </tbody>\n",
       "</table>\n",
       "</div>"
      ],
      "text/plain": [
       "         Convertible Arbitrage  CTA Global  Distressed Securities  \\\n",
       "date                                                                \n",
       "2000-01                 0.0227      0.0128                 0.0088   \n",
       "2000-02                 0.0267     -0.0022                 0.0421   \n",
       "2000-03                 0.0243     -0.0138                 0.0103   \n",
       "2000-04                 0.0223     -0.0241                -0.0101   \n",
       "2000-05                 0.0149      0.0114                -0.0132   \n",
       "\n",
       "         Emerging Markets  Equity Market Neutral  Event Driven  \\\n",
       "date                                                             \n",
       "2000-01            0.0077                 0.0075        0.0088   \n",
       "2000-02            0.0528                 0.0253        0.0346   \n",
       "2000-03            0.0318                 0.0134        0.0069   \n",
       "2000-04           -0.0541                 0.0168       -0.0059   \n",
       "2000-05           -0.0433                 0.0062       -0.0034   \n",
       "\n",
       "         Fixed Income Arbitrage  Global Macro  Long/Short Equity  \\\n",
       "date                                                               \n",
       "2000-01                  0.0041        0.0021             0.0075   \n",
       "2000-02                  0.0097        0.0408             0.0699   \n",
       "2000-03                 -0.0061       -0.0104             0.0006   \n",
       "2000-04                 -0.0006       -0.0304            -0.0201   \n",
       "2000-05                  0.0107       -0.0070            -0.0097   \n",
       "\n",
       "         Merger Arbitrage  Relative Value  Short Selling  Funds Of Funds  \n",
       "date                                                                      \n",
       "2000-01            0.0143          0.0173         0.0427          0.0169  \n",
       "2000-02            0.0239          0.0185        -0.1340          0.0666  \n",
       "2000-03            0.0131          0.0163        -0.0230          0.0039  \n",
       "2000-04            0.0188          0.0092         0.1028         -0.0269  \n",
       "2000-05            0.0146          0.0080         0.0704         -0.0122  "
      ]
     },
     "execution_count": 3,
     "metadata": {},
     "output_type": "execute_result"
    }
   ],
   "source": [
    "hfi2000 = hfi['2000':]\n",
    "hfi2000.head()"
   ]
  },
  {
   "cell_type": "markdown",
   "metadata": {},
   "source": [
    "Para a estratégia \"Distressed Securities\", o Valor em Risco ($VaR$) ao nível de significância de 1% é:"
   ]
  },
  {
   "cell_type": "code",
   "execution_count": 6,
   "metadata": {},
   "outputs": [
    {
     "name": "stdout",
     "output_type": "stream",
     "text": [
      "VaR = 3.83%\n"
     ]
    }
   ],
   "source": [
    "r = hfi2000['Distressed Securities'].head()\n",
    "var1 = rt.var_gaussian(r, 1)\n",
    "print(f\"VaR = {100 * var1:.2f}%\")"
   ]
  },
  {
   "cell_type": "markdown",
   "metadata": {},
   "source": [
    "2. Use o mesmo conjunto de dados da pergunta anterior. Qual foi o VaR de 1% para a mesma estratégia após a aplicação do Ajuste Cornish-Fisher?\n",
    "\n",
    "    Digite a resposta como um número positivo, em termos percentuais. por exemplo. para 5,32% digite 5,32"
   ]
  },
  {
   "cell_type": "markdown",
   "metadata": {},
   "source": [
    "Aplicando o ajuste de Cornish-Fisher, o Valor em Risco ao nível de 1% para a estratégia \"Distressed Securities\" é:"
   ]
  },
  {
   "cell_type": "code",
   "execution_count": 7,
   "metadata": {},
   "outputs": [
    {
     "name": "stdout",
     "output_type": "stream",
     "text": [
      "VaR Cornish-Fisher = 2.84%\n"
     ]
    }
   ],
   "source": [
    "var2 = rt.var_gaussian(r, 1, modified=1)\n",
    "print(f\"VaR Cornish-Fisher = {100 * var2:.2f}%\")"
   ]
  },
  {
   "cell_type": "markdown",
   "metadata": {},
   "source": [
    "3. Use o mesmo conjunto de dados da pergunta anterior. Qual foi o VaR Histórico Mensal ao nível de 1% (como um número +ve) da estratégia Distressed Securities?"
   ]
  },
  {
   "cell_type": "code",
   "execution_count": 8,
   "metadata": {},
   "outputs": [
    {
     "name": "stdout",
     "output_type": "stream",
     "text": [
      "VaR Histórico = 1.31%\n"
     ]
    }
   ],
   "source": [
    "var3 = rt.var_historic(r, level=1)\n",
    "print(f\"VaR Histórico = {100 * var3:.2f}%\")"
   ]
  },
  {
   "cell_type": "markdown",
   "metadata": {},
   "source": [
    "4. Em seguida, carregue os 30 dados de retorno do setor usando a função `erk.get_ind_returns()` que desenvolvemos durante as sessões de laboratório. Para fins das demais perguntas, use dados durante o período de 5 anos 2013-2017 (ambos inclusive) para estimar os retornos esperados, bem como a matriz de covariância. Para poder responder às perguntas, você precisará construir os portfólios MSR, EW e GMV consistindo nas indústrias \"Books\", \"Steel\", \"Oil\" e \"Mines\". Suponha que a taxa livre de risco durante o período de 5 anos seja de 10%.\n",
    "\n",
    "     Qual é o peso do Aço no Portfólio EW?"
   ]
  },
  {
   "cell_type": "code",
   "execution_count": 11,
   "metadata": {},
   "outputs": [
    {
     "data": {
      "text/html": [
       "<div>\n",
       "<style scoped>\n",
       "    .dataframe tbody tr th:only-of-type {\n",
       "        vertical-align: middle;\n",
       "    }\n",
       "\n",
       "    .dataframe tbody tr th {\n",
       "        vertical-align: top;\n",
       "    }\n",
       "\n",
       "    .dataframe thead th {\n",
       "        text-align: right;\n",
       "    }\n",
       "</style>\n",
       "<table border=\"1\" class=\"dataframe\">\n",
       "  <thead>\n",
       "    <tr style=\"text-align: right;\">\n",
       "      <th></th>\n",
       "      <th>Food</th>\n",
       "      <th>Beer</th>\n",
       "      <th>Smoke</th>\n",
       "      <th>Games</th>\n",
       "      <th>Books</th>\n",
       "      <th>Hshld</th>\n",
       "      <th>Clths</th>\n",
       "      <th>Hlth</th>\n",
       "      <th>Chems</th>\n",
       "      <th>Txtls</th>\n",
       "      <th>...</th>\n",
       "      <th>Telcm</th>\n",
       "      <th>Servs</th>\n",
       "      <th>BusEq</th>\n",
       "      <th>Paper</th>\n",
       "      <th>Trans</th>\n",
       "      <th>Whlsl</th>\n",
       "      <th>Rtail</th>\n",
       "      <th>Meals</th>\n",
       "      <th>Fin</th>\n",
       "      <th>Other</th>\n",
       "    </tr>\n",
       "  </thead>\n",
       "  <tbody>\n",
       "    <tr>\n",
       "      <th>2013-01</th>\n",
       "      <td>0.0554</td>\n",
       "      <td>0.0507</td>\n",
       "      <td>0.0561</td>\n",
       "      <td>0.1313</td>\n",
       "      <td>0.0513</td>\n",
       "      <td>0.0869</td>\n",
       "      <td>0.0256</td>\n",
       "      <td>0.0807</td>\n",
       "      <td>0.0506</td>\n",
       "      <td>0.0922</td>\n",
       "      <td>...</td>\n",
       "      <td>0.0495</td>\n",
       "      <td>0.0663</td>\n",
       "      <td>-0.0118</td>\n",
       "      <td>0.0561</td>\n",
       "      <td>0.0852</td>\n",
       "      <td>0.0646</td>\n",
       "      <td>0.0541</td>\n",
       "      <td>0.0523</td>\n",
       "      <td>0.0632</td>\n",
       "      <td>0.0720</td>\n",
       "    </tr>\n",
       "    <tr>\n",
       "      <th>2013-02</th>\n",
       "      <td>0.0384</td>\n",
       "      <td>0.0522</td>\n",
       "      <td>0.0221</td>\n",
       "      <td>0.0000</td>\n",
       "      <td>-0.0654</td>\n",
       "      <td>0.0314</td>\n",
       "      <td>0.0146</td>\n",
       "      <td>0.0135</td>\n",
       "      <td>-0.0095</td>\n",
       "      <td>0.0570</td>\n",
       "      <td>...</td>\n",
       "      <td>0.0221</td>\n",
       "      <td>0.0097</td>\n",
       "      <td>0.0026</td>\n",
       "      <td>0.0463</td>\n",
       "      <td>0.0364</td>\n",
       "      <td>0.0207</td>\n",
       "      <td>0.0061</td>\n",
       "      <td>0.0070</td>\n",
       "      <td>0.0129</td>\n",
       "      <td>0.0443</td>\n",
       "    </tr>\n",
       "    <tr>\n",
       "      <th>2013-03</th>\n",
       "      <td>0.0656</td>\n",
       "      <td>0.0531</td>\n",
       "      <td>0.0272</td>\n",
       "      <td>0.0769</td>\n",
       "      <td>0.0778</td>\n",
       "      <td>0.0219</td>\n",
       "      <td>0.0288</td>\n",
       "      <td>0.0651</td>\n",
       "      <td>0.0121</td>\n",
       "      <td>0.0888</td>\n",
       "      <td>...</td>\n",
       "      <td>0.0577</td>\n",
       "      <td>0.0245</td>\n",
       "      <td>0.0319</td>\n",
       "      <td>0.0553</td>\n",
       "      <td>0.0465</td>\n",
       "      <td>0.0325</td>\n",
       "      <td>0.0477</td>\n",
       "      <td>0.0550</td>\n",
       "      <td>0.0453</td>\n",
       "      <td>0.0228</td>\n",
       "    </tr>\n",
       "    <tr>\n",
       "      <th>2013-04</th>\n",
       "      <td>0.0284</td>\n",
       "      <td>0.0355</td>\n",
       "      <td>0.0440</td>\n",
       "      <td>0.0451</td>\n",
       "      <td>-0.0029</td>\n",
       "      <td>0.0135</td>\n",
       "      <td>0.0903</td>\n",
       "      <td>0.0259</td>\n",
       "      <td>0.0396</td>\n",
       "      <td>0.0102</td>\n",
       "      <td>...</td>\n",
       "      <td>0.0420</td>\n",
       "      <td>0.0184</td>\n",
       "      <td>-0.0102</td>\n",
       "      <td>-0.0002</td>\n",
       "      <td>-0.0014</td>\n",
       "      <td>0.0017</td>\n",
       "      <td>0.0320</td>\n",
       "      <td>0.0240</td>\n",
       "      <td>0.0157</td>\n",
       "      <td>0.0074</td>\n",
       "    </tr>\n",
       "    <tr>\n",
       "      <th>2013-05</th>\n",
       "      <td>-0.0345</td>\n",
       "      <td>-0.0147</td>\n",
       "      <td>-0.0298</td>\n",
       "      <td>0.0218</td>\n",
       "      <td>0.0479</td>\n",
       "      <td>-0.0022</td>\n",
       "      <td>0.0078</td>\n",
       "      <td>0.0163</td>\n",
       "      <td>0.0343</td>\n",
       "      <td>0.0077</td>\n",
       "      <td>...</td>\n",
       "      <td>-0.0171</td>\n",
       "      <td>0.0363</td>\n",
       "      <td>0.0551</td>\n",
       "      <td>0.0221</td>\n",
       "      <td>0.0274</td>\n",
       "      <td>0.0385</td>\n",
       "      <td>0.0239</td>\n",
       "      <td>-0.0030</td>\n",
       "      <td>0.0708</td>\n",
       "      <td>0.0590</td>\n",
       "    </tr>\n",
       "  </tbody>\n",
       "</table>\n",
       "<p>5 rows × 30 columns</p>\n",
       "</div>"
      ],
      "text/plain": [
       "           Food    Beer   Smoke   Games   Books   Hshld   Clths    Hlth  \\\n",
       "2013-01  0.0554  0.0507  0.0561  0.1313  0.0513  0.0869  0.0256  0.0807   \n",
       "2013-02  0.0384  0.0522  0.0221  0.0000 -0.0654  0.0314  0.0146  0.0135   \n",
       "2013-03  0.0656  0.0531  0.0272  0.0769  0.0778  0.0219  0.0288  0.0651   \n",
       "2013-04  0.0284  0.0355  0.0440  0.0451 -0.0029  0.0135  0.0903  0.0259   \n",
       "2013-05 -0.0345 -0.0147 -0.0298  0.0218  0.0479 -0.0022  0.0078  0.0163   \n",
       "\n",
       "          Chems   Txtls  ...   Telcm   Servs   BusEq   Paper   Trans   Whlsl  \\\n",
       "2013-01  0.0506  0.0922  ...  0.0495  0.0663 -0.0118  0.0561  0.0852  0.0646   \n",
       "2013-02 -0.0095  0.0570  ...  0.0221  0.0097  0.0026  0.0463  0.0364  0.0207   \n",
       "2013-03  0.0121  0.0888  ...  0.0577  0.0245  0.0319  0.0553  0.0465  0.0325   \n",
       "2013-04  0.0396  0.0102  ...  0.0420  0.0184 -0.0102 -0.0002 -0.0014  0.0017   \n",
       "2013-05  0.0343  0.0077  ... -0.0171  0.0363  0.0551  0.0221  0.0274  0.0385   \n",
       "\n",
       "          Rtail   Meals     Fin   Other  \n",
       "2013-01  0.0541  0.0523  0.0632  0.0720  \n",
       "2013-02  0.0061  0.0070  0.0129  0.0443  \n",
       "2013-03  0.0477  0.0550  0.0453  0.0228  \n",
       "2013-04  0.0320  0.0240  0.0157  0.0074  \n",
       "2013-05  0.0239 -0.0030  0.0708  0.0590  \n",
       "\n",
       "[5 rows x 30 columns]"
      ]
     },
     "execution_count": 11,
     "metadata": {},
     "output_type": "execute_result"
    }
   ],
   "source": [
    "port30 = rt.get_ind_returns()\n",
    "port30 = port30['2013':'2018']\n",
    "port30.head()"
   ]
  },
  {
   "cell_type": "code",
   "execution_count": 18,
   "metadata": {},
   "outputs": [
    {
     "data": {
      "text/plain": [
       "Index(['Food', 'Beer', 'Smoke', 'Games', 'Books', 'Hshld', 'Clths', 'Hlth',\n",
       "       'Chems', 'Txtls', 'Cnstr', 'Steel', 'FabPr', 'ElcEq', 'Autos', 'Carry',\n",
       "       'Mines', 'Coal', 'Oil', 'Util', 'Telcm', 'Servs', 'BusEq', 'Paper',\n",
       "       'Trans', 'Whlsl', 'Rtail', 'Meals', 'Fin', 'Other'],\n",
       "      dtype='object')"
      ]
     },
     "execution_count": 18,
     "metadata": {},
     "output_type": "execute_result"
    }
   ],
   "source": [
    "port30.columns"
   ]
  },
  {
   "cell_type": "code",
   "execution_count": 21,
   "metadata": {},
   "outputs": [],
   "source": [
    "l = [\"Books\", \"Steel\", \"Oil\", \"Mines\"]\n",
    "er = rt.annualize_rets(port30[l], 12)\n",
    "cov = port30[l].cov()"
   ]
  },
  {
   "cell_type": "code",
   "execution_count": 25,
   "metadata": {},
   "outputs": [
    {
     "data": {
      "text/plain": [
       "array([0.25, 0.25, 0.25, 0.25])"
      ]
     },
     "execution_count": 25,
     "metadata": {},
     "output_type": "execute_result"
    }
   ],
   "source": [
    "n = er.shape[0]\n",
    "w_ew = np.repeat(1/n, n)\n",
    "w_ew"
   ]
  },
  {
   "cell_type": "markdown",
   "metadata": {},
   "source": [
    "5. Qual é o peso do maior componente do portfólio MSR?"
   ]
  },
  {
   "cell_type": "code",
   "execution_count": 28,
   "metadata": {},
   "outputs": [
    {
     "data": {
      "text/plain": [
       "array([1.49880108e-15, 1.00000000e+00, 2.17187379e-15, 3.91353616e-15])"
      ]
     },
     "execution_count": 28,
     "metadata": {},
     "output_type": "execute_result"
    }
   ],
   "source": [
    "rf = 0.1\n",
    "w_msr = rt.msr(rf, er, cov)\n",
    "w_msr"
   ]
  },
  {
   "cell_type": "code",
   "execution_count": 29,
   "metadata": {},
   "outputs": [
    {
     "data": {
      "text/plain": [
       "0.9999999999999925"
      ]
     },
     "execution_count": 29,
     "metadata": {},
     "output_type": "execute_result"
    }
   ],
   "source": [
    "max(w_msr)"
   ]
  },
  {
   "cell_type": "markdown",
   "metadata": {},
   "source": [
    "6. Qual dos 4 componentes tem o maior peso no portfólio MSR?"
   ]
  },
  {
   "cell_type": "markdown",
   "metadata": {},
   "source": [
    "Steel"
   ]
  },
  {
   "cell_type": "markdown",
   "metadata": {},
   "source": [
    "7. Quantos dos componentes do portfólio MSR têm pesos diferentes de zero?"
   ]
  },
  {
   "cell_type": "markdown",
   "metadata": {},
   "source": [
    "Apenas 1"
   ]
  },
  {
   "cell_type": "markdown",
   "metadata": {},
   "source": [
    "8. Qual é o peso da maior componente da carteira GMV?"
   ]
  },
  {
   "cell_type": "code",
   "execution_count": 32,
   "metadata": {},
   "outputs": [
    {
     "data": {
      "text/plain": [
       "array([5.10061017e-01, 1.14925430e-17, 3.40468524e-01, 1.49470459e-01])"
      ]
     },
     "execution_count": 32,
     "metadata": {},
     "output_type": "execute_result"
    }
   ],
   "source": [
    "rf = 0.1\n",
    "w_gmv = rt.gmv(cov)\n",
    "w_gmv"
   ]
  },
  {
   "cell_type": "code",
   "execution_count": 33,
   "metadata": {},
   "outputs": [
    {
     "data": {
      "text/plain": [
       "0.5100610168492838"
      ]
     },
     "execution_count": 33,
     "metadata": {},
     "output_type": "execute_result"
    }
   ],
   "source": [
    "max(w_gmv)"
   ]
  },
  {
   "cell_type": "code",
   "execution_count": 42,
   "metadata": {},
   "outputs": [
    {
     "data": {
      "text/plain": [
       "{'Books': 0.5100610168492838,\n",
       " 'Steel': 1.1492543028346347e-17,\n",
       " 'Oil': 0.3404685237878173,\n",
       " 'Mines': 0.14947045936289885}"
      ]
     },
     "execution_count": 42,
     "metadata": {},
     "output_type": "execute_result"
    }
   ],
   "source": [
    "dict(zip(l, w_gmv))"
   ]
  },
  {
   "cell_type": "code",
   "execution_count": null,
   "metadata": {},
   "outputs": [],
   "source": []
  }
 ],
 "metadata": {
  "interpreter": {
   "hash": "59aab24ace7f92780df8f855e98b8b8ce07c1bb23de1c4eeadc23a13ada391fc"
  },
  "kernelspec": {
   "display_name": "Python 3.8.12 64-bit ('venv': venv)",
   "language": "python",
   "name": "python3"
  },
  "language_info": {
   "codemirror_mode": {
    "name": "ipython",
    "version": 3
   },
   "file_extension": ".py",
   "mimetype": "text/x-python",
   "name": "python",
   "nbconvert_exporter": "python",
   "pygments_lexer": "ipython3",
   "version": "3.8.12"
  },
  "orig_nbformat": 4
 },
 "nbformat": 4,
 "nbformat_minor": 2
}
