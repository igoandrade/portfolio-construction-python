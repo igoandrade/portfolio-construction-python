{
 "cells": [
  {
   "cell_type": "markdown",
   "metadata": {},
   "source": [
    "# Teorema de Separação de Fundos e Linha de Mercado de Capitais"
   ]
  },
  {
   "cell_type": "markdown",
   "metadata": {},
   "source": [
    "## Maximum Sharpe Ratio Portfolio (MSR)\n",
    "\n",
    "Abordagem científica para diversificação. O **portifólio de tangência** é o portfólio que maximiza o Sharpe Ratio.\n",
    "\n",
    "$$SR_p = \\dfrac{\\mu_p - r_f}{\\rho_p} = \\dfrac{\\sum_{i=1}^N w_i\\mu_i - r_r}{\\sqrt{\\sum_{i,j=1}^N w_i w_j \\sigma_i \\sigma_j \\rho_{ij}}}$$"
   ]
  },
  {
   "cell_type": "markdown",
   "metadata": {},
   "source": []
  }
 ],
 "metadata": {
  "interpreter": {
   "hash": "59aab24ace7f92780df8f855e98b8b8ce07c1bb23de1c4eeadc23a13ada391fc"
  },
  "kernelspec": {
   "display_name": "Python 3.8.12 64-bit ('venv': venv)",
   "language": "python",
   "name": "python3"
  },
  "language_info": {
   "name": "python",
   "version": "3.8.12"
  },
  "orig_nbformat": 4
 },
 "nbformat": 4,
 "nbformat_minor": 2
}
