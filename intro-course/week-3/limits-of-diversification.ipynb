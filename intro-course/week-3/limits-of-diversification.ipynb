{
 "cells": [
  {
   "cell_type": "markdown",
   "metadata": {},
   "source": [
    "# Limites da Diversificação"
   ]
  },
  {
   "cell_type": "code",
   "execution_count": 2,
   "metadata": {},
   "outputs": [
    {
     "name": "stdout",
     "output_type": "stream",
     "text": [
      "The autoreload extension is already loaded. To reload it, use:\n",
      "  %reload_ext autoreload\n"
     ]
    }
   ],
   "source": [
    "%load_ext autoreload\n",
    "%autoreload 2\n",
    "%matplotlib inline\n",
    "import risk_toolkit as rt \n",
    "import os \n",
    "import pandas as pd \n",
    "import numpy as np \n",
    "import matplotlib.pyplot as plt \n",
    "\n",
    "plt.style.use('seaborn')"
   ]
  },
  {
   "cell_type": "markdown",
   "metadata": {},
   "source": [
    "Carregamento dos dados"
   ]
  },
  {
   "cell_type": "code",
   "execution_count": 3,
   "metadata": {},
   "outputs": [
    {
     "data": {
      "text/html": [
       "<div>\n",
       "<style scoped>\n",
       "    .dataframe tbody tr th:only-of-type {\n",
       "        vertical-align: middle;\n",
       "    }\n",
       "\n",
       "    .dataframe tbody tr th {\n",
       "        vertical-align: top;\n",
       "    }\n",
       "\n",
       "    .dataframe thead th {\n",
       "        text-align: right;\n",
       "    }\n",
       "</style>\n",
       "<table border=\"1\" class=\"dataframe\">\n",
       "  <thead>\n",
       "    <tr style=\"text-align: right;\">\n",
       "      <th></th>\n",
       "      <th>Food</th>\n",
       "      <th>Beer</th>\n",
       "      <th>Smoke</th>\n",
       "      <th>Games</th>\n",
       "      <th>Books</th>\n",
       "      <th>Hshld</th>\n",
       "      <th>Clths</th>\n",
       "      <th>Hlth</th>\n",
       "      <th>Chems</th>\n",
       "      <th>Txtls</th>\n",
       "      <th>...</th>\n",
       "      <th>Telcm</th>\n",
       "      <th>Servs</th>\n",
       "      <th>BusEq</th>\n",
       "      <th>Paper</th>\n",
       "      <th>Trans</th>\n",
       "      <th>Whlsl</th>\n",
       "      <th>Rtail</th>\n",
       "      <th>Meals</th>\n",
       "      <th>Fin</th>\n",
       "      <th>Other</th>\n",
       "    </tr>\n",
       "  </thead>\n",
       "  <tbody>\n",
       "    <tr>\n",
       "      <th>1926-07</th>\n",
       "      <td>0.0056</td>\n",
       "      <td>-0.0519</td>\n",
       "      <td>0.0129</td>\n",
       "      <td>0.0293</td>\n",
       "      <td>0.1097</td>\n",
       "      <td>-0.0048</td>\n",
       "      <td>0.0808</td>\n",
       "      <td>0.0177</td>\n",
       "      <td>0.0814</td>\n",
       "      <td>0.0039</td>\n",
       "      <td>...</td>\n",
       "      <td>0.0083</td>\n",
       "      <td>0.0922</td>\n",
       "      <td>0.0206</td>\n",
       "      <td>0.0770</td>\n",
       "      <td>0.0193</td>\n",
       "      <td>-0.2379</td>\n",
       "      <td>0.0007</td>\n",
       "      <td>0.0187</td>\n",
       "      <td>0.0037</td>\n",
       "      <td>0.0520</td>\n",
       "    </tr>\n",
       "    <tr>\n",
       "      <th>1926-08</th>\n",
       "      <td>0.0259</td>\n",
       "      <td>0.2703</td>\n",
       "      <td>0.0650</td>\n",
       "      <td>0.0055</td>\n",
       "      <td>0.1001</td>\n",
       "      <td>-0.0358</td>\n",
       "      <td>-0.0251</td>\n",
       "      <td>0.0425</td>\n",
       "      <td>0.0550</td>\n",
       "      <td>0.0814</td>\n",
       "      <td>...</td>\n",
       "      <td>0.0217</td>\n",
       "      <td>0.0202</td>\n",
       "      <td>0.0439</td>\n",
       "      <td>-0.0238</td>\n",
       "      <td>0.0488</td>\n",
       "      <td>0.0539</td>\n",
       "      <td>-0.0075</td>\n",
       "      <td>-0.0013</td>\n",
       "      <td>0.0446</td>\n",
       "      <td>0.0676</td>\n",
       "    </tr>\n",
       "    <tr>\n",
       "      <th>1926-09</th>\n",
       "      <td>0.0116</td>\n",
       "      <td>0.0402</td>\n",
       "      <td>0.0126</td>\n",
       "      <td>0.0658</td>\n",
       "      <td>-0.0099</td>\n",
       "      <td>0.0073</td>\n",
       "      <td>-0.0051</td>\n",
       "      <td>0.0069</td>\n",
       "      <td>0.0533</td>\n",
       "      <td>0.0231</td>\n",
       "      <td>...</td>\n",
       "      <td>0.0241</td>\n",
       "      <td>0.0225</td>\n",
       "      <td>0.0019</td>\n",
       "      <td>-0.0554</td>\n",
       "      <td>0.0005</td>\n",
       "      <td>-0.0787</td>\n",
       "      <td>0.0025</td>\n",
       "      <td>-0.0056</td>\n",
       "      <td>-0.0123</td>\n",
       "      <td>-0.0386</td>\n",
       "    </tr>\n",
       "    <tr>\n",
       "      <th>1926-10</th>\n",
       "      <td>-0.0306</td>\n",
       "      <td>-0.0331</td>\n",
       "      <td>0.0106</td>\n",
       "      <td>-0.0476</td>\n",
       "      <td>0.0947</td>\n",
       "      <td>-0.0468</td>\n",
       "      <td>0.0012</td>\n",
       "      <td>-0.0057</td>\n",
       "      <td>-0.0476</td>\n",
       "      <td>0.0100</td>\n",
       "      <td>...</td>\n",
       "      <td>-0.0011</td>\n",
       "      <td>-0.0200</td>\n",
       "      <td>-0.0109</td>\n",
       "      <td>-0.0508</td>\n",
       "      <td>-0.0264</td>\n",
       "      <td>-0.1538</td>\n",
       "      <td>-0.0220</td>\n",
       "      <td>-0.0411</td>\n",
       "      <td>-0.0516</td>\n",
       "      <td>-0.0849</td>\n",
       "    </tr>\n",
       "    <tr>\n",
       "      <th>1926-11</th>\n",
       "      <td>0.0635</td>\n",
       "      <td>0.0729</td>\n",
       "      <td>0.0455</td>\n",
       "      <td>0.0166</td>\n",
       "      <td>-0.0580</td>\n",
       "      <td>-0.0054</td>\n",
       "      <td>0.0187</td>\n",
       "      <td>0.0542</td>\n",
       "      <td>0.0520</td>\n",
       "      <td>0.0311</td>\n",
       "      <td>...</td>\n",
       "      <td>0.0163</td>\n",
       "      <td>0.0377</td>\n",
       "      <td>0.0364</td>\n",
       "      <td>0.0384</td>\n",
       "      <td>0.0160</td>\n",
       "      <td>0.0467</td>\n",
       "      <td>0.0652</td>\n",
       "      <td>0.0433</td>\n",
       "      <td>0.0224</td>\n",
       "      <td>0.0400</td>\n",
       "    </tr>\n",
       "  </tbody>\n",
       "</table>\n",
       "<p>5 rows × 30 columns</p>\n",
       "</div>"
      ],
      "text/plain": [
       "           Food    Beer   Smoke   Games   Books   Hshld   Clths    Hlth  \\\n",
       "1926-07  0.0056 -0.0519  0.0129  0.0293  0.1097 -0.0048  0.0808  0.0177   \n",
       "1926-08  0.0259  0.2703  0.0650  0.0055  0.1001 -0.0358 -0.0251  0.0425   \n",
       "1926-09  0.0116  0.0402  0.0126  0.0658 -0.0099  0.0073 -0.0051  0.0069   \n",
       "1926-10 -0.0306 -0.0331  0.0106 -0.0476  0.0947 -0.0468  0.0012 -0.0057   \n",
       "1926-11  0.0635  0.0729  0.0455  0.0166 -0.0580 -0.0054  0.0187  0.0542   \n",
       "\n",
       "          Chems   Txtls  ...   Telcm   Servs   BusEq   Paper   Trans   Whlsl  \\\n",
       "1926-07  0.0814  0.0039  ...  0.0083  0.0922  0.0206  0.0770  0.0193 -0.2379   \n",
       "1926-08  0.0550  0.0814  ...  0.0217  0.0202  0.0439 -0.0238  0.0488  0.0539   \n",
       "1926-09  0.0533  0.0231  ...  0.0241  0.0225  0.0019 -0.0554  0.0005 -0.0787   \n",
       "1926-10 -0.0476  0.0100  ... -0.0011 -0.0200 -0.0109 -0.0508 -0.0264 -0.1538   \n",
       "1926-11  0.0520  0.0311  ...  0.0163  0.0377  0.0364  0.0384  0.0160  0.0467   \n",
       "\n",
       "          Rtail   Meals     Fin   Other  \n",
       "1926-07  0.0007  0.0187  0.0037  0.0520  \n",
       "1926-08 -0.0075 -0.0013  0.0446  0.0676  \n",
       "1926-09  0.0025 -0.0056 -0.0123 -0.0386  \n",
       "1926-10 -0.0220 -0.0411 -0.0516 -0.0849  \n",
       "1926-11  0.0652  0.0433  0.0224  0.0400  \n",
       "\n",
       "[5 rows x 30 columns]"
      ]
     },
     "execution_count": 3,
     "metadata": {},
     "output_type": "execute_result"
    }
   ],
   "source": [
    "ind_return = rt.get_ind_returns()\n",
    "ind_return.head()"
   ]
  },
  {
   "cell_type": "code",
   "execution_count": 9,
   "metadata": {},
   "outputs": [
    {
     "data": {
      "text/plain": [
       "(1110, 30)"
      ]
     },
     "execution_count": 9,
     "metadata": {},
     "output_type": "execute_result"
    }
   ],
   "source": [
    "ind_return.shape"
   ]
  },
  {
   "cell_type": "code",
   "execution_count": 4,
   "metadata": {},
   "outputs": [
    {
     "data": {
      "text/html": [
       "<div>\n",
       "<style scoped>\n",
       "    .dataframe tbody tr th:only-of-type {\n",
       "        vertical-align: middle;\n",
       "    }\n",
       "\n",
       "    .dataframe tbody tr th {\n",
       "        vertical-align: top;\n",
       "    }\n",
       "\n",
       "    .dataframe thead th {\n",
       "        text-align: right;\n",
       "    }\n",
       "</style>\n",
       "<table border=\"1\" class=\"dataframe\">\n",
       "  <thead>\n",
       "    <tr style=\"text-align: right;\">\n",
       "      <th></th>\n",
       "      <th>Food</th>\n",
       "      <th>Beer</th>\n",
       "      <th>Smoke</th>\n",
       "      <th>Games</th>\n",
       "      <th>Books</th>\n",
       "      <th>Hshld</th>\n",
       "      <th>Clths</th>\n",
       "      <th>Hlth</th>\n",
       "      <th>Chems</th>\n",
       "      <th>Txtls</th>\n",
       "      <th>...</th>\n",
       "      <th>Telcm</th>\n",
       "      <th>Servs</th>\n",
       "      <th>BusEq</th>\n",
       "      <th>Paper</th>\n",
       "      <th>Trans</th>\n",
       "      <th>Whlsl</th>\n",
       "      <th>Rtail</th>\n",
       "      <th>Meals</th>\n",
       "      <th>Fin</th>\n",
       "      <th>Other</th>\n",
       "    </tr>\n",
       "  </thead>\n",
       "  <tbody>\n",
       "    <tr>\n",
       "      <th>1926-07</th>\n",
       "      <td>43</td>\n",
       "      <td>3</td>\n",
       "      <td>16</td>\n",
       "      <td>7</td>\n",
       "      <td>2</td>\n",
       "      <td>8</td>\n",
       "      <td>12</td>\n",
       "      <td>7</td>\n",
       "      <td>17</td>\n",
       "      <td>13</td>\n",
       "      <td>...</td>\n",
       "      <td>5</td>\n",
       "      <td>3</td>\n",
       "      <td>7</td>\n",
       "      <td>6</td>\n",
       "      <td>74</td>\n",
       "      <td>2</td>\n",
       "      <td>33</td>\n",
       "      <td>6</td>\n",
       "      <td>12</td>\n",
       "      <td>4</td>\n",
       "    </tr>\n",
       "    <tr>\n",
       "      <th>1926-08</th>\n",
       "      <td>43</td>\n",
       "      <td>3</td>\n",
       "      <td>16</td>\n",
       "      <td>7</td>\n",
       "      <td>2</td>\n",
       "      <td>8</td>\n",
       "      <td>12</td>\n",
       "      <td>7</td>\n",
       "      <td>17</td>\n",
       "      <td>13</td>\n",
       "      <td>...</td>\n",
       "      <td>5</td>\n",
       "      <td>3</td>\n",
       "      <td>7</td>\n",
       "      <td>6</td>\n",
       "      <td>74</td>\n",
       "      <td>2</td>\n",
       "      <td>33</td>\n",
       "      <td>6</td>\n",
       "      <td>12</td>\n",
       "      <td>4</td>\n",
       "    </tr>\n",
       "    <tr>\n",
       "      <th>1926-09</th>\n",
       "      <td>43</td>\n",
       "      <td>3</td>\n",
       "      <td>16</td>\n",
       "      <td>7</td>\n",
       "      <td>2</td>\n",
       "      <td>8</td>\n",
       "      <td>12</td>\n",
       "      <td>7</td>\n",
       "      <td>17</td>\n",
       "      <td>13</td>\n",
       "      <td>...</td>\n",
       "      <td>5</td>\n",
       "      <td>3</td>\n",
       "      <td>7</td>\n",
       "      <td>6</td>\n",
       "      <td>74</td>\n",
       "      <td>2</td>\n",
       "      <td>33</td>\n",
       "      <td>6</td>\n",
       "      <td>12</td>\n",
       "      <td>4</td>\n",
       "    </tr>\n",
       "    <tr>\n",
       "      <th>1926-10</th>\n",
       "      <td>43</td>\n",
       "      <td>3</td>\n",
       "      <td>16</td>\n",
       "      <td>7</td>\n",
       "      <td>2</td>\n",
       "      <td>8</td>\n",
       "      <td>12</td>\n",
       "      <td>7</td>\n",
       "      <td>17</td>\n",
       "      <td>13</td>\n",
       "      <td>...</td>\n",
       "      <td>5</td>\n",
       "      <td>3</td>\n",
       "      <td>7</td>\n",
       "      <td>6</td>\n",
       "      <td>74</td>\n",
       "      <td>2</td>\n",
       "      <td>33</td>\n",
       "      <td>6</td>\n",
       "      <td>12</td>\n",
       "      <td>4</td>\n",
       "    </tr>\n",
       "    <tr>\n",
       "      <th>1926-11</th>\n",
       "      <td>43</td>\n",
       "      <td>3</td>\n",
       "      <td>16</td>\n",
       "      <td>7</td>\n",
       "      <td>2</td>\n",
       "      <td>8</td>\n",
       "      <td>12</td>\n",
       "      <td>7</td>\n",
       "      <td>17</td>\n",
       "      <td>13</td>\n",
       "      <td>...</td>\n",
       "      <td>5</td>\n",
       "      <td>3</td>\n",
       "      <td>7</td>\n",
       "      <td>6</td>\n",
       "      <td>74</td>\n",
       "      <td>2</td>\n",
       "      <td>33</td>\n",
       "      <td>6</td>\n",
       "      <td>12</td>\n",
       "      <td>4</td>\n",
       "    </tr>\n",
       "  </tbody>\n",
       "</table>\n",
       "<p>5 rows × 30 columns</p>\n",
       "</div>"
      ],
      "text/plain": [
       "         Food  Beer  Smoke  Games  Books  Hshld  Clths  Hlth  Chems  Txtls  \\\n",
       "1926-07    43     3     16      7      2      8     12     7     17     13   \n",
       "1926-08    43     3     16      7      2      8     12     7     17     13   \n",
       "1926-09    43     3     16      7      2      8     12     7     17     13   \n",
       "1926-10    43     3     16      7      2      8     12     7     17     13   \n",
       "1926-11    43     3     16      7      2      8     12     7     17     13   \n",
       "\n",
       "         ...  Telcm  Servs  BusEq  Paper  Trans  Whlsl  Rtail  Meals  Fin  \\\n",
       "1926-07  ...      5      3      7      6     74      2     33      6   12   \n",
       "1926-08  ...      5      3      7      6     74      2     33      6   12   \n",
       "1926-09  ...      5      3      7      6     74      2     33      6   12   \n",
       "1926-10  ...      5      3      7      6     74      2     33      6   12   \n",
       "1926-11  ...      5      3      7      6     74      2     33      6   12   \n",
       "\n",
       "         Other  \n",
       "1926-07      4  \n",
       "1926-08      4  \n",
       "1926-09      4  \n",
       "1926-10      4  \n",
       "1926-11      4  \n",
       "\n",
       "[5 rows x 30 columns]"
      ]
     },
     "execution_count": 4,
     "metadata": {},
     "output_type": "execute_result"
    }
   ],
   "source": [
    "ind_nfirms = rt.get_ind_nfirms()\n",
    "ind_nfirms.head()"
   ]
  },
  {
   "cell_type": "code",
   "execution_count": 8,
   "metadata": {},
   "outputs": [
    {
     "data": {
      "text/plain": [
       "(1110, 30)"
      ]
     },
     "execution_count": 8,
     "metadata": {},
     "output_type": "execute_result"
    }
   ],
   "source": [
    "ind_nfirms.shape"
   ]
  },
  {
   "cell_type": "code",
   "execution_count": 5,
   "metadata": {},
   "outputs": [
    {
     "data": {
      "text/html": [
       "<div>\n",
       "<style scoped>\n",
       "    .dataframe tbody tr th:only-of-type {\n",
       "        vertical-align: middle;\n",
       "    }\n",
       "\n",
       "    .dataframe tbody tr th {\n",
       "        vertical-align: top;\n",
       "    }\n",
       "\n",
       "    .dataframe thead th {\n",
       "        text-align: right;\n",
       "    }\n",
       "</style>\n",
       "<table border=\"1\" class=\"dataframe\">\n",
       "  <thead>\n",
       "    <tr style=\"text-align: right;\">\n",
       "      <th></th>\n",
       "      <th>Food</th>\n",
       "      <th>Beer</th>\n",
       "      <th>Smoke</th>\n",
       "      <th>Games</th>\n",
       "      <th>Books</th>\n",
       "      <th>Hshld</th>\n",
       "      <th>Clths</th>\n",
       "      <th>Hlth</th>\n",
       "      <th>Chems</th>\n",
       "      <th>Txtls</th>\n",
       "      <th>...</th>\n",
       "      <th>Telcm</th>\n",
       "      <th>Servs</th>\n",
       "      <th>BusEq</th>\n",
       "      <th>Paper</th>\n",
       "      <th>Trans</th>\n",
       "      <th>Whlsl</th>\n",
       "      <th>Rtail</th>\n",
       "      <th>Meals</th>\n",
       "      <th>Fin</th>\n",
       "      <th>Other</th>\n",
       "    </tr>\n",
       "  </thead>\n",
       "  <tbody>\n",
       "    <tr>\n",
       "      <th>1926-07</th>\n",
       "      <td>35.98</td>\n",
       "      <td>7.12</td>\n",
       "      <td>59.72</td>\n",
       "      <td>26.41</td>\n",
       "      <td>12.02</td>\n",
       "      <td>22.27</td>\n",
       "      <td>18.36</td>\n",
       "      <td>25.52</td>\n",
       "      <td>57.59</td>\n",
       "      <td>6.18</td>\n",
       "      <td>...</td>\n",
       "      <td>350.36</td>\n",
       "      <td>13.60</td>\n",
       "      <td>56.70</td>\n",
       "      <td>35.35</td>\n",
       "      <td>66.91</td>\n",
       "      <td>1.19</td>\n",
       "      <td>46.65</td>\n",
       "      <td>10.82</td>\n",
       "      <td>18.83</td>\n",
       "      <td>24.25</td>\n",
       "    </tr>\n",
       "    <tr>\n",
       "      <th>1926-08</th>\n",
       "      <td>36.10</td>\n",
       "      <td>6.75</td>\n",
       "      <td>60.47</td>\n",
       "      <td>27.17</td>\n",
       "      <td>13.33</td>\n",
       "      <td>22.13</td>\n",
       "      <td>19.83</td>\n",
       "      <td>25.80</td>\n",
       "      <td>62.13</td>\n",
       "      <td>6.20</td>\n",
       "      <td>...</td>\n",
       "      <td>353.27</td>\n",
       "      <td>14.75</td>\n",
       "      <td>57.74</td>\n",
       "      <td>37.86</td>\n",
       "      <td>67.99</td>\n",
       "      <td>0.90</td>\n",
       "      <td>46.57</td>\n",
       "      <td>11.00</td>\n",
       "      <td>18.88</td>\n",
       "      <td>25.51</td>\n",
       "    </tr>\n",
       "    <tr>\n",
       "      <th>1926-09</th>\n",
       "      <td>37.00</td>\n",
       "      <td>8.58</td>\n",
       "      <td>64.03</td>\n",
       "      <td>27.30</td>\n",
       "      <td>14.67</td>\n",
       "      <td>21.18</td>\n",
       "      <td>19.29</td>\n",
       "      <td>26.73</td>\n",
       "      <td>65.53</td>\n",
       "      <td>6.71</td>\n",
       "      <td>...</td>\n",
       "      <td>360.96</td>\n",
       "      <td>15.05</td>\n",
       "      <td>59.61</td>\n",
       "      <td>36.82</td>\n",
       "      <td>71.02</td>\n",
       "      <td>0.95</td>\n",
       "      <td>46.11</td>\n",
       "      <td>10.94</td>\n",
       "      <td>19.67</td>\n",
       "      <td>27.21</td>\n",
       "    </tr>\n",
       "    <tr>\n",
       "      <th>1926-10</th>\n",
       "      <td>37.14</td>\n",
       "      <td>8.92</td>\n",
       "      <td>64.42</td>\n",
       "      <td>28.76</td>\n",
       "      <td>14.42</td>\n",
       "      <td>21.23</td>\n",
       "      <td>19.03</td>\n",
       "      <td>26.87</td>\n",
       "      <td>68.47</td>\n",
       "      <td>6.82</td>\n",
       "      <td>...</td>\n",
       "      <td>364.16</td>\n",
       "      <td>15.30</td>\n",
       "      <td>59.52</td>\n",
       "      <td>34.77</td>\n",
       "      <td>70.83</td>\n",
       "      <td>0.88</td>\n",
       "      <td>46.15</td>\n",
       "      <td>10.80</td>\n",
       "      <td>19.36</td>\n",
       "      <td>26.16</td>\n",
       "    </tr>\n",
       "    <tr>\n",
       "      <th>1926-11</th>\n",
       "      <td>35.88</td>\n",
       "      <td>8.62</td>\n",
       "      <td>65.08</td>\n",
       "      <td>27.38</td>\n",
       "      <td>15.79</td>\n",
       "      <td>20.14</td>\n",
       "      <td>19.03</td>\n",
       "      <td>26.54</td>\n",
       "      <td>65.06</td>\n",
       "      <td>6.84</td>\n",
       "      <td>...</td>\n",
       "      <td>363.74</td>\n",
       "      <td>14.89</td>\n",
       "      <td>58.74</td>\n",
       "      <td>32.80</td>\n",
       "      <td>68.75</td>\n",
       "      <td>0.74</td>\n",
       "      <td>45.03</td>\n",
       "      <td>10.33</td>\n",
       "      <td>18.35</td>\n",
       "      <td>23.94</td>\n",
       "    </tr>\n",
       "  </tbody>\n",
       "</table>\n",
       "<p>5 rows × 30 columns</p>\n",
       "</div>"
      ],
      "text/plain": [
       "          Food  Beer  Smoke  Games  Books  Hshld  Clths   Hlth  Chems  Txtls  \\\n",
       "1926-07  35.98  7.12  59.72  26.41  12.02  22.27  18.36  25.52  57.59   6.18   \n",
       "1926-08  36.10  6.75  60.47  27.17  13.33  22.13  19.83  25.80  62.13   6.20   \n",
       "1926-09  37.00  8.58  64.03  27.30  14.67  21.18  19.29  26.73  65.53   6.71   \n",
       "1926-10  37.14  8.92  64.42  28.76  14.42  21.23  19.03  26.87  68.47   6.82   \n",
       "1926-11  35.88  8.62  65.08  27.38  15.79  20.14  19.03  26.54  65.06   6.84   \n",
       "\n",
       "         ...   Telcm  Servs  BusEq  Paper  Trans  Whlsl  Rtail  Meals    Fin  \\\n",
       "1926-07  ...  350.36  13.60  56.70  35.35  66.91   1.19  46.65  10.82  18.83   \n",
       "1926-08  ...  353.27  14.75  57.74  37.86  67.99   0.90  46.57  11.00  18.88   \n",
       "1926-09  ...  360.96  15.05  59.61  36.82  71.02   0.95  46.11  10.94  19.67   \n",
       "1926-10  ...  364.16  15.30  59.52  34.77  70.83   0.88  46.15  10.80  19.36   \n",
       "1926-11  ...  363.74  14.89  58.74  32.80  68.75   0.74  45.03  10.33  18.35   \n",
       "\n",
       "         Other  \n",
       "1926-07  24.25  \n",
       "1926-08  25.51  \n",
       "1926-09  27.21  \n",
       "1926-10  26.16  \n",
       "1926-11  23.94  \n",
       "\n",
       "[5 rows x 30 columns]"
      ]
     },
     "execution_count": 5,
     "metadata": {},
     "output_type": "execute_result"
    }
   ],
   "source": [
    "ind_size = rt.get_ind_size()\n",
    "ind_size.head()"
   ]
  },
  {
   "cell_type": "code",
   "execution_count": 7,
   "metadata": {},
   "outputs": [
    {
     "data": {
      "text/plain": [
       "(1110, 30)"
      ]
     },
     "execution_count": 7,
     "metadata": {},
     "output_type": "execute_result"
    }
   ],
   "source": [
    "ind_size.shape"
   ]
  },
  {
   "cell_type": "markdown",
   "metadata": {},
   "source": [
    "## Cálculo da captalização de mercado (_MarketCap_)"
   ]
  },
  {
   "cell_type": "code",
   "execution_count": 10,
   "metadata": {},
   "outputs": [
    {
     "data": {
      "text/plain": [
       "(1110, 30)"
      ]
     },
     "execution_count": 10,
     "metadata": {},
     "output_type": "execute_result"
    }
   ],
   "source": [
    "ind_mktcap = ind_nfirms * ind_size\n",
    "ind_mktcap.shape"
   ]
  },
  {
   "cell_type": "code",
   "execution_count": 11,
   "metadata": {},
   "outputs": [],
   "source": [
    "total_mktcap = ind_mktcap.sum(axis='columns')"
   ]
  },
  {
   "cell_type": "code",
   "execution_count": 14,
   "metadata": {},
   "outputs": [
    {
     "data": {
      "image/png": "[encoded data removed]",
      "text/plain": [
       "<Figure size 720x288 with 1 Axes>"
      ]
     },
     "metadata": {},
     "output_type": "display_data"
    }
   ],
   "source": [
    "ax = total_mktcap.plot(figsize=(10,4))\n",
    "ax.set_title('MarketCap Total')\n",
    "ax.set_xlabel('Data')\n",
    "ax.set_ylabel('Valor')\n",
    "plt.show()"
   ]
  },
  {
   "cell_type": "markdown",
   "metadata": {},
   "source": [
    "## Cálculo dos pesos de _marketcap_ para cada segmnto de mercado"
   ]
  },
  {
   "cell_type": "code",
   "execution_count": 15,
   "metadata": {},
   "outputs": [],
   "source": [
    "ind_capweight = ind_mktcap.divide(total_mktcap, axis='rows')"
   ]
  },
  {
   "cell_type": "code",
   "execution_count": 16,
   "metadata": {},
   "outputs": [
    {
     "data": {
      "text/html": [
       "<div>\n",
       "<style scoped>\n",
       "    .dataframe tbody tr th:only-of-type {\n",
       "        vertical-align: middle;\n",
       "    }\n",
       "\n",
       "    .dataframe tbody tr th {\n",
       "        vertical-align: top;\n",
       "    }\n",
       "\n",
       "    .dataframe thead th {\n",
       "        text-align: right;\n",
       "    }\n",
       "</style>\n",
       "<table border=\"1\" class=\"dataframe\">\n",
       "  <thead>\n",
       "    <tr style=\"text-align: right;\">\n",
       "      <th></th>\n",
       "      <th>Food</th>\n",
       "      <th>Beer</th>\n",
       "      <th>Smoke</th>\n",
       "      <th>Games</th>\n",
       "      <th>Books</th>\n",
       "      <th>Hshld</th>\n",
       "      <th>Clths</th>\n",
       "      <th>Hlth</th>\n",
       "      <th>Chems</th>\n",
       "      <th>Txtls</th>\n",
       "      <th>...</th>\n",
       "      <th>Telcm</th>\n",
       "      <th>Servs</th>\n",
       "      <th>BusEq</th>\n",
       "      <th>Paper</th>\n",
       "      <th>Trans</th>\n",
       "      <th>Whlsl</th>\n",
       "      <th>Rtail</th>\n",
       "      <th>Meals</th>\n",
       "      <th>Fin</th>\n",
       "      <th>Other</th>\n",
       "    </tr>\n",
       "  </thead>\n",
       "  <tbody>\n",
       "    <tr>\n",
       "      <th>1926-07</th>\n",
       "      <td>0.058037</td>\n",
       "      <td>0.000801</td>\n",
       "      <td>0.035844</td>\n",
       "      <td>0.006935</td>\n",
       "      <td>0.000902</td>\n",
       "      <td>0.006683</td>\n",
       "      <td>0.008265</td>\n",
       "      <td>0.006701</td>\n",
       "      <td>0.036726</td>\n",
       "      <td>0.003014</td>\n",
       "      <td>...</td>\n",
       "      <td>0.065714</td>\n",
       "      <td>0.001531</td>\n",
       "      <td>0.014889</td>\n",
       "      <td>0.007956</td>\n",
       "      <td>0.185736</td>\n",
       "      <td>0.000089</td>\n",
       "      <td>0.057748</td>\n",
       "      <td>0.002435</td>\n",
       "      <td>0.008476</td>\n",
       "      <td>0.003639</td>\n",
       "    </tr>\n",
       "    <tr>\n",
       "      <th>1926-08</th>\n",
       "      <td>0.056578</td>\n",
       "      <td>0.000738</td>\n",
       "      <td>0.035264</td>\n",
       "      <td>0.006932</td>\n",
       "      <td>0.000972</td>\n",
       "      <td>0.006453</td>\n",
       "      <td>0.008673</td>\n",
       "      <td>0.006583</td>\n",
       "      <td>0.038497</td>\n",
       "      <td>0.002938</td>\n",
       "      <td>...</td>\n",
       "      <td>0.064380</td>\n",
       "      <td>0.001613</td>\n",
       "      <td>0.014732</td>\n",
       "      <td>0.008280</td>\n",
       "      <td>0.183379</td>\n",
       "      <td>0.000066</td>\n",
       "      <td>0.056014</td>\n",
       "      <td>0.002406</td>\n",
       "      <td>0.008258</td>\n",
       "      <td>0.003719</td>\n",
       "    </tr>\n",
       "    <tr>\n",
       "      <th>1926-09</th>\n",
       "      <td>0.056699</td>\n",
       "      <td>0.000917</td>\n",
       "      <td>0.036510</td>\n",
       "      <td>0.006810</td>\n",
       "      <td>0.001046</td>\n",
       "      <td>0.006038</td>\n",
       "      <td>0.008249</td>\n",
       "      <td>0.006668</td>\n",
       "      <td>0.039700</td>\n",
       "      <td>0.003109</td>\n",
       "      <td>...</td>\n",
       "      <td>0.064318</td>\n",
       "      <td>0.001609</td>\n",
       "      <td>0.014870</td>\n",
       "      <td>0.007873</td>\n",
       "      <td>0.187292</td>\n",
       "      <td>0.000068</td>\n",
       "      <td>0.054227</td>\n",
       "      <td>0.002339</td>\n",
       "      <td>0.008412</td>\n",
       "      <td>0.003879</td>\n",
       "    </tr>\n",
       "    <tr>\n",
       "      <th>1926-10</th>\n",
       "      <td>0.056920</td>\n",
       "      <td>0.000954</td>\n",
       "      <td>0.036736</td>\n",
       "      <td>0.007175</td>\n",
       "      <td>0.001028</td>\n",
       "      <td>0.006053</td>\n",
       "      <td>0.008139</td>\n",
       "      <td>0.006704</td>\n",
       "      <td>0.041486</td>\n",
       "      <td>0.003160</td>\n",
       "      <td>...</td>\n",
       "      <td>0.064896</td>\n",
       "      <td>0.001636</td>\n",
       "      <td>0.014850</td>\n",
       "      <td>0.007436</td>\n",
       "      <td>0.186812</td>\n",
       "      <td>0.000063</td>\n",
       "      <td>0.054280</td>\n",
       "      <td>0.002310</td>\n",
       "      <td>0.008280</td>\n",
       "      <td>0.003730</td>\n",
       "    </tr>\n",
       "    <tr>\n",
       "      <th>1926-11</th>\n",
       "      <td>0.056725</td>\n",
       "      <td>0.000951</td>\n",
       "      <td>0.038285</td>\n",
       "      <td>0.007047</td>\n",
       "      <td>0.001161</td>\n",
       "      <td>0.005924</td>\n",
       "      <td>0.008396</td>\n",
       "      <td>0.006831</td>\n",
       "      <td>0.040665</td>\n",
       "      <td>0.003269</td>\n",
       "      <td>...</td>\n",
       "      <td>0.066868</td>\n",
       "      <td>0.001642</td>\n",
       "      <td>0.015118</td>\n",
       "      <td>0.007236</td>\n",
       "      <td>0.187051</td>\n",
       "      <td>0.000054</td>\n",
       "      <td>0.054635</td>\n",
       "      <td>0.002279</td>\n",
       "      <td>0.008096</td>\n",
       "      <td>0.003521</td>\n",
       "    </tr>\n",
       "  </tbody>\n",
       "</table>\n",
       "<p>5 rows × 30 columns</p>\n",
       "</div>"
      ],
      "text/plain": [
       "             Food      Beer     Smoke     Games     Books     Hshld     Clths  \\\n",
       "1926-07  0.058037  0.000801  0.035844  0.006935  0.000902  0.006683  0.008265   \n",
       "1926-08  0.056578  0.000738  0.035264  0.006932  0.000972  0.006453  0.008673   \n",
       "1926-09  0.056699  0.000917  0.036510  0.006810  0.001046  0.006038  0.008249   \n",
       "1926-10  0.056920  0.000954  0.036736  0.007175  0.001028  0.006053  0.008139   \n",
       "1926-11  0.056725  0.000951  0.038285  0.007047  0.001161  0.005924  0.008396   \n",
       "\n",
       "             Hlth     Chems     Txtls  ...     Telcm     Servs     BusEq  \\\n",
       "1926-07  0.006701  0.036726  0.003014  ...  0.065714  0.001531  0.014889   \n",
       "1926-08  0.006583  0.038497  0.002938  ...  0.064380  0.001613  0.014732   \n",
       "1926-09  0.006668  0.039700  0.003109  ...  0.064318  0.001609  0.014870   \n",
       "1926-10  0.006704  0.041486  0.003160  ...  0.064896  0.001636  0.014850   \n",
       "1926-11  0.006831  0.040665  0.003269  ...  0.066868  0.001642  0.015118   \n",
       "\n",
       "            Paper     Trans     Whlsl     Rtail     Meals       Fin     Other  \n",
       "1926-07  0.007956  0.185736  0.000089  0.057748  0.002435  0.008476  0.003639  \n",
       "1926-08  0.008280  0.183379  0.000066  0.056014  0.002406  0.008258  0.003719  \n",
       "1926-09  0.007873  0.187292  0.000068  0.054227  0.002339  0.008412  0.003879  \n",
       "1926-10  0.007436  0.186812  0.000063  0.054280  0.002310  0.008280  0.003730  \n",
       "1926-11  0.007236  0.187051  0.000054  0.054635  0.002279  0.008096  0.003521  \n",
       "\n",
       "[5 rows x 30 columns]"
      ]
     },
     "execution_count": 16,
     "metadata": {},
     "output_type": "execute_result"
    }
   ],
   "source": [
    "ind_capweight.head()"
   ]
  },
  {
   "cell_type": "code",
   "execution_count": 17,
   "metadata": {},
   "outputs": [
    {
     "data": {
      "image/png": "[encoded data removed]",
      "text/plain": [
       "<Figure size 720x288 with 1 Axes>"
      ]
     },
     "metadata": {},
     "output_type": "display_data"
    }
   ],
   "source": [
    "ax = ind_capweight[['Fin', 'Steel']].plot(figsize=(10,4))\n",
    "ax.set_title('Pesos de MarketCap para os segmentos de Finance e Steel')\n",
    "ax.set_xlabel('Data')\n",
    "ax.set_ylabel('Cap Weight')\n",
    "plt.show()"
   ]
  },
  {
   "cell_type": "code",
   "execution_count": 18,
   "metadata": {},
   "outputs": [],
   "source": [
    "total_market_return = (ind_capweight * ind_return).sum(axis='columns')"
   ]
  },
  {
   "cell_type": "code",
   "execution_count": 19,
   "metadata": {},
   "outputs": [
    {
     "data": {
      "text/plain": [
       "<AxesSubplot:>"
      ]
     },
     "execution_count": 19,
     "metadata": {},
     "output_type": "execute_result"
    },
    {
     "data": {
      "image/png": "[encoded data removed]",
      "text/plain": [
       "<Figure size 576x396 with 1 Axes>"
      ]
     },
     "metadata": {},
     "output_type": "display_data"
    }
   ],
   "source": [
    "total_market_return.plot()"
   ]
  },
  {
   "cell_type": "code",
   "execution_count": 21,
   "metadata": {},
   "outputs": [],
   "source": [
    "total_market_index = rt.drawdown(total_market_return).Wealth"
   ]
  },
  {
   "cell_type": "code",
   "execution_count": 24,
   "metadata": {},
   "outputs": [
    {
     "data": {
      "text/plain": [
       "<AxesSubplot:title={'center':'Total Market CapWeighted Index 1926-2018'}>"
      ]
     },
     "execution_count": 24,
     "metadata": {},
     "output_type": "execute_result"
    },
    {
     "data": {
      "image/png": "[encoded data removed]",
      "text/plain": [
       "<Figure size 720x288 with 1 Axes>"
      ]
     },
     "metadata": {},
     "output_type": "display_data"
    }
   ],
   "source": [
    "total_market_index.plot(figsize=(10,4), title='Total Market CapWeighted Index 1926-2018')"
   ]
  },
  {
   "cell_type": "code",
   "execution_count": 30,
   "metadata": {},
   "outputs": [
    {
     "data": {
      "image/png": "[encoded data removed]",
      "text/plain": [
       "<Figure size 720x288 with 1 Axes>"
      ]
     },
     "metadata": {},
     "output_type": "display_data"
    }
   ],
   "source": [
    "total_market_index['1980':].plot(figsize=(10,4), label='Total Market CapWeighted', title='Total Market CapWeighted 1980-2018')\n",
    "total_market_index['1980':].rolling(window=36).mean().plot(figsize=(10,4), label='Média Móvel de 3 anos')\n",
    "plt.legend()\n",
    "plt.show()"
   ]
  },
  {
   "cell_type": "code",
   "execution_count": 27,
   "metadata": {},
   "outputs": [
    {
     "data": {
      "text/plain": [
       "<AxesSubplot:title={'center':'Média Móvel de 3 anos do Total Market CapWeighted Index 1980-2018'}>"
      ]
     },
     "execution_count": 27,
     "metadata": {},
     "output_type": "execute_result"
    },
    {
     "data": {
      "image/png": "[encoded data removed]",
      "text/plain": [
       "<Figure size 720x288 with 1 Axes>"
      ]
     },
     "metadata": {},
     "output_type": "display_data"
    }
   ],
   "source": []
  },
  {
   "cell_type": "code",
   "execution_count": null,
   "metadata": {},
   "outputs": [],
   "source": []
  }
 ],
 "metadata": {
  "interpreter": {
   "hash": "59aab24ace7f92780df8f855e98b8b8ce07c1bb23de1c4eeadc23a13ada391fc"
  },
  "kernelspec": {
   "display_name": "Python 3.8.12 64-bit ('venv': venv)",
   "language": "python",
   "name": "python3"
  },
  "language_info": {
   "codemirror_mode": {
    "name": "ipython",
    "version": 3
   },
   "file_extension": ".py",
   "mimetype": "text/x-python",
   "name": "python",
   "nbconvert_exporter": "python",
   "pygments_lexer": "ipython3",
   "version": "3.8.12"
  },
  "orig_nbformat": 4
 },
 "nbformat": 4,
 "nbformat_minor": 2
}
